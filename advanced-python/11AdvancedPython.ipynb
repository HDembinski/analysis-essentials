{
 "cells": [
  {
   "cell_type": "markdown",
   "metadata": {},
   "source": [
    "# Advanced Python Concepts\n",
    "\n",
    "In this tutorial, a few advanced concepts (not class related) are introduced. This includes\n",
    "\n",
    "- packing and unpacking\n",
    "- context manager\n",
    "- decorator and factories\n",
    "- exceptions"
   ]
  },
  {
   "cell_type": "code",
   "execution_count": 1,
   "metadata": {
    "execution": {
     "iopub.execute_input": "2022-09-05T10:15:26.454739Z",
     "iopub.status.busy": "2022-09-05T10:15:26.454476Z",
     "iopub.status.idle": "2022-09-05T10:15:26.461034Z",
     "shell.execute_reply": "2022-09-05T10:15:26.460407Z"
    }
   },
   "outputs": [],
   "source": [
    "import time"
   ]
  },
  {
   "cell_type": "markdown",
   "metadata": {},
   "source": [
    "## Packing and unpacking of values\n",
    "\n",
    "Using `*` or `**` we can pack/unpack list-like objects and dict-like objects, respectively. They act as a \"removal\" of the parenthesis when situated on the right and as an \"adder\" of parenthesis when situated on the left of the assigmenemt operator (`=`).\n",
    "\n",
    "Let's play around..."
   ]
  },
  {
   "cell_type": "code",
   "execution_count": 2,
   "metadata": {
    "execution": {
     "iopub.execute_input": "2022-09-05T10:15:26.464133Z",
     "iopub.status.busy": "2022-09-05T10:15:26.463738Z",
     "iopub.status.idle": "2022-09-05T10:15:26.466882Z",
     "shell.execute_reply": "2022-09-05T10:15:26.466250Z"
    }
   },
   "outputs": [],
   "source": [
    "a, c, *b = [3, 4, 4.5, 5, 6]"
   ]
  },
  {
   "cell_type": "code",
   "execution_count": 3,
   "metadata": {
    "execution": {
     "iopub.execute_input": "2022-09-05T10:15:26.469604Z",
     "iopub.status.busy": "2022-09-05T10:15:26.469200Z",
     "iopub.status.idle": "2022-09-05T10:15:26.477441Z",
     "shell.execute_reply": "2022-09-05T10:15:26.476840Z"
    }
   },
   "outputs": [
    {
     "data": {
      "text/plain": [
       "[4.5, 5, 6]"
      ]
     },
     "execution_count": 3,
     "metadata": {},
     "output_type": "execute_result"
    }
   ],
   "source": [
    "b"
   ]
  },
  {
   "cell_type": "markdown",
   "metadata": {},
   "source": [
    "As can be seen, b catches now all the remaining elements in a list. Interesting to see is also the special case if no element is left."
   ]
  },
  {
   "cell_type": "code",
   "execution_count": 4,
   "metadata": {
    "execution": {
     "iopub.execute_input": "2022-09-05T10:15:26.481226Z",
     "iopub.status.busy": "2022-09-05T10:15:26.480819Z",
     "iopub.status.idle": "2022-09-05T10:15:26.483925Z",
     "shell.execute_reply": "2022-09-05T10:15:26.483312Z"
    }
   },
   "outputs": [],
   "source": [
    "d1, d2, *d3, d4 = [1, 2, 3]  # nothing left for d3"
   ]
  },
  {
   "cell_type": "code",
   "execution_count": 5,
   "metadata": {
    "execution": {
     "iopub.execute_input": "2022-09-05T10:15:26.486410Z",
     "iopub.status.busy": "2022-09-05T10:15:26.486203Z",
     "iopub.status.idle": "2022-09-05T10:15:26.489757Z",
     "shell.execute_reply": "2022-09-05T10:15:26.489140Z"
    }
   },
   "outputs": [
    {
     "data": {
      "text/plain": [
       "[]"
      ]
     },
     "execution_count": 5,
     "metadata": {},
     "output_type": "execute_result"
    }
   ],
   "source": [
    "d3"
   ]
  },
  {
   "cell_type": "markdown",
   "metadata": {},
   "source": [
    "This is simply an empty list. However, this has the advantage that we know that it is _always_ a list."
   ]
  },
  {
   "cell_type": "code",
   "execution_count": 6,
   "metadata": {
    "execution": {
     "iopub.execute_input": "2022-09-05T10:15:26.493061Z",
     "iopub.status.busy": "2022-09-05T10:15:26.492727Z",
     "iopub.status.idle": "2022-09-05T10:15:26.495674Z",
     "shell.execute_reply": "2022-09-05T10:15:26.495060Z"
    }
   },
   "outputs": [],
   "source": [
    "a = [3, 4, 5]"
   ]
  },
  {
   "cell_type": "markdown",
   "metadata": {},
   "source": [
    "Multiple unpackings can be added together (however, the other way around does not work: multiple _packings_ are not possible as it is ill-defined which variable would get how many elements)."
   ]
  },
  {
   "cell_type": "code",
   "execution_count": 7,
   "metadata": {
    "execution": {
     "iopub.execute_input": "2022-09-05T10:15:26.498614Z",
     "iopub.status.busy": "2022-09-05T10:15:26.498209Z",
     "iopub.status.idle": "2022-09-05T10:15:26.501210Z",
     "shell.execute_reply": "2022-09-05T10:15:26.500584Z"
    }
   },
   "outputs": [],
   "source": [
    "d, e, f, g, h, i = *a, *b"
   ]
  },
  {
   "cell_type": "markdown",
   "metadata": {},
   "source": [
    "Now we should be able to understand the `*args` and `**kwargs` for functions. Let's look at it:"
   ]
  },
  {
   "cell_type": "code",
   "execution_count": 8,
   "metadata": {
    "execution": {
     "iopub.execute_input": "2022-09-05T10:15:26.504023Z",
     "iopub.status.busy": "2022-09-05T10:15:26.503619Z",
     "iopub.status.idle": "2022-09-05T10:15:26.506769Z",
     "shell.execute_reply": "2022-09-05T10:15:26.506145Z"
    }
   },
   "outputs": [],
   "source": [
    "def func(*args, **kwargs):\n",
    "    print(f'args are {args}')\n",
    "    print(f\"kwargs are {kwargs}\")"
   ]
  },
  {
   "cell_type": "code",
   "execution_count": 9,
   "metadata": {
    "execution": {
     "iopub.execute_input": "2022-09-05T10:15:26.509479Z",
     "iopub.status.busy": "2022-09-05T10:15:26.509077Z",
     "iopub.status.idle": "2022-09-05T10:15:26.514851Z",
     "shell.execute_reply": "2022-09-05T10:15:26.514346Z"
    }
   },
   "outputs": [
    {
     "name": "stdout",
     "output_type": "stream",
     "text": [
      "args are (1, 3, 4, 'a', 'b')\n",
      "kwargs are {}\n"
     ]
    }
   ],
   "source": [
    "mykwargs = {'a': 5, 'b': 3}\n",
    "myargs = [1, 3, 4]\n",
    "func(*myargs, *mykwargs)"
   ]
  },
  {
   "cell_type": "code",
   "execution_count": 10,
   "metadata": {
    "execution": {
     "iopub.execute_input": "2022-09-05T10:15:26.517640Z",
     "iopub.status.busy": "2022-09-05T10:15:26.517313Z",
     "iopub.status.idle": "2022-09-05T10:15:26.521578Z",
     "shell.execute_reply": "2022-09-05T10:15:26.521068Z"
    }
   },
   "outputs": [
    {
     "name": "stdout",
     "output_type": "stream",
     "text": [
      "args are (5,)\n",
      "kwargs are {'a': 4}\n"
     ]
    }
   ],
   "source": [
    "func(5, a=4)"
   ]
  },
  {
   "cell_type": "code",
   "execution_count": 11,
   "metadata": {
    "execution": {
     "iopub.execute_input": "2022-09-05T10:15:26.524386Z",
     "iopub.status.busy": "2022-09-05T10:15:26.523973Z",
     "iopub.status.idle": "2022-09-05T10:15:26.528014Z",
     "shell.execute_reply": "2022-09-05T10:15:26.527323Z"
    }
   },
   "outputs": [],
   "source": [
    "# play around with it!"
   ]
  },
  {
   "cell_type": "markdown",
   "metadata": {},
   "source": [
    "## Context manager\n",
    "\n",
    "A context manager is an object that responds to a `with` statement. It may returns something. The basic idea is that some action is performed when entering a context and again when exiting it.\n",
    "\n",
    "```\n",
    "with context as var:\n",
    "    # do something\n",
    "```\n",
    "translates to\n",
    "```\n",
    "# execute context entering code\n",
    "var = return_from_context_entering_code\n",
    "# do something\n",
    "# execute context leaving code\n",
    "```\n",
    "\n",
    "The great advantage here is that the \"leaving code\" is automatically executed whenever we step out of the context!\n",
    "\n",
    "This proved to be incredibly useful when operations have cleanup code that we need to execute yet that is tedious to write manually and can be forgotten.\n",
    "\n",
    "### Using `yield`\n",
    "\n",
    "One way to create a context manager is to have a function that has a `yield`.\n",
    "\n",
    "_What is `yield`?_: It's like a return, except that the executioin stops at the `yield`, lets other code execute and, at some point, **continues** again where the yield was. Examples are:\n",
    "- iterator: a function that yields elements. Everytime it is called, it is supposed to yield an element and then continue from there\n",
    "- asynchronous programing: it stops and waits until something else is finished\n",
    "- in the context manager, as we will see"
   ]
  },
  {
   "cell_type": "code",
   "execution_count": 12,
   "metadata": {
    "execution": {
     "iopub.execute_input": "2022-09-05T10:15:26.530921Z",
     "iopub.status.busy": "2022-09-05T10:15:26.530440Z",
     "iopub.status.idle": "2022-09-05T10:15:26.534658Z",
     "shell.execute_reply": "2022-09-05T10:15:26.534119Z"
    }
   },
   "outputs": [],
   "source": [
    "import contextlib\n",
    "\n",
    "\n",
    "@contextlib.contextmanager\n",
    "def printer(x):\n",
    "    print(f'we just entered the context manager and will yield {x}')\n",
    "    yield x\n",
    "    print(f'Finishing the context manager, exiting')"
   ]
  },
  {
   "cell_type": "code",
   "execution_count": 13,
   "metadata": {
    "execution": {
     "iopub.execute_input": "2022-09-05T10:15:26.537384Z",
     "iopub.status.busy": "2022-09-05T10:15:26.536997Z",
     "iopub.status.idle": "2022-09-05T10:15:26.542517Z",
     "shell.execute_reply": "2022-09-05T10:15:26.541798Z"
    }
   },
   "outputs": [
    {
     "name": "stdout",
     "output_type": "stream",
     "text": [
      "we just entered the context manager and will yield 5\n",
      "we're inside, with number=5\n",
      "Finishing the context manager, exiting\n",
      "left manager\n"
     ]
    }
   ],
   "source": [
    "with printer(5) as number:\n",
    "    print(f\"we're inside, with number={number}\")\n",
    "print(\"left manager\")"
   ]
  },
  {
   "cell_type": "markdown",
   "metadata": {},
   "source": [
    "#### Where is this useful\n",
    "\n",
    "Basically with stateful objects. This includes anything that can be set and changed (mutable objects)."
   ]
  },
  {
   "cell_type": "code",
   "execution_count": 14,
   "metadata": {
    "execution": {
     "iopub.execute_input": "2022-09-05T10:15:26.545382Z",
     "iopub.status.busy": "2022-09-05T10:15:26.545035Z",
     "iopub.status.idle": "2022-09-05T10:15:26.549027Z",
     "shell.execute_reply": "2022-09-05T10:15:26.548502Z"
    }
   },
   "outputs": [],
   "source": [
    "with open('tmp.txt', 'w') as textfile:\n",
    "    textfile.write('asdf')"
   ]
  },
  {
   "cell_type": "markdown",
   "metadata": {},
   "source": [
    "The implementation roughly looks like this:"
   ]
  },
  {
   "cell_type": "code",
   "execution_count": 15,
   "metadata": {
    "execution": {
     "iopub.execute_input": "2022-09-05T10:15:26.551901Z",
     "iopub.status.busy": "2022-09-05T10:15:26.551562Z",
     "iopub.status.idle": "2022-09-05T10:15:26.555714Z",
     "shell.execute_reply": "2022-09-05T10:15:26.555177Z"
    }
   },
   "outputs": [],
   "source": [
    "import contextlib\n",
    "\n",
    "\n",
    "@contextlib.contextmanager\n",
    "def myopen(f, mode):\n",
    "    opened = open(f, mode)\n",
    "    yield opened\n",
    "    opened.close()"
   ]
  },
  {
   "cell_type": "markdown",
   "metadata": {},
   "source": [
    "**Exercise**: create a context manager that _temporarily_ sets a `'value'` key to 42 of a dict and switches it back to the old value on exit"
   ]
  },
  {
   "cell_type": "code",
   "execution_count": 16,
   "metadata": {
    "execution": {
     "iopub.execute_input": "2022-09-05T10:15:26.558610Z",
     "iopub.status.busy": "2022-09-05T10:15:26.558273Z",
     "iopub.status.idle": "2022-09-05T10:15:26.561279Z",
     "shell.execute_reply": "2022-09-05T10:15:26.560682Z"
    }
   },
   "outputs": [],
   "source": [
    "testdict = {'value': 11, 'name': 'the answer'}"
   ]
  },
  {
   "cell_type": "markdown",
   "metadata": {},
   "source": [
    "to be invoked like this\n",
    "\n",
    "```python\n",
    "with manager(testdict) as obj:\n",
    "    # here the value is 42\n",
    "# here the value is 11\n",
    "```"
   ]
  },
  {
   "cell_type": "code",
   "execution_count": 17,
   "metadata": {
    "execution": {
     "iopub.execute_input": "2022-09-05T10:15:26.564105Z",
     "iopub.status.busy": "2022-09-05T10:15:26.563828Z",
     "iopub.status.idle": "2022-09-05T10:15:26.568708Z",
     "shell.execute_reply": "2022-09-05T10:15:26.568144Z"
    }
   },
   "outputs": [
    {
     "name": "stdout",
     "output_type": "stream",
     "text": [
      "inside\n",
      "5\n"
     ]
    }
   ],
   "source": [
    "# SOLUTION\n",
    "@contextlib.contextmanager\n",
    "def func(x):\n",
    "    yield x\n",
    "\n",
    "with func(5) as var1:\n",
    "    print('inside')\n",
    "print(var1)"
   ]
  },
  {
   "cell_type": "code",
   "execution_count": 18,
   "metadata": {
    "execution": {
     "iopub.execute_input": "2022-09-05T10:15:26.571318Z",
     "iopub.status.busy": "2022-09-05T10:15:26.570998Z",
     "iopub.status.idle": "2022-09-05T10:15:26.575813Z",
     "shell.execute_reply": "2022-09-05T10:15:26.574550Z"
    }
   },
   "outputs": [],
   "source": [
    "@contextlib.contextmanager\n",
    "def set_answer(obj):\n",
    "    old_value = obj.get('value')\n",
    "    obj['value'] = 42\n",
    "    yield obj\n",
    "    obj['value'] = old_value"
   ]
  },
  {
   "cell_type": "markdown",
   "metadata": {},
   "source": [
    "## Using a class\n",
    "\n",
    "Instead of using the `yield`, we can have advanced control over the enter and exit methods by creating a class and implementing the two methods `__enter__` and `__exit__`"
   ]
  },
  {
   "cell_type": "code",
   "execution_count": 19,
   "metadata": {
    "execution": {
     "iopub.execute_input": "2022-09-05T10:15:26.578822Z",
     "iopub.status.busy": "2022-09-05T10:15:26.578322Z",
     "iopub.status.idle": "2022-09-05T10:15:26.583233Z",
     "shell.execute_reply": "2022-09-05T10:15:26.582565Z"
    }
   },
   "outputs": [],
   "source": [
    "class MyContext:\n",
    "\n",
    "    def __init__(self, x):\n",
    "        self.x = x\n",
    "\n",
    "    def __enter__(self):\n",
    "        x = self.x\n",
    "        print('entered')\n",
    "        return x ** 2\n",
    "\n",
    "    def __exit__(self, type_, value, traceback):  # but let's not go into things in detail here\n",
    "        self.x = 42\n",
    "        print('exited')"
   ]
  },
  {
   "cell_type": "code",
   "execution_count": 20,
   "metadata": {
    "execution": {
     "iopub.execute_input": "2022-09-05T10:15:26.586220Z",
     "iopub.status.busy": "2022-09-05T10:15:26.585688Z",
     "iopub.status.idle": "2022-09-05T10:15:26.590054Z",
     "shell.execute_reply": "2022-09-05T10:15:26.589487Z"
    }
   },
   "outputs": [
    {
     "name": "stdout",
     "output_type": "stream",
     "text": [
      "entered\n",
      "25\n",
      "exited\n"
     ]
    }
   ],
   "source": [
    "with MyContext(5) as x:\n",
    "    print(x)"
   ]
  },
  {
   "cell_type": "markdown",
   "metadata": {},
   "source": [
    "While a class is way more powerful and offers ways to catch exceptions and more in the exit, ususally the functional way is enough and should then be preferred. If it doesn't give you enough flexibility, remember the class, look it up and figure out all the things needed."
   ]
  },
  {
   "cell_type": "markdown",
   "metadata": {},
   "source": [
    "## Decorators and factories\n",
    "\n",
    "Sometimes we can't write a function fully by hand but want to create it programatically. This pattern is called a \"factory\". To achieve this, instead of having a function that returns an integer (an object), a list (an object), a dict (an object) or an array (an object), we return a function (an object). We see that the concept of Python, \"everything is an object\", starts being very useful here."
   ]
  },
  {
   "cell_type": "code",
   "execution_count": 21,
   "metadata": {
    "execution": {
     "iopub.execute_input": "2022-09-05T10:15:26.593423Z",
     "iopub.status.busy": "2022-09-05T10:15:26.592911Z",
     "iopub.status.idle": "2022-09-05T10:15:26.596763Z",
     "shell.execute_reply": "2022-09-05T10:15:26.596237Z"
    }
   },
   "outputs": [],
   "source": [
    "def make_power_func(power):\n",
    "    def func(x):\n",
    "        return x ** power\n",
    "    return func"
   ]
  },
  {
   "cell_type": "code",
   "execution_count": 22,
   "metadata": {
    "execution": {
     "iopub.execute_input": "2022-09-05T10:15:26.599807Z",
     "iopub.status.busy": "2022-09-05T10:15:26.599302Z",
     "iopub.status.idle": "2022-09-05T10:15:26.603029Z",
     "shell.execute_reply": "2022-09-05T10:15:26.602482Z"
    }
   },
   "outputs": [],
   "source": [
    "pow3 = make_power_func(3)"
   ]
  },
  {
   "cell_type": "code",
   "execution_count": 23,
   "metadata": {
    "execution": {
     "iopub.execute_input": "2022-09-05T10:15:26.605927Z",
     "iopub.status.busy": "2022-09-05T10:15:26.605389Z",
     "iopub.status.idle": "2022-09-05T10:15:26.610746Z",
     "shell.execute_reply": "2022-09-05T10:15:26.610223Z"
    }
   },
   "outputs": [
    {
     "data": {
      "text/plain": [
       "8"
      ]
     },
     "execution_count": 23,
     "metadata": {},
     "output_type": "execute_result"
    }
   ],
   "source": [
    "pow3(2)"
   ]
  },
  {
   "cell_type": "code",
   "execution_count": 24,
   "metadata": {
    "execution": {
     "iopub.execute_input": "2022-09-05T10:15:26.613758Z",
     "iopub.status.busy": "2022-09-05T10:15:26.613239Z",
     "iopub.status.idle": "2022-09-05T10:15:26.617992Z",
     "shell.execute_reply": "2022-09-05T10:15:26.616789Z"
    }
   },
   "outputs": [],
   "source": [
    "def make_power_func(power):\n",
    "    def func(x):\n",
    "        return x ** power\n",
    "    power = 42\n",
    "    return func"
   ]
  },
  {
   "cell_type": "code",
   "execution_count": 25,
   "metadata": {
    "execution": {
     "iopub.execute_input": "2022-09-05T10:15:26.620988Z",
     "iopub.status.busy": "2022-09-05T10:15:26.620481Z",
     "iopub.status.idle": "2022-09-05T10:15:26.624877Z",
     "shell.execute_reply": "2022-09-05T10:15:26.623637Z"
    }
   },
   "outputs": [],
   "source": [
    "pow3 = make_power_func(3)"
   ]
  },
  {
   "cell_type": "code",
   "execution_count": 26,
   "metadata": {
    "execution": {
     "iopub.execute_input": "2022-09-05T10:15:26.627322Z",
     "iopub.status.busy": "2022-09-05T10:15:26.627122Z",
     "iopub.status.idle": "2022-09-05T10:15:26.630369Z",
     "shell.execute_reply": "2022-09-05T10:15:26.629897Z"
    }
   },
   "outputs": [
    {
     "data": {
      "text/plain": [
       "4398046511104"
      ]
     },
     "execution_count": 26,
     "metadata": {},
     "output_type": "execute_result"
    }
   ],
   "source": [
    "pow3(2)"
   ]
  },
  {
   "cell_type": "code",
   "execution_count": 27,
   "metadata": {
    "execution": {
     "iopub.execute_input": "2022-09-05T10:15:26.633080Z",
     "iopub.status.busy": "2022-09-05T10:15:26.632877Z",
     "iopub.status.idle": "2022-09-05T10:15:26.636990Z",
     "shell.execute_reply": "2022-09-05T10:15:26.635711Z"
    }
   },
   "outputs": [],
   "source": [
    "# Exercise: test it here"
   ]
  },
  {
   "cell_type": "markdown",
   "metadata": {},
   "source": [
    "Another example is to create a timing wrapper. **Exercise**: create a timing function that can be used as follows\n",
    "\n",
    "```\n",
    "timed_pow3 = fime_func(pow3)\n",
    "pow3(...)\n",
    "```"
   ]
  },
  {
   "cell_type": "markdown",
   "metadata": {},
   "source": [
    "HINT, scetch of solution\n",
    "```python\n",
    "def time_func(func):\n",
    "    def new_func(...):\n",
    "        print('start')\n",
    "        func(...)\n",
    "        print('stop')\n",
    "    return new_func\n",
    "```"
   ]
  },
  {
   "cell_type": "code",
   "execution_count": 28,
   "metadata": {
    "execution": {
     "iopub.execute_input": "2022-09-05T10:15:26.640045Z",
     "iopub.status.busy": "2022-09-05T10:15:26.639713Z",
     "iopub.status.idle": "2022-09-05T10:15:26.644366Z",
     "shell.execute_reply": "2022-09-05T10:15:26.643817Z"
    }
   },
   "outputs": [],
   "source": [
    "# SOLUTION\n",
    "def timed_func(func):\n",
    "    def wrapped_func(*args, **kwargs):\n",
    "        print(args)\n",
    "        print(kwargs)\n",
    "        start = time.time()\n",
    "        func(*args, **kwargs)\n",
    "        end = time.time()\n",
    "        print(f'time needed: {end - start}')\n",
    "    return wrapped_func"
   ]
  },
  {
   "cell_type": "code",
   "execution_count": 29,
   "metadata": {
    "execution": {
     "iopub.execute_input": "2022-09-05T10:15:26.647347Z",
     "iopub.status.busy": "2022-09-05T10:15:26.646840Z",
     "iopub.status.idle": "2022-09-05T10:15:26.650517Z",
     "shell.execute_reply": "2022-09-05T10:15:26.649983Z"
    }
   },
   "outputs": [],
   "source": [
    "def add_notime(x, y):\n",
    "    return x + y"
   ]
  },
  {
   "cell_type": "code",
   "execution_count": 30,
   "metadata": {
    "execution": {
     "iopub.execute_input": "2022-09-05T10:15:26.653332Z",
     "iopub.status.busy": "2022-09-05T10:15:26.652927Z",
     "iopub.status.idle": "2022-09-05T10:15:26.656658Z",
     "shell.execute_reply": "2022-09-05T10:15:26.656114Z"
    }
   },
   "outputs": [],
   "source": [
    "add_timed = timed_func(add_notime)"
   ]
  },
  {
   "cell_type": "code",
   "execution_count": 31,
   "metadata": {
    "execution": {
     "iopub.execute_input": "2022-09-05T10:15:26.659587Z",
     "iopub.status.busy": "2022-09-05T10:15:26.659277Z",
     "iopub.status.idle": "2022-09-05T10:15:26.663827Z",
     "shell.execute_reply": "2022-09-05T10:15:26.662429Z"
    }
   },
   "outputs": [],
   "source": [
    "import time"
   ]
  },
  {
   "cell_type": "code",
   "execution_count": 32,
   "metadata": {
    "execution": {
     "iopub.execute_input": "2022-09-05T10:15:26.666869Z",
     "iopub.status.busy": "2022-09-05T10:15:26.666310Z",
     "iopub.status.idle": "2022-09-05T10:15:26.671006Z",
     "shell.execute_reply": "2022-09-05T10:15:26.670457Z"
    }
   },
   "outputs": [
    {
     "name": "stdout",
     "output_type": "stream",
     "text": [
      "()\n",
      "{'y': 4, 'x': 5}\n",
      "time needed: 9.5367431640625e-07\n"
     ]
    }
   ],
   "source": [
    "add_timed(y=4, x=5)"
   ]
  },
  {
   "cell_type": "code",
   "execution_count": 33,
   "metadata": {
    "execution": {
     "iopub.execute_input": "2022-09-05T10:15:26.674002Z",
     "iopub.status.busy": "2022-09-05T10:15:26.673473Z",
     "iopub.status.idle": "2022-09-05T10:15:26.676961Z",
     "shell.execute_reply": "2022-09-05T10:15:26.676422Z"
    }
   },
   "outputs": [],
   "source": [
    "# test it here"
   ]
  },
  {
   "cell_type": "markdown",
   "metadata": {},
   "source": [
    "### Decorator\n",
    "\n",
    "There is another way, just syntactical sugar, to make this automatic: a decorator. It is invoked as below"
   ]
  },
  {
   "cell_type": "code",
   "execution_count": 34,
   "metadata": {
    "execution": {
     "iopub.execute_input": "2022-09-05T10:15:26.679437Z",
     "iopub.status.busy": "2022-09-05T10:15:26.679228Z",
     "iopub.status.idle": "2022-09-05T10:15:26.682998Z",
     "shell.execute_reply": "2022-09-05T10:15:26.682453Z"
    }
   },
   "outputs": [],
   "source": [
    "@timed_func\n",
    "def add(x, y):\n",
    "    return x + y"
   ]
  },
  {
   "cell_type": "markdown",
   "metadata": {},
   "source": [
    "Again, as for the contextmanager, we can also use a class here to give more flexibility and create a decorator that takes _arguments_."
   ]
  },
  {
   "cell_type": "markdown",
   "metadata": {},
   "source": [
    "## Exceptions\n",
    "\n",
    "Exceptions are used to stop the execution at a certain point and surface to higher stacks in the code, e.g. to go up in the call stack. A typical use-case is when an error is encountered, such as the wrong type of object is given.\n",
    "Exceptions can also be caught in a `try ... except ...` block in order to handle the exception.\n",
    "\n",
    "There are a few built-in exceptions, the most common ones are:\n",
    "- `TypeError`: object has the wrong type, e.g. string instead of float\n",
    "- `ValueError`: the value of the object is illegal, e.g. negative but should be positive\n",
    "- `RuntimeError`: if a function is illegally executed or a status is wrong. E.g. if an object first has to be loaded before it gets parsed. It covers any error that does not fall into an other category.\n",
    "- `KeyError`, `IndexError`: if a key or index is not available, e.g. in a `dict` or `list`\n",
    "\n",
    "An Exception can manually be raised by"
   ]
  },
  {
   "cell_type": "code",
   "execution_count": 35,
   "metadata": {
    "execution": {
     "iopub.execute_input": "2022-09-05T10:15:26.686025Z",
     "iopub.status.busy": "2022-09-05T10:15:26.685434Z",
     "iopub.status.idle": "2022-09-05T10:15:27.126841Z",
     "shell.execute_reply": "2022-09-05T10:15:27.126144Z"
    },
    "tags": [
     "raises-exception"
    ]
   },
   "outputs": [
    {
     "ename": "TypeError",
     "evalue": "Has to be int, not str",
     "output_type": "error",
     "traceback": [
      "\u001b[0;31m---------------------------------------------------------------------------\u001b[0m",
      "\u001b[0;31mTypeError\u001b[0m                                 Traceback (most recent call last)",
      "Input \u001b[0;32mIn [35]\u001b[0m, in \u001b[0;36m<cell line: 1>\u001b[0;34m()\u001b[0m\n\u001b[0;32m----> 1\u001b[0m \u001b[38;5;28;01mraise\u001b[39;00m \u001b[38;5;167;01mTypeError\u001b[39;00m(\u001b[38;5;124m\"\u001b[39m\u001b[38;5;124mHas to be int, not str\u001b[39m\u001b[38;5;124m\"\u001b[39m)\n",
      "\u001b[0;31mTypeError\u001b[0m: Has to be int, not str"
     ]
    }
   ],
   "source": [
    "raise TypeError(\"Has to be int, not str\")"
   ]
  },
  {
   "cell_type": "markdown",
   "metadata": {},
   "source": [
    "Note that it is often convenient to create an instance such as in the example above where the first argument is the message (as we see in the raised Exception above), but we can also raise an exception by only using the class itself"
   ]
  },
  {
   "cell_type": "code",
   "execution_count": 36,
   "metadata": {
    "execution": {
     "iopub.execute_input": "2022-09-05T10:15:27.130420Z",
     "iopub.status.busy": "2022-09-05T10:15:27.129694Z",
     "iopub.status.idle": "2022-09-05T10:15:27.141967Z",
     "shell.execute_reply": "2022-09-05T10:15:27.141307Z"
    },
    "tags": [
     "raises-exception"
    ]
   },
   "outputs": [
    {
     "ename": "TypeError",
     "evalue": "",
     "output_type": "error",
     "traceback": [
      "\u001b[0;31m---------------------------------------------------------------------------\u001b[0m",
      "\u001b[0;31mTypeError\u001b[0m                                 Traceback (most recent call last)",
      "Input \u001b[0;32mIn [36]\u001b[0m, in \u001b[0;36m<cell line: 1>\u001b[0;34m()\u001b[0m\n\u001b[0;32m----> 1\u001b[0m \u001b[38;5;28;01mraise\u001b[39;00m \u001b[38;5;167;01mTypeError\u001b[39;00m\n",
      "\u001b[0;31mTypeError\u001b[0m: "
     ]
    }
   ],
   "source": [
    "raise TypeError"
   ]
  },
  {
   "cell_type": "markdown",
   "metadata": {
    "pycharm": {
     "name": "#%% md\n"
    }
   },
   "source": [
    "### Custom Exception\n",
    "\n",
    "In Python, exceptions are simply a class. And as such, we can inherit from it and create our own exception.\n",
    "\n",
    "**Attention**: inherit from `Exception` or subclasses of it such as `TypeError`, `ValueError`, but NEVER from `BaseException`."
   ]
  },
  {
   "cell_type": "code",
   "execution_count": 37,
   "metadata": {
    "execution": {
     "iopub.execute_input": "2022-09-05T10:15:27.145494Z",
     "iopub.status.busy": "2022-09-05T10:15:27.145069Z",
     "iopub.status.idle": "2022-09-05T10:15:27.148050Z",
     "shell.execute_reply": "2022-09-05T10:15:27.147445Z"
    }
   },
   "outputs": [],
   "source": [
    "class MyError(Exception):\n",
    "    pass"
   ]
  },
  {
   "cell_type": "code",
   "execution_count": 38,
   "metadata": {
    "execution": {
     "iopub.execute_input": "2022-09-05T10:15:27.150519Z",
     "iopub.status.busy": "2022-09-05T10:15:27.150309Z",
     "iopub.status.idle": "2022-09-05T10:15:27.162556Z",
     "shell.execute_reply": "2022-09-05T10:15:27.161877Z"
    },
    "tags": [
     "raises-exception"
    ]
   },
   "outputs": [
    {
     "ename": "MyError",
     "evalue": "Hello world",
     "output_type": "error",
     "traceback": [
      "\u001b[0;31m---------------------------------------------------------------------------\u001b[0m",
      "\u001b[0;31mMyError\u001b[0m                                   Traceback (most recent call last)",
      "Input \u001b[0;32mIn [38]\u001b[0m, in \u001b[0;36m<cell line: 1>\u001b[0;34m()\u001b[0m\n\u001b[0;32m----> 1\u001b[0m \u001b[38;5;28;01mraise\u001b[39;00m MyError(\u001b[38;5;124m\"\u001b[39m\u001b[38;5;124mHello world\u001b[39m\u001b[38;5;124m\"\u001b[39m)\n",
      "\u001b[0;31mMyError\u001b[0m: Hello world"
     ]
    }
   ],
   "source": [
    "raise MyError(\"Hello world\")"
   ]
  },
  {
   "cell_type": "markdown",
   "metadata": {
    "pycharm": {
     "name": "#%% md\n"
    }
   },
   "source": [
    "An exception can also be created by inheriting from an already existing exception if it is more specific and provides hints on the nature of the exception."
   ]
  },
  {
   "cell_type": "code",
   "execution_count": 39,
   "metadata": {
    "execution": {
     "iopub.execute_input": "2022-09-05T10:15:27.167426Z",
     "iopub.status.busy": "2022-09-05T10:15:27.166989Z",
     "iopub.status.idle": "2022-09-05T10:15:27.169970Z",
     "shell.execute_reply": "2022-09-05T10:15:27.169324Z"
    }
   },
   "outputs": [],
   "source": [
    "class NegativeValueError(ValueError):\n",
    "    pass"
   ]
  },
  {
   "cell_type": "markdown",
   "metadata": {
    "pycharm": {
     "name": "#%% md\n"
    }
   },
   "source": [
    "## Catching exceptions\n",
    "\n",
    "An exception can be caught in a `try..except` block. This works as follows:\n",
    "- if an exception is raised in the `try` block, the next `except` is invoked\n",
    "- it is tested whether the raised exception is of type subclass of the exception type specified to be caught. For example, `except TypeError` checks if the raised error is of type `TypeError` or a subclass of it.\n",
    "- if that is not the case, it goes to the next `except` statement (yes, there can be multiple)\n",
    "- ... more below"
   ]
  },
  {
   "cell_type": "code",
   "execution_count": 40,
   "metadata": {
    "execution": {
     "iopub.execute_input": "2022-09-05T10:15:27.172824Z",
     "iopub.status.busy": "2022-09-05T10:15:27.172416Z",
     "iopub.status.idle": "2022-09-05T10:15:27.175935Z",
     "shell.execute_reply": "2022-09-05T10:15:27.175291Z"
    }
   },
   "outputs": [
    {
     "name": "stdout",
     "output_type": "stream",
     "text": [
      "Caught Negative value encountered\n"
     ]
    }
   ],
   "source": [
    "try:\n",
    "    raise NegativeValueError(\"Negative value encountered\")\n",
    "except ValueError as error:\n",
    "    print(f\"Caught {error}\")"
   ]
  },
  {
   "cell_type": "markdown",
   "metadata": {
    "pycharm": {
     "name": "#%% md\n"
    }
   },
   "source": [
    "By using the `as` keyword, the error that is raised is assigned to a variable. We can inspect the error now if we want or, as above, just print it."
   ]
  },
  {
   "cell_type": "markdown",
   "metadata": {
    "pycharm": {
     "name": "#%% md\n"
    }
   },
   "source": [
    "If no error is specified, _any_ error is caught (this should NOT be used, except for special cases"
   ]
  },
  {
   "cell_type": "code",
   "execution_count": 41,
   "metadata": {
    "execution": {
     "iopub.execute_input": "2022-09-05T10:15:27.179601Z",
     "iopub.status.busy": "2022-09-05T10:15:27.179190Z",
     "iopub.status.idle": "2022-09-05T10:15:27.182289Z",
     "shell.execute_reply": "2022-09-05T10:15:27.181587Z"
    }
   },
   "outputs": [],
   "source": [
    "try:\n",
    "    raise TypeError\n",
    "# Anti-pattern, do NOT use in general!\n",
    "except:  # any exception if not specified\n",
    "    pass"
   ]
  },
  {
   "cell_type": "code",
   "execution_count": 42,
   "metadata": {
    "execution": {
     "iopub.execute_input": "2022-09-05T10:15:27.185148Z",
     "iopub.status.busy": "2022-09-05T10:15:27.184589Z",
     "iopub.status.idle": "2022-09-05T10:15:27.199093Z",
     "shell.execute_reply": "2022-09-05T10:15:27.198357Z"
    },
    "tags": [
     "raises-exception"
    ]
   },
   "outputs": [
    {
     "name": "stdout",
     "output_type": "stream",
     "text": [
      "caught TypeError: Type was wrong, unfortunately\n"
     ]
    },
    {
     "ename": "TypeError",
     "evalue": "Type was wrong, unfortunately",
     "output_type": "error",
     "traceback": [
      "\u001b[0;31m---------------------------------------------------------------------------\u001b[0m",
      "\u001b[0;31mTypeError\u001b[0m                                 Traceback (most recent call last)",
      "Input \u001b[0;32mIn [42]\u001b[0m, in \u001b[0;36m<cell line: 1>\u001b[0;34m()\u001b[0m\n\u001b[1;32m      1\u001b[0m \u001b[38;5;28;01mtry\u001b[39;00m:\n\u001b[0;32m----> 2\u001b[0m     \u001b[38;5;28;01mraise\u001b[39;00m \u001b[38;5;167;01mTypeError\u001b[39;00m(\u001b[38;5;124m\"\u001b[39m\u001b[38;5;124mType was wrong, unfortunately\u001b[39m\u001b[38;5;124m\"\u001b[39m)\n\u001b[1;32m      3\u001b[0m \u001b[38;5;28;01mexcept\u001b[39;00m \u001b[38;5;167;01mTypeError\u001b[39;00m \u001b[38;5;28;01mas\u001b[39;00m error:  \u001b[38;5;66;03m# any exception\u001b[39;00m\n\u001b[1;32m      4\u001b[0m     \u001b[38;5;28mprint\u001b[39m(\u001b[38;5;124mf\u001b[39m\u001b[38;5;124m'\u001b[39m\u001b[38;5;124mcaught TypeError: \u001b[39m\u001b[38;5;132;01m{\u001b[39;00merror\u001b[38;5;132;01m}\u001b[39;00m\u001b[38;5;124m'\u001b[39m)\n",
      "\u001b[0;31mTypeError\u001b[0m: Type was wrong, unfortunately"
     ]
    }
   ],
   "source": [
    "try:\n",
    "    raise TypeError(\"Type was wrong, unfortunately\")\n",
    "except TypeError as error:  # any exception\n",
    "    print(f'caught TypeError: {error}')\n",
    "    raise\n",
    "except ValueError as error:\n",
    "    print(f'caugth ValueError: {error}')"
   ]
  },
  {
   "cell_type": "markdown",
   "metadata": {
    "pycharm": {
     "name": "#%% md\n"
    }
   },
   "source": [
    "To continue from above: after the last `except`, an `else` statement is looked for. The `else` is executed if _no_ exception was raised."
   ]
  },
  {
   "cell_type": "code",
   "execution_count": 43,
   "metadata": {
    "execution": {
     "iopub.execute_input": "2022-09-05T10:15:27.202215Z",
     "iopub.status.busy": "2022-09-05T10:15:27.201865Z",
     "iopub.status.idle": "2022-09-05T10:15:27.205758Z",
     "shell.execute_reply": "2022-09-05T10:15:27.205257Z"
    },
    "jupyter": {
     "outputs_hidden": false
    },
    "pycharm": {
     "name": "#%%\n"
    }
   },
   "outputs": [
    {
     "name": "stdout",
     "output_type": "stream",
     "text": [
      "no error raised\n",
      "No error\n",
      "Executed after block\n"
     ]
    }
   ],
   "source": [
    "try:\n",
    "    print('no error raised')\n",
    "#     raise TypeError(\"Type was wrong, unfortunately\")\n",
    "except TypeError as error:  # any exception\n",
    "    print(f'caught Type {error}')\n",
    "except ValueError as error:\n",
    "    print(f'caugth Value: {error}')\n",
    "else:\n",
    "    print(\"No error\")\n",
    "\n",
    "print(\"Executed after block\")"
   ]
  },
  {
   "cell_type": "markdown",
   "metadata": {},
   "source": [
    "...and finally, after the else, a `finally` block is looked for. This is *guaranteed* to be executed! Whether an exception is raised, whether it is caught or not, whether there is an `else` or not, the `finally` is _always_ executed.\n",
    "\n",
    "Therefore it is suitable for any cleanup code such as closing files, removing temporary files and more."
   ]
  },
  {
   "cell_type": "code",
   "execution_count": 44,
   "metadata": {
    "execution": {
     "iopub.execute_input": "2022-09-05T10:15:27.208802Z",
     "iopub.status.busy": "2022-09-05T10:15:27.208284Z",
     "iopub.status.idle": "2022-09-05T10:15:27.225137Z",
     "shell.execute_reply": "2022-09-05T10:15:27.224461Z"
    },
    "jupyter": {
     "outputs_hidden": false
    },
    "pycharm": {
     "name": "#%%\n"
    },
    "tags": [
     "raises-exception"
    ]
   },
   "outputs": [
    {
     "name": "stdout",
     "output_type": "stream",
     "text": [
      "Finally run\n"
     ]
    },
    {
     "ename": "RuntimeError",
     "evalue": "Type was wrong, unfortunately",
     "output_type": "error",
     "traceback": [
      "\u001b[0;31m---------------------------------------------------------------------------\u001b[0m",
      "\u001b[0;31mRuntimeError\u001b[0m                              Traceback (most recent call last)",
      "Input \u001b[0;32mIn [44]\u001b[0m, in \u001b[0;36m<cell line: 1>\u001b[0;34m()\u001b[0m\n\u001b[1;32m      1\u001b[0m \u001b[38;5;28;01mtry\u001b[39;00m:\n\u001b[1;32m      2\u001b[0m \u001b[38;5;66;03m#     pass\u001b[39;00m\n\u001b[1;32m      3\u001b[0m \u001b[38;5;66;03m#     raise TypeError(\"Type was wrong, unfortunately\")\u001b[39;00m\n\u001b[0;32m----> 4\u001b[0m     \u001b[38;5;28;01mraise\u001b[39;00m \u001b[38;5;167;01mRuntimeError\u001b[39;00m(\u001b[38;5;124m\"\u001b[39m\u001b[38;5;124mType was wrong, unfortunately\u001b[39m\u001b[38;5;124m\"\u001b[39m)\n\u001b[1;32m      5\u001b[0m \u001b[38;5;28;01mexcept\u001b[39;00m \u001b[38;5;167;01mTypeError\u001b[39;00m \u001b[38;5;28;01mas\u001b[39;00m error:  \u001b[38;5;66;03m# any exception\u001b[39;00m\n\u001b[1;32m      6\u001b[0m     \u001b[38;5;28mprint\u001b[39m(\u001b[38;5;124mf\u001b[39m\u001b[38;5;124m'\u001b[39m\u001b[38;5;124mcaught Type \u001b[39m\u001b[38;5;132;01m{\u001b[39;00merror\u001b[38;5;132;01m}\u001b[39;00m\u001b[38;5;124m'\u001b[39m)\n",
      "\u001b[0;31mRuntimeError\u001b[0m: Type was wrong, unfortunately"
     ]
    }
   ],
   "source": [
    "try:\n",
    "#     pass\n",
    "#     raise TypeError(\"Type was wrong, unfortunately\")\n",
    "    raise RuntimeError(\"Type was wrong, unfortunately\")\n",
    "except TypeError as error:  # any exception\n",
    "    print(f'caught Type {error}')\n",
    "except ValueError as error:\n",
    "    print(f'caugth Value: {error}')\n",
    "else:\n",
    "    print(\"No error\")\n",
    "finally:  # POWERFUL! Guarantied to be executed\n",
    "    print('Finally run')\n",
    "print(\"Executed when passed\")"
   ]
  },
  {
   "cell_type": "markdown",
   "metadata": {},
   "source": [
    "Note that in the above example, the error was _not_ caught! All the other statements could also be omitted and only a `try...finally` block can be created."
   ]
  },
  {
   "cell_type": "code",
   "execution_count": 45,
   "metadata": {
    "execution": {
     "iopub.execute_input": "2022-09-05T10:15:27.228157Z",
     "iopub.status.busy": "2022-09-05T10:15:27.227947Z",
     "iopub.status.idle": "2022-09-05T10:15:27.242521Z",
     "shell.execute_reply": "2022-09-05T10:15:27.241677Z"
    },
    "jupyter": {
     "outputs_hidden": false
    },
    "pycharm": {
     "name": "#%%\n"
    },
    "tags": [
     "raises-exception"
    ]
   },
   "outputs": [
    {
     "name": "stdout",
     "output_type": "stream",
     "text": [
      "raised\n"
     ]
    },
    {
     "ename": "ValueError",
     "evalue": "",
     "output_type": "error",
     "traceback": [
      "\u001b[0;31m---------------------------------------------------------------------------\u001b[0m",
      "\u001b[0;31mValueError\u001b[0m                                Traceback (most recent call last)",
      "Input \u001b[0;32mIn [45]\u001b[0m, in \u001b[0;36m<cell line: 1>\u001b[0;34m()\u001b[0m\n\u001b[1;32m      1\u001b[0m \u001b[38;5;28;01mtry\u001b[39;00m:\n\u001b[0;32m----> 2\u001b[0m     \u001b[38;5;28;01mraise\u001b[39;00m \u001b[38;5;167;01mValueError\u001b[39;00m\n\u001b[1;32m      3\u001b[0m \u001b[38;5;28;01mfinally\u001b[39;00m:\n\u001b[1;32m      4\u001b[0m     \u001b[38;5;28mprint\u001b[39m(\u001b[38;5;124m'\u001b[39m\u001b[38;5;124mraised\u001b[39m\u001b[38;5;124m'\u001b[39m)\n",
      "\u001b[0;31mValueError\u001b[0m: "
     ]
    }
   ],
   "source": [
    "try:\n",
    "    raise ValueError\n",
    "finally:\n",
    "    print('raised')"
   ]
  },
  {
   "cell_type": "markdown",
   "metadata": {},
   "source": [
    "### pitfall \"guaranteed execution\"\n",
    "\n",
    "As the `finally` is guaranteed to be executed, this can have an odd effect: possible return statements can be ignored _before the finally_ **IF** the `finally` also has a return statement. The logic says here that the `finally` return _must_ be executed, as it is guaranteed to be executed."
   ]
  },
  {
   "cell_type": "code",
   "execution_count": 46,
   "metadata": {
    "execution": {
     "iopub.execute_input": "2022-09-05T10:15:27.245521Z",
     "iopub.status.busy": "2022-09-05T10:15:27.245179Z",
     "iopub.status.idle": "2022-09-05T10:15:27.250512Z",
     "shell.execute_reply": "2022-09-05T10:15:27.249404Z"
    },
    "jupyter": {
     "outputs_hidden": false
    },
    "pycharm": {
     "name": "#%%\n"
    }
   },
   "outputs": [],
   "source": [
    "def func(x):\n",
    "    try:\n",
    "        if x == 5:\n",
    "            raise RuntimeError('called inside func')\n",
    "    except RuntimeError as error:\n",
    "        return error\n",
    "    else:\n",
    "        print('else before 42')\n",
    "        return 42\n",
    "        print('after else 42')\n",
    "    finally:\n",
    "        print(\"cleaned up\")\n",
    "        return 11"
   ]
  },
  {
   "cell_type": "code",
   "execution_count": 47,
   "metadata": {
    "execution": {
     "iopub.execute_input": "2022-09-05T10:15:27.253338Z",
     "iopub.status.busy": "2022-09-05T10:15:27.253009Z",
     "iopub.status.idle": "2022-09-05T10:15:27.259102Z",
     "shell.execute_reply": "2022-09-05T10:15:27.258475Z"
    },
    "jupyter": {
     "outputs_hidden": false
    },
    "pycharm": {
     "name": "#%%\n"
    }
   },
   "outputs": [
    {
     "name": "stdout",
     "output_type": "stream",
     "text": [
      "else before 42\n",
      "cleaned up\n"
     ]
    },
    {
     "data": {
      "text/plain": [
       "11"
      ]
     },
     "execution_count": 47,
     "metadata": {},
     "output_type": "execute_result"
    }
   ],
   "source": [
    "func(6)"
   ]
  },
  {
   "cell_type": "markdown",
   "metadata": {},
   "source": [
    "## Exceptions as control-flow\n",
    "\n",
    "We are used to control-flow elements such as `if...elif...else` blocks. However, exceptions _can_ also be used for this. They do not replace other ways of control-flow, however there are sometimes situations in which they provide a golden solution to steer the execution.\n",
    "\n",
    "As an example, consider an `add` function that _sometimes_ can add three elements - which is, for the sake of a good example, favorable as more performant (real world cases of this exist in larger scale, but too complicated to explain here) - and sometimes not. Also assume that the `add` function is called again maybe inside.\n",
    "A solution is to execute `add` with three elements. If an error is raised, we catch it (the specific one), and run the function again with two arguments and add the third argument by calling `add` again.\n",
    "\n",
    "Note that this also solves the problem if `add` is called deeper nested again: we don't care _where_ it is called, we just try again with only two numbers. The advantage is that we don't need to check the output of the function; this will always be a number (and not a `None` or something like this)."
   ]
  },
  {
   "cell_type": "code",
   "execution_count": 48,
   "metadata": {
    "execution": {
     "iopub.execute_input": "2022-09-05T10:15:27.261939Z",
     "iopub.status.busy": "2022-09-05T10:15:27.261713Z",
     "iopub.status.idle": "2022-09-05T10:15:27.266067Z",
     "shell.execute_reply": "2022-09-05T10:15:27.265114Z"
    },
    "jupyter": {
     "outputs_hidden": false
    },
    "pycharm": {
     "name": "#%%\n"
    }
   },
   "outputs": [],
   "source": [
    "def add(a, b, c=None):\n",
    "    if c is not None:\n",
    "        raise MyError\n",
    "    return a + b"
   ]
  },
  {
   "cell_type": "code",
   "execution_count": 49,
   "metadata": {
    "execution": {
     "iopub.execute_input": "2022-09-05T10:15:27.269746Z",
     "iopub.status.busy": "2022-09-05T10:15:27.269335Z",
     "iopub.status.idle": "2022-09-05T10:15:27.289090Z",
     "shell.execute_reply": "2022-09-05T10:15:27.288197Z"
    },
    "jupyter": {
     "outputs_hidden": false
    },
    "pycharm": {
     "name": "#%%\n"
    },
    "tags": [
     "raises-exception"
    ]
   },
   "outputs": [
    {
     "ename": "MyError",
     "evalue": "",
     "output_type": "error",
     "traceback": [
      "\u001b[0;31m---------------------------------------------------------------------------\u001b[0m",
      "\u001b[0;31mMyError\u001b[0m                                   Traceback (most recent call last)",
      "Input \u001b[0;32mIn [49]\u001b[0m, in \u001b[0;36m<cell line: 1>\u001b[0;34m()\u001b[0m\n\u001b[0;32m----> 1\u001b[0m \u001b[43madd\u001b[49m\u001b[43m(\u001b[49m\u001b[38;5;241;43m1\u001b[39;49m\u001b[43m,\u001b[49m\u001b[43m \u001b[49m\u001b[38;5;241;43m2\u001b[39;49m\u001b[43m,\u001b[49m\u001b[43m \u001b[49m\u001b[38;5;241;43m3\u001b[39;49m\u001b[43m)\u001b[49m\n",
      "Input \u001b[0;32mIn [48]\u001b[0m, in \u001b[0;36madd\u001b[0;34m(a, b, c)\u001b[0m\n\u001b[1;32m      1\u001b[0m \u001b[38;5;28;01mdef\u001b[39;00m \u001b[38;5;21madd\u001b[39m(a, b, c\u001b[38;5;241m=\u001b[39m\u001b[38;5;28;01mNone\u001b[39;00m):\n\u001b[1;32m      2\u001b[0m     \u001b[38;5;28;01mif\u001b[39;00m c \u001b[38;5;129;01mis\u001b[39;00m \u001b[38;5;129;01mnot\u001b[39;00m \u001b[38;5;28;01mNone\u001b[39;00m:\n\u001b[0;32m----> 3\u001b[0m         \u001b[38;5;28;01mraise\u001b[39;00m MyError\n\u001b[1;32m      4\u001b[0m     \u001b[38;5;28;01mreturn\u001b[39;00m a \u001b[38;5;241m+\u001b[39m b\n",
      "\u001b[0;31mMyError\u001b[0m: "
     ]
    }
   ],
   "source": [
    "add(1, 2, 3)"
   ]
  },
  {
   "cell_type": "code",
   "execution_count": 50,
   "metadata": {
    "execution": {
     "iopub.execute_input": "2022-09-05T10:15:27.292062Z",
     "iopub.status.busy": "2022-09-05T10:15:27.291611Z",
     "iopub.status.idle": "2022-09-05T10:15:27.298590Z",
     "shell.execute_reply": "2022-09-05T10:15:27.297821Z"
    },
    "jupyter": {
     "outputs_hidden": false
    },
    "pycharm": {
     "name": "#%%\n"
    }
   },
   "outputs": [
    {
     "data": {
      "text/plain": [
       "6"
      ]
     },
     "execution_count": 50,
     "metadata": {},
     "output_type": "execute_result"
    }
   ],
   "source": [
    "try:\n",
    "    result = add(1, 2, 3)\n",
    "except MyError as error:\n",
    "    result = add(add(1, 2), 3)\n",
    "result"
   ]
  }
 ],
 "metadata": {
  "kernelspec": {
   "display_name": "Python 3 (ipykernel)",
   "language": "python",
   "name": "python3"
  },
  "language_info": {
   "codemirror_mode": {
    "name": "ipython",
    "version": 3
   },
   "file_extension": ".py",
   "mimetype": "text/x-python",
   "name": "python",
   "nbconvert_exporter": "python",
   "pygments_lexer": "ipython3",
   "version": "3.8.13"
  }
 },
 "nbformat": 4,
 "nbformat_minor": 4
}
