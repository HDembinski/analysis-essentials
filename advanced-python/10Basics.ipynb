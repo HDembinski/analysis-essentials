{
 "cells": [
  {
   "cell_type": "markdown",
   "metadata": {},
   "source": [
    "# 1: Basics"
   ]
  },
  {
   "cell_type": "markdown",
   "metadata": {},
   "source": [
    "In this Advanced Python Tutorial we will cover some useful python skills and tips. The lessons are as follows:\n",
    "\n",
    "* Basics\n",
    "* Loading data and plotting with matplotlib\n",
    "* Cut based selction\n",
    "* Multivariate Analysis with Scikit Learn\n",
    "* uBoost with hep_ml\n",
    "* Neural Network Demo\n",
    "* Mutivariate kinematic reweighting\n",
    "* The sPlot technique\n",
    "\n",
    "The first lesson will be on some python basics:\n",
    "\n",
    "* Mutable and immutable objects in python\n",
    "* List and dictionaries and comprehensions\n",
    "* Writing code in markdown\n",
    "* Jupyter notebook basics\n",
    "* Importing moduels"
   ]
  },
  {
   "cell_type": "markdown",
   "metadata": {},
   "source": [
    "## Basics"
   ]
  },
  {
   "cell_type": "markdown",
   "metadata": {},
   "source": [
    "**Mutability**\n",
    "\n",
    "* Let's start by comparing some **mutable** and **immutable** objects.\n",
    "* In python lists and strings are **mutable** and tuples are **immutable**.\n",
    "* What happens when you run the code below?"
   ]
  },
  {
   "cell_type": "code",
   "execution_count": 1,
   "metadata": {
    "execution": {
     "iopub.execute_input": "2021-11-19T23:12:15.538866Z",
     "iopub.status.busy": "2021-11-19T23:12:15.536810Z",
     "iopub.status.idle": "2021-11-19T23:12:15.541946Z",
     "shell.execute_reply": "2021-11-19T23:12:15.542419Z"
    }
   },
   "outputs": [
    {
     "name": "stdout",
     "output_type": "stream",
     "text": [
      "['a', 'hello', 'c']\n",
      "['a', 'hello', 'c']\n"
     ]
    }
   ],
   "source": [
    "a = ['a', 'b', 'c']\n",
    "b = a\n",
    "b[1] = 'hello'\n",
    "\n",
    "print(a)\n",
    "print(b)"
   ]
  },
  {
   "cell_type": "code",
   "execution_count": 2,
   "metadata": {
    "execution": {
     "iopub.execute_input": "2021-11-19T23:12:15.548187Z",
     "iopub.status.busy": "2021-11-19T23:12:15.547335Z",
     "iopub.status.idle": "2021-11-19T23:12:15.551017Z",
     "shell.execute_reply": "2021-11-19T23:12:15.550608Z"
    }
   },
   "outputs": [
    {
     "name": "stdout",
     "output_type": "stream",
     "text": [
      "{'a': '0', 'b': 'hello', 'c': '2'}\n",
      "{'a': '0', 'b': 'hello', 'c': '2'}\n"
     ]
    }
   ],
   "source": [
    "a = {'a': '0', 'b': '1', 'c': '2'}\n",
    "b = a\n",
    "b['b'] = 'hello'\n",
    "\n",
    "print(a)\n",
    "print(b)"
   ]
  },
  {
   "cell_type": "code",
   "execution_count": 3,
   "metadata": {
    "execution": {
     "iopub.execute_input": "2021-11-19T23:12:15.556772Z",
     "iopub.status.busy": "2021-11-19T23:12:15.555782Z",
     "iopub.status.idle": "2021-11-19T23:12:15.558276Z",
     "shell.execute_reply": "2021-11-19T23:12:15.558670Z"
    }
   },
   "outputs": [
    {
     "name": "stdout",
     "output_type": "stream",
     "text": [
      "foo\n",
      "bar\n"
     ]
    }
   ],
   "source": [
    "a = 'foo'\n",
    "b = 'bar'\n",
    "for c in [a, b]:\n",
    "    c += '!'\n",
    "\n",
    "print(a)\n",
    "print(b)"
   ]
  },
  {
   "cell_type": "markdown",
   "metadata": {},
   "source": [
    "**List comprehensions**"
   ]
  },
  {
   "cell_type": "code",
   "execution_count": 4,
   "metadata": {
    "execution": {
     "iopub.execute_input": "2021-11-19T23:12:15.565161Z",
     "iopub.status.busy": "2021-11-19T23:12:15.564022Z",
     "iopub.status.idle": "2021-11-19T23:12:15.566725Z",
     "shell.execute_reply": "2021-11-19T23:12:15.566319Z"
    }
   },
   "outputs": [
    {
     "name": "stdout",
     "output_type": "stream",
     "text": [
      "Sum of squares for 10 is 285\n"
     ]
    }
   ],
   "source": [
    "N = 10\n",
    "\n",
    "list_of_squares = [i**2 for i in range(N)]\n",
    "sum_of_squares = sum(list_of_squares)\n",
    "\n",
    "print('Sum of squares for', N, 'is', sum_of_squares)"
   ]
  },
  {
   "cell_type": "markdown",
   "metadata": {},
   "source": [
    "**Dictionary comprehensions**"
   ]
  },
  {
   "cell_type": "code",
   "execution_count": 5,
   "metadata": {
    "execution": {
     "iopub.execute_input": "2021-11-19T23:12:15.572186Z",
     "iopub.status.busy": "2021-11-19T23:12:15.570781Z",
     "iopub.status.idle": "2021-11-19T23:12:15.573939Z",
     "shell.execute_reply": "2021-11-19T23:12:15.573502Z"
    }
   },
   "outputs": [
    {
     "name": "stdout",
     "output_type": "stream",
     "text": [
      "{0: 0, 1: 1, 2: 4, 3: 9, 4: 16, 5: 25, 6: 36, 7: 49, 8: 64, 9: 81}\n"
     ]
    }
   ],
   "source": [
    "squares = {i: i**2 for i in range(10)}\n",
    "print(squares)"
   ]
  },
  {
   "cell_type": "code",
   "execution_count": 6,
   "metadata": {
    "execution": {
     "iopub.execute_input": "2021-11-19T23:12:15.579144Z",
     "iopub.status.busy": "2021-11-19T23:12:15.578089Z",
     "iopub.status.idle": "2021-11-19T23:12:15.580735Z",
     "shell.execute_reply": "2021-11-19T23:12:15.581163Z"
    }
   },
   "outputs": [
    {
     "name": "stdout",
     "output_type": "stream",
     "text": [
      "The square of 5 is 25\n"
     ]
    }
   ],
   "source": [
    "N = 5\n",
    "print('The square of', N, 'is', squares[N])"
   ]
  },
  {
   "cell_type": "markdown",
   "metadata": {},
   "source": [
    "## Markdown"
   ]
  },
  {
   "cell_type": "markdown",
   "metadata": {},
   "source": [
    "Write comments inline about your code:\n",
    "\n",
    "Use LaTeX:\n",
    "\n",
    "$A = \\frac{1}{B+C}$\n",
    "\n",
    "Show lists:\n",
    "\n",
    "* A wonderful\n",
    "* List\n",
    "* This is\n",
    "\n",
    "Show code with syntax highlighting:\n",
    "\n",
    "**Python:** (but in a sad grey world)\n",
    "\n",
    "```\n",
    "print('Hello world')\n",
    "```\n",
    "\n",
    "**Python:**\n",
    "\n",
    "```python\n",
    "print('Hello world')\n",
    "```\n",
    "\n",
    "**C++:**\n",
    "\n",
    "```cpp\n",
    "#include <iostream>\n",
    "\n",
    "std::cout << \"Hello world\" << std::endl;\n",
    "```\n",
    "\n",
    "**Bash:**\n",
    "\n",
    "```bash\n",
    "echo \"Hello world\"\n",
    "```"
   ]
  },
  {
   "cell_type": "markdown",
   "metadata": {},
   "source": [
    "**f-strings**"
   ]
  },
  {
   "cell_type": "code",
   "execution_count": 7,
   "metadata": {
    "execution": {
     "iopub.execute_input": "2021-11-19T23:12:15.585851Z",
     "iopub.status.busy": "2021-11-19T23:12:15.585250Z",
     "iopub.status.idle": "2021-11-19T23:12:15.587141Z",
     "shell.execute_reply": "2021-11-19T23:12:15.587556Z"
    }
   },
   "outputs": [
    {
     "name": "stdout",
     "output_type": "stream",
     "text": [
      "(PT > 1789.23) & (2 < ETA < 5)\n"
     ]
    }
   ],
   "source": [
    "pt_cut = 1789.234567890987654\n",
    "eta_low = 2\n",
    "eta_high = 5\n",
    "\n",
    "cut_string = f'(PT > {pt_cut:.2f}) & ({eta_low} < ETA < {eta_high})'\n",
    "print(cut_string)"
   ]
  },
  {
   "cell_type": "markdown",
   "metadata": {},
   "source": [
    "## Jupyter\n",
    "\n",
    "Jupyter has some very useful features included that can help make trying things out faster..."
   ]
  },
  {
   "cell_type": "markdown",
   "metadata": {},
   "source": [
    "Cells have a return value which is shown after the finish runing if it's not `None`:"
   ]
  },
  {
   "cell_type": "code",
   "execution_count": 8,
   "metadata": {
    "execution": {
     "iopub.execute_input": "2021-11-19T23:12:15.590209Z",
     "iopub.status.busy": "2021-11-19T23:12:15.589700Z",
     "iopub.status.idle": "2021-11-19T23:12:15.599875Z",
     "shell.execute_reply": "2021-11-19T23:12:15.599458Z"
    }
   },
   "outputs": [
    {
     "data": {
      "text/plain": [
       "'Hello starterkitters'"
      ]
     },
     "execution_count": 8,
     "metadata": {},
     "output_type": "execute_result"
    }
   ],
   "source": [
    "\"Hello starterkitters\""
   ]
  },
  {
   "cell_type": "code",
   "execution_count": 9,
   "metadata": {
    "execution": {
     "iopub.execute_input": "2021-11-19T23:12:15.604269Z",
     "iopub.status.busy": "2021-11-19T23:12:15.603068Z",
     "iopub.status.idle": "2021-11-19T23:12:15.605105Z",
     "shell.execute_reply": "2021-11-19T23:12:15.605532Z"
    }
   },
   "outputs": [],
   "source": [
    "None"
   ]
  },
  {
   "cell_type": "markdown",
   "metadata": {},
   "source": [
    "Run a shell command:"
   ]
  },
  {
   "cell_type": "code",
   "execution_count": 10,
   "metadata": {
    "execution": {
     "iopub.execute_input": "2021-11-19T23:12:15.609456Z",
     "iopub.status.busy": "2021-11-19T23:12:15.608953Z",
     "iopub.status.idle": "2021-11-19T23:12:15.759190Z",
     "shell.execute_reply": "2021-11-19T23:12:15.759935Z"
    }
   },
   "outputs": [
    {
     "name": "stdout",
     "output_type": "stream",
     "text": [
      "10Basics.ipynb\t\t\t 33OLDDemoNeuralNetworks.ipynb\r\n",
      "11AdvancedPython.ipynb\t\t 40DemoReweighting.ipynb\r\n",
      "12AdvancedClasses.ipynb\t\t 50LikelihoodInference.ipynb\r\n",
      "20DataAndPlotting.ipynb\t\t 60sPlot.ipynb\r\n",
      "30Classification.ipynb\t\t 70ScikitHEPUniverse.ipynb\r\n",
      "31ClassificationExtension.ipynb  README.md\r\n",
      "32BoostingToUniformity.ipynb\r\n"
     ]
    }
   ],
   "source": [
    "!ls"
   ]
  },
  {
   "cell_type": "code",
   "execution_count": 11,
   "metadata": {
    "execution": {
     "iopub.execute_input": "2021-11-19T23:12:15.765377Z",
     "iopub.status.busy": "2021-11-19T23:12:15.764642Z",
     "iopub.status.idle": "2021-11-19T23:12:16.042490Z",
     "shell.execute_reply": "2021-11-19T23:12:16.042976Z"
    }
   },
   "outputs": [
    {
     "name": "stdout",
     "output_type": "stream",
     "text": [
      "--2021-11-19 23:12:15--  https://example.com/index.html\r\n",
      "Resolving example.com (example.com)... 93.184.216.34, 2606:2800:220:1:248:1893:25c8:1946\r\n",
      "Connecting to example.com (example.com)|93.184.216.34|:443... connected.\r\n"
     ]
    },
    {
     "name": "stdout",
     "output_type": "stream",
     "text": [
      "HTTP request sent, awaiting response... "
     ]
    },
    {
     "name": "stdout",
     "output_type": "stream",
     "text": [
      "200 OK\r\n",
      "Length: 1256 (1.2K) [text/html]\r\n",
      "Saving to: ‘index.html’\r\n",
      "\r\n",
      "\r",
      "index.html            0%[                    ]       0  --.-KB/s               \r",
      "index.html          100%[===================>]   1.23K  --.-KB/s    in 0s      \r\n",
      "\r\n",
      "2021-11-19 23:12:15 (42.3 MB/s) - ‘index.html’ saved [1256/1256]\r\n",
      "\r\n"
     ]
    }
   ],
   "source": [
    "!wget https://example.com/index.html"
   ]
  },
  {
   "cell_type": "markdown",
   "metadata": {},
   "source": [
    "Time how long something takes for one line:"
   ]
  },
  {
   "cell_type": "code",
   "execution_count": 12,
   "metadata": {
    "execution": {
     "iopub.execute_input": "2021-11-19T23:12:16.052972Z",
     "iopub.status.busy": "2021-11-19T23:12:16.052338Z",
     "iopub.status.idle": "2021-11-19T23:12:16.055182Z",
     "shell.execute_reply": "2021-11-19T23:12:16.055641Z"
    }
   },
   "outputs": [
    {
     "name": "stdout",
     "output_type": "stream",
     "text": [
      "CPU times: user 3 ms, sys: 0 ns, total: 3 ms\n",
      "Wall time: 3.02 ms\n"
     ]
    },
    {
     "data": {
      "text/plain": [
       "333283335000"
      ]
     },
     "execution_count": 12,
     "metadata": {},
     "output_type": "execute_result"
    }
   ],
   "source": [
    "%time sum([i**2 for i in range(10000)])"
   ]
  },
  {
   "cell_type": "markdown",
   "metadata": {},
   "source": [
    "Time how long an entire cell takes:"
   ]
  },
  {
   "cell_type": "code",
   "execution_count": 13,
   "metadata": {
    "execution": {
     "iopub.execute_input": "2021-11-19T23:12:16.064089Z",
     "iopub.status.busy": "2021-11-19T23:12:16.057811Z",
     "iopub.status.idle": "2021-11-19T23:12:16.075440Z",
     "shell.execute_reply": "2021-11-19T23:12:16.074978Z"
    }
   },
   "outputs": [
    {
     "name": "stdout",
     "output_type": "stream",
     "text": [
      "CPU times: user 8.32 ms, sys: 0 ns, total: 8.32 ms\n",
      "Wall time: 8.17 ms\n"
     ]
    }
   ],
   "source": [
    "%%time\n",
    "a = sum([i**2 for i in range(10000)])\n",
    "b = sum([i**2 for i in range(10000)])\n",
    "c = sum([i**2 for i in range(10000)])"
   ]
  },
  {
   "cell_type": "markdown",
   "metadata": {
    "slideshow": {
     "slide_type": "slide"
    }
   },
   "source": [
    "If something takes longer than you expect, you can profile it to find out where it spends it's time:"
   ]
  },
  {
   "cell_type": "raw",
   "metadata": {},
   "source": [
    "# Maybe skip this\n",
    "%%prun -s cumtime\n",
    "a = sum([np.sqrt(i) for i in range(100000)])"
   ]
  },
  {
   "cell_type": "markdown",
   "metadata": {},
   "source": [
    "Jupyter also makes it easy to look at documentation, just add a question mark to the end of the line"
   ]
  },
  {
   "cell_type": "code",
   "execution_count": 14,
   "metadata": {
    "execution": {
     "iopub.execute_input": "2021-11-19T23:12:16.079351Z",
     "iopub.status.busy": "2021-11-19T23:12:16.078808Z",
     "iopub.status.idle": "2021-11-19T23:12:16.082199Z",
     "shell.execute_reply": "2021-11-19T23:12:16.081359Z"
    }
   },
   "outputs": [],
   "source": [
    "def my_print(my_string):\n",
    "    print(my_string)"
   ]
  },
  {
   "cell_type": "code",
   "execution_count": 15,
   "metadata": {
    "execution": {
     "iopub.execute_input": "2021-11-19T23:12:16.100308Z",
     "iopub.status.busy": "2021-11-19T23:12:16.094865Z",
     "iopub.status.idle": "2021-11-19T23:12:16.132287Z",
     "shell.execute_reply": "2021-11-19T23:12:16.132701Z"
    }
   },
   "outputs": [],
   "source": [
    "my_print?"
   ]
  },
  {
   "cell_type": "markdown",
   "metadata": {},
   "source": [
    "Two question marks allows you to see the code that is in the function"
   ]
  },
  {
   "cell_type": "code",
   "execution_count": 16,
   "metadata": {
    "execution": {
     "iopub.execute_input": "2021-11-19T23:12:16.139738Z",
     "iopub.status.busy": "2021-11-19T23:12:16.136297Z",
     "iopub.status.idle": "2021-11-19T23:12:16.143027Z",
     "shell.execute_reply": "2021-11-19T23:12:16.142233Z"
    }
   },
   "outputs": [],
   "source": [
    "my_print??"
   ]
  },
  {
   "cell_type": "code",
   "execution_count": 17,
   "metadata": {
    "execution": {
     "iopub.execute_input": "2021-11-19T23:12:16.148787Z",
     "iopub.status.busy": "2021-11-19T23:12:16.145266Z",
     "iopub.status.idle": "2021-11-19T23:12:16.151712Z",
     "shell.execute_reply": "2021-11-19T23:12:16.152148Z"
    }
   },
   "outputs": [],
   "source": [
    "range?"
   ]
  },
  {
   "cell_type": "markdown",
   "metadata": {},
   "source": [
    "Note that this is done without running the actual line of code so sometimes you need to use a junk variable to make it work"
   ]
  },
  {
   "cell_type": "code",
   "execution_count": 18,
   "metadata": {
    "execution": {
     "iopub.execute_input": "2021-11-19T23:12:16.156531Z",
     "iopub.status.busy": "2021-11-19T23:12:16.156009Z",
     "iopub.status.idle": "2021-11-19T23:12:16.159616Z",
     "shell.execute_reply": "2021-11-19T23:12:16.159136Z"
    }
   },
   "outputs": [
    {
     "name": "stdout",
     "output_type": "stream",
     "text": [
      "Object `get` not found.\n"
     ]
    }
   ],
   "source": [
    "{'a': 'b'}.get?"
   ]
  },
  {
   "cell_type": "code",
   "execution_count": 19,
   "metadata": {
    "execution": {
     "iopub.execute_input": "2021-11-19T23:12:16.165228Z",
     "iopub.status.busy": "2021-11-19T23:12:16.164560Z",
     "iopub.status.idle": "2021-11-19T23:12:16.167315Z",
     "shell.execute_reply": "2021-11-19T23:12:16.166772Z"
    }
   },
   "outputs": [
    {
     "data": {
      "text/plain": [
       "<function dict.get(key, default=None, /)>"
      ]
     },
     "execution_count": 19,
     "metadata": {},
     "output_type": "execute_result"
    }
   ],
   "source": [
    "{'a': 'b'}.get"
   ]
  },
  {
   "cell_type": "code",
   "execution_count": 20,
   "metadata": {
    "execution": {
     "iopub.execute_input": "2021-11-19T23:12:16.171764Z",
     "iopub.status.busy": "2021-11-19T23:12:16.171114Z",
     "iopub.status.idle": "2021-11-19T23:12:16.173422Z",
     "shell.execute_reply": "2021-11-19T23:12:16.173810Z"
    }
   },
   "outputs": [
    {
     "data": {
      "text/plain": [
       "<function dict.get(key, default=None, /)>"
      ]
     },
     "execution_count": 20,
     "metadata": {},
     "output_type": "execute_result"
    }
   ],
   "source": [
    "{'a': 'b'}.get"
   ]
  },
  {
   "cell_type": "code",
   "execution_count": 21,
   "metadata": {
    "execution": {
     "iopub.execute_input": "2021-11-19T23:12:16.176340Z",
     "iopub.status.busy": "2021-11-19T23:12:16.175807Z",
     "iopub.status.idle": "2021-11-19T23:12:16.180768Z",
     "shell.execute_reply": "2021-11-19T23:12:16.180331Z"
    },
    "pycharm": {
     "name": "#%%\n"
    }
   },
   "outputs": [
    {
     "data": {
      "text/plain": [
       "<function dict.get(key, default=None, /)>"
      ]
     },
     "execution_count": 21,
     "metadata": {},
     "output_type": "execute_result"
    }
   ],
   "source": [
    "{'a': 'b'}.get"
   ]
  },
  {
   "cell_type": "code",
   "execution_count": 22,
   "metadata": {
    "execution": {
     "iopub.execute_input": "2021-11-19T23:12:16.185964Z",
     "iopub.status.busy": "2021-11-19T23:12:16.185412Z",
     "iopub.status.idle": "2021-11-19T23:12:16.188132Z",
     "shell.execute_reply": "2021-11-19T23:12:16.188573Z"
    }
   },
   "outputs": [
    {
     "data": {
      "text/plain": [
       "<function dict.get(key, default=None, /)>"
      ]
     },
     "execution_count": 22,
     "metadata": {},
     "output_type": "execute_result"
    }
   ],
   "source": [
    "{'a': 'b'}.get"
   ]
  },
  {
   "cell_type": "code",
   "execution_count": 23,
   "metadata": {
    "execution": {
     "iopub.execute_input": "2021-11-19T23:12:16.193795Z",
     "iopub.status.busy": "2021-11-19T23:12:16.193271Z",
     "iopub.status.idle": "2021-11-19T23:12:16.195822Z",
     "shell.execute_reply": "2021-11-19T23:12:16.196272Z"
    }
   },
   "outputs": [
    {
     "data": {
      "text/plain": [
       "<function dict.get(key, default=None, /)>"
      ]
     },
     "execution_count": 23,
     "metadata": {},
     "output_type": "execute_result"
    }
   ],
   "source": [
    "{'a': 'b'}.get"
   ]
  },
  {
   "cell_type": "code",
   "execution_count": 24,
   "metadata": {
    "execution": {
     "iopub.execute_input": "2021-11-19T23:12:16.201692Z",
     "iopub.status.busy": "2021-11-19T23:12:16.200885Z",
     "iopub.status.idle": "2021-11-19T23:12:16.203721Z",
     "shell.execute_reply": "2021-11-19T23:12:16.204170Z"
    }
   },
   "outputs": [
    {
     "data": {
      "text/plain": [
       "<function dict.get(key, default=None, /)>"
      ]
     },
     "execution_count": 24,
     "metadata": {},
     "output_type": "execute_result"
    }
   ],
   "source": [
    "{'a': 'b'}.get"
   ]
  },
  {
   "cell_type": "code",
   "execution_count": 25,
   "metadata": {
    "execution": {
     "iopub.execute_input": "2021-11-19T23:12:16.209492Z",
     "iopub.status.busy": "2021-11-19T23:12:16.208667Z",
     "iopub.status.idle": "2021-11-19T23:12:16.211332Z",
     "shell.execute_reply": "2021-11-19T23:12:16.211770Z"
    }
   },
   "outputs": [
    {
     "data": {
      "text/plain": [
       "<function dict.get(key, default=None, /)>"
      ]
     },
     "execution_count": 25,
     "metadata": {},
     "output_type": "execute_result"
    }
   ],
   "source": [
    "{'a': 'b'}.get"
   ]
  },
  {
   "cell_type": "code",
   "execution_count": 26,
   "metadata": {
    "execution": {
     "iopub.execute_input": "2021-11-19T23:12:16.216622Z",
     "iopub.status.busy": "2021-11-19T23:12:16.215938Z",
     "iopub.status.idle": "2021-11-19T23:12:16.220876Z",
     "shell.execute_reply": "2021-11-19T23:12:16.220419Z"
    }
   },
   "outputs": [
    {
     "data": {
      "text/plain": [
       "<function dict.get(key, default=None, /)>"
      ]
     },
     "execution_count": 26,
     "metadata": {},
     "output_type": "execute_result"
    }
   ],
   "source": [
    "{'a': 'b'}.get"
   ]
  },
  {
   "cell_type": "code",
   "execution_count": 27,
   "metadata": {
    "execution": {
     "iopub.execute_input": "2021-11-19T23:12:16.226303Z",
     "iopub.status.busy": "2021-11-19T23:12:16.224239Z",
     "iopub.status.idle": "2021-11-19T23:12:16.228291Z",
     "shell.execute_reply": "2021-11-19T23:12:16.228703Z"
    }
   },
   "outputs": [
    {
     "data": {
      "text/plain": [
       "<function dict.get(key, default=None, /)>"
      ]
     },
     "execution_count": 27,
     "metadata": {},
     "output_type": "execute_result"
    }
   ],
   "source": [
    "{'a': 'b'}.get"
   ]
  },
  {
   "cell_type": "code",
   "execution_count": 28,
   "metadata": {
    "execution": {
     "iopub.execute_input": "2021-11-19T23:12:16.234506Z",
     "iopub.status.busy": "2021-11-19T23:12:16.233492Z",
     "iopub.status.idle": "2021-11-19T23:12:16.236543Z",
     "shell.execute_reply": "2021-11-19T23:12:16.235983Z"
    }
   },
   "outputs": [
    {
     "data": {
      "text/plain": [
       "<function dict.get(key, default=None, /)>"
      ]
     },
     "execution_count": 28,
     "metadata": {},
     "output_type": "execute_result"
    }
   ],
   "source": [
    "{'a': 'b'}.get"
   ]
  },
  {
   "cell_type": "code",
   "execution_count": 29,
   "metadata": {
    "execution": {
     "iopub.execute_input": "2021-11-19T23:12:16.241844Z",
     "iopub.status.busy": "2021-11-19T23:12:16.240824Z",
     "iopub.status.idle": "2021-11-19T23:12:16.243965Z",
     "shell.execute_reply": "2021-11-19T23:12:16.244403Z"
    }
   },
   "outputs": [
    {
     "data": {
      "text/plain": [
       "<function dict.get(key, default=None, /)>"
      ]
     },
     "execution_count": 29,
     "metadata": {},
     "output_type": "execute_result"
    }
   ],
   "source": [
    "{'a': 'b'}.get"
   ]
  },
  {
   "cell_type": "code",
   "execution_count": 30,
   "metadata": {
    "execution": {
     "iopub.execute_input": "2021-11-19T23:12:16.250248Z",
     "iopub.status.busy": "2021-11-19T23:12:16.249048Z",
     "iopub.status.idle": "2021-11-19T23:12:16.252689Z",
     "shell.execute_reply": "2021-11-19T23:12:16.251986Z"
    }
   },
   "outputs": [
    {
     "data": {
      "text/plain": [
       "<function dict.get(key, default=None, /)>"
      ]
     },
     "execution_count": 30,
     "metadata": {},
     "output_type": "execute_result"
    }
   ],
   "source": [
    "{'a': 'b'}.get"
   ]
  },
  {
   "cell_type": "code",
   "execution_count": 31,
   "metadata": {
    "execution": {
     "iopub.execute_input": "2021-11-19T23:12:16.258094Z",
     "iopub.status.busy": "2021-11-19T23:12:16.257266Z",
     "iopub.status.idle": "2021-11-19T23:12:16.259399Z",
     "shell.execute_reply": "2021-11-19T23:12:16.259881Z"
    }
   },
   "outputs": [
    {
     "data": {
      "text/plain": [
       "<function dict.get(key, default=None, /)>"
      ]
     },
     "execution_count": 31,
     "metadata": {},
     "output_type": "execute_result"
    }
   ],
   "source": [
    "{'a': 'b'}.get"
   ]
  },
  {
   "cell_type": "code",
   "execution_count": 32,
   "metadata": {
    "execution": {
     "iopub.execute_input": "2021-11-19T23:12:16.266046Z",
     "iopub.status.busy": "2021-11-19T23:12:16.265381Z",
     "iopub.status.idle": "2021-11-19T23:12:16.267333Z",
     "shell.execute_reply": "2021-11-19T23:12:16.267776Z"
    }
   },
   "outputs": [
    {
     "data": {
      "text/plain": [
       "<function dict.get(key, default=None, /)>"
      ]
     },
     "execution_count": 32,
     "metadata": {},
     "output_type": "execute_result"
    }
   ],
   "source": [
    "{'a': 'b'}.get"
   ]
  },
  {
   "cell_type": "code",
   "execution_count": 33,
   "metadata": {
    "execution": {
     "iopub.execute_input": "2021-11-19T23:12:16.272475Z",
     "iopub.status.busy": "2021-11-19T23:12:16.271791Z",
     "iopub.status.idle": "2021-11-19T23:12:16.273888Z",
     "shell.execute_reply": "2021-11-19T23:12:16.274431Z"
    }
   },
   "outputs": [
    {
     "data": {
      "text/plain": [
       "<function dict.get(key, default=None, /)>"
      ]
     },
     "execution_count": 33,
     "metadata": {},
     "output_type": "execute_result"
    }
   ],
   "source": [
    "{'a': 'b'}.get"
   ]
  },
  {
   "cell_type": "code",
   "execution_count": 34,
   "metadata": {
    "execution": {
     "iopub.execute_input": "2021-11-19T23:12:16.278565Z",
     "iopub.status.busy": "2021-11-19T23:12:16.278048Z",
     "iopub.status.idle": "2021-11-19T23:12:16.280230Z",
     "shell.execute_reply": "2021-11-19T23:12:16.280624Z"
    }
   },
   "outputs": [
    {
     "data": {
      "text/plain": [
       "<function dict.get(key, default=None, /)>"
      ]
     },
     "execution_count": 34,
     "metadata": {},
     "output_type": "execute_result"
    }
   ],
   "source": [
    "{'a': 'b'}.get"
   ]
  },
  {
   "cell_type": "code",
   "execution_count": 35,
   "metadata": {
    "execution": {
     "iopub.execute_input": "2021-11-19T23:12:16.286678Z",
     "iopub.status.busy": "2021-11-19T23:12:16.285456Z",
     "iopub.status.idle": "2021-11-19T23:12:16.287263Z",
     "shell.execute_reply": "2021-11-19T23:12:16.287716Z"
    }
   },
   "outputs": [],
   "source": [
    "junk = {'a': 'b'}.get\n",
    "junk?"
   ]
  },
  {
   "cell_type": "markdown",
   "metadata": {},
   "source": [
    "## Importing modules"
   ]
  },
  {
   "cell_type": "markdown",
   "metadata": {},
   "source": [
    "* It is good practice to import all modules at the beginning of your python script or notebook\n",
    "* Avoid using **wildcard imports** as you it makes it unclear where things come from: for example ```from math import *```\n",
    "* Below we now have two ```max``` functions and trying to use ```max``` will return an error"
   ]
  },
  {
   "cell_type": "code",
   "execution_count": 36,
   "metadata": {
    "execution": {
     "iopub.execute_input": "2021-11-19T23:12:16.293810Z",
     "iopub.status.busy": "2021-11-19T23:12:16.292189Z",
     "iopub.status.idle": "2021-11-19T23:12:16.295831Z",
     "shell.execute_reply": "2021-11-19T23:12:16.295308Z"
    }
   },
   "outputs": [
    {
     "data": {
      "text/plain": [
       "15"
      ]
     },
     "execution_count": 36,
     "metadata": {},
     "output_type": "execute_result"
    }
   ],
   "source": [
    "max(10, 15)"
   ]
  },
  {
   "cell_type": "code",
   "execution_count": 37,
   "metadata": {
    "execution": {
     "iopub.execute_input": "2021-11-19T23:12:16.299351Z",
     "iopub.status.busy": "2021-11-19T23:12:16.298766Z",
     "iopub.status.idle": "2021-11-19T23:12:16.541804Z",
     "shell.execute_reply": "2021-11-19T23:12:16.541296Z"
    },
    "tags": [
     "raises-exception"
    ]
   },
   "outputs": [
    {
     "ename": "AxisError",
     "evalue": "axis 15 is out of bounds for array of dimension 0",
     "output_type": "error",
     "traceback": [
      "\u001b[0;31m---------------------------------------------------------------------------\u001b[0m",
      "\u001b[0;31mAxisError\u001b[0m                                 Traceback (most recent call last)",
      "\u001b[0;32m/tmp/ipykernel_4718/63290990.py\u001b[0m in \u001b[0;36m<module>\u001b[0;34m\u001b[0m\n\u001b[1;32m      1\u001b[0m \u001b[0;32mfrom\u001b[0m \u001b[0mnumpy\u001b[0m \u001b[0;32mimport\u001b[0m \u001b[0mmax\u001b[0m\u001b[0;34m\u001b[0m\u001b[0;34m\u001b[0m\u001b[0m\n\u001b[1;32m      2\u001b[0m \u001b[0;34m\u001b[0m\u001b[0m\n\u001b[0;32m----> 3\u001b[0;31m \u001b[0mmax\u001b[0m\u001b[0;34m(\u001b[0m\u001b[0;36m10\u001b[0m\u001b[0;34m,\u001b[0m \u001b[0;36m15\u001b[0m\u001b[0;34m)\u001b[0m\u001b[0;34m\u001b[0m\u001b[0;34m\u001b[0m\u001b[0m\n\u001b[0m",
      "\u001b[0;32m<__array_function__ internals>\u001b[0m in \u001b[0;36mamax\u001b[0;34m(*args, **kwargs)\u001b[0m\n",
      "\u001b[0;32m/usr/share/miniconda/envs/analysis-essentials/lib/python3.8/site-packages/numpy/core/fromnumeric.py\u001b[0m in \u001b[0;36mamax\u001b[0;34m(a, axis, out, keepdims, initial, where)\u001b[0m\n\u001b[1;32m   2752\u001b[0m     \u001b[0;36m5\u001b[0m\u001b[0;34m\u001b[0m\u001b[0;34m\u001b[0m\u001b[0m\n\u001b[1;32m   2753\u001b[0m     \"\"\"\n\u001b[0;32m-> 2754\u001b[0;31m     return _wrapreduction(a, np.maximum, 'max', axis, None, out,\n\u001b[0m\u001b[1;32m   2755\u001b[0m                           keepdims=keepdims, initial=initial, where=where)\n\u001b[1;32m   2756\u001b[0m \u001b[0;34m\u001b[0m\u001b[0m\n",
      "\u001b[0;32m/usr/share/miniconda/envs/analysis-essentials/lib/python3.8/site-packages/numpy/core/fromnumeric.py\u001b[0m in \u001b[0;36m_wrapreduction\u001b[0;34m(obj, ufunc, method, axis, dtype, out, **kwargs)\u001b[0m\n\u001b[1;32m     84\u001b[0m                 \u001b[0;32mreturn\u001b[0m \u001b[0mreduction\u001b[0m\u001b[0;34m(\u001b[0m\u001b[0maxis\u001b[0m\u001b[0;34m=\u001b[0m\u001b[0maxis\u001b[0m\u001b[0;34m,\u001b[0m \u001b[0mout\u001b[0m\u001b[0;34m=\u001b[0m\u001b[0mout\u001b[0m\u001b[0;34m,\u001b[0m \u001b[0;34m**\u001b[0m\u001b[0mpasskwargs\u001b[0m\u001b[0;34m)\u001b[0m\u001b[0;34m\u001b[0m\u001b[0;34m\u001b[0m\u001b[0m\n\u001b[1;32m     85\u001b[0m \u001b[0;34m\u001b[0m\u001b[0m\n\u001b[0;32m---> 86\u001b[0;31m     \u001b[0;32mreturn\u001b[0m \u001b[0mufunc\u001b[0m\u001b[0;34m.\u001b[0m\u001b[0mreduce\u001b[0m\u001b[0;34m(\u001b[0m\u001b[0mobj\u001b[0m\u001b[0;34m,\u001b[0m \u001b[0maxis\u001b[0m\u001b[0;34m,\u001b[0m \u001b[0mdtype\u001b[0m\u001b[0;34m,\u001b[0m \u001b[0mout\u001b[0m\u001b[0;34m,\u001b[0m \u001b[0;34m**\u001b[0m\u001b[0mpasskwargs\u001b[0m\u001b[0;34m)\u001b[0m\u001b[0;34m\u001b[0m\u001b[0;34m\u001b[0m\u001b[0m\n\u001b[0m\u001b[1;32m     87\u001b[0m \u001b[0;34m\u001b[0m\u001b[0m\n\u001b[1;32m     88\u001b[0m \u001b[0;34m\u001b[0m\u001b[0m\n",
      "\u001b[0;31mAxisError\u001b[0m: axis 15 is out of bounds for array of dimension 0"
     ]
    }
   ],
   "source": [
    "from numpy import max\n",
    "\n",
    "max(10, 15)"
   ]
  },
  {
   "cell_type": "markdown",
   "metadata": {},
   "source": [
    "To avoid this people often import `numpy` and then use `numpy.max` or, if they don't like typing, import it as `np` like we have above:"
   ]
  },
  {
   "cell_type": "code",
   "execution_count": 38,
   "metadata": {
    "execution": {
     "iopub.execute_input": "2021-11-19T23:12:16.547787Z",
     "iopub.status.busy": "2021-11-19T23:12:16.547203Z",
     "iopub.status.idle": "2021-11-19T23:12:16.550627Z",
     "shell.execute_reply": "2021-11-19T23:12:16.549964Z"
    }
   },
   "outputs": [
    {
     "data": {
      "text/plain": [
       "2"
      ]
     },
     "execution_count": 38,
     "metadata": {},
     "output_type": "execute_result"
    }
   ],
   "source": [
    "import numpy as np\n",
    "\n",
    "np.max([0, 1, 2])"
   ]
  },
  {
   "cell_type": "markdown",
   "metadata": {},
   "source": [
    "Some common abrivations for packages are:\n",
    "\n",
    "```python\n",
    "import numpy as np\n",
    "import pandas as pd\n",
    "from matplotlib import pyplot as plt\n",
    "import ROOT as R\n",
    "```\n",
    "\n",
    "Typially the nicest code uses a mixture of `import X` and `from X import Y` like we have above.\n",
    "\n",
    "If you're interested in following best practices for style look there is an offical style guide called [PEP8](https://www.python.org/dev/peps/pep-0008/). The document itself is quite long but you can also get automated sytle checkers called 'linters'. Look into [flake8](https://gitlab.com/pycqa/flake8/), either as a command line application or as a plugin for your favourite text editor. Take care though, it's occasionally better to break style rules to make code easier to read!\n",
    "\n",
    "* Restart the kernal to fix ```max```"
   ]
  },
  {
   "cell_type": "code",
   "execution_count": 39,
   "metadata": {
    "execution": {
     "iopub.execute_input": "2021-11-19T23:12:16.557314Z",
     "iopub.status.busy": "2021-11-19T23:12:16.556569Z",
     "iopub.status.idle": "2021-11-19T23:12:16.563999Z",
     "shell.execute_reply": "2021-11-19T23:12:16.563508Z"
    },
    "tags": [
     "raises-exception"
    ]
   },
   "outputs": [
    {
     "ename": "AxisError",
     "evalue": "axis 15 is out of bounds for array of dimension 0",
     "output_type": "error",
     "traceback": [
      "\u001b[0;31m---------------------------------------------------------------------------\u001b[0m",
      "\u001b[0;31mAxisError\u001b[0m                                 Traceback (most recent call last)",
      "\u001b[0;32m/tmp/ipykernel_4718/4033862626.py\u001b[0m in \u001b[0;36m<module>\u001b[0;34m\u001b[0m\n\u001b[0;32m----> 1\u001b[0;31m \u001b[0mmax\u001b[0m\u001b[0;34m(\u001b[0m\u001b[0;36m10\u001b[0m\u001b[0;34m,\u001b[0m \u001b[0;36m15\u001b[0m\u001b[0;34m)\u001b[0m\u001b[0;34m\u001b[0m\u001b[0;34m\u001b[0m\u001b[0m\n\u001b[0m",
      "\u001b[0;32m<__array_function__ internals>\u001b[0m in \u001b[0;36mamax\u001b[0;34m(*args, **kwargs)\u001b[0m\n",
      "\u001b[0;32m/usr/share/miniconda/envs/analysis-essentials/lib/python3.8/site-packages/numpy/core/fromnumeric.py\u001b[0m in \u001b[0;36mamax\u001b[0;34m(a, axis, out, keepdims, initial, where)\u001b[0m\n\u001b[1;32m   2752\u001b[0m     \u001b[0;36m5\u001b[0m\u001b[0;34m\u001b[0m\u001b[0;34m\u001b[0m\u001b[0m\n\u001b[1;32m   2753\u001b[0m     \"\"\"\n\u001b[0;32m-> 2754\u001b[0;31m     return _wrapreduction(a, np.maximum, 'max', axis, None, out,\n\u001b[0m\u001b[1;32m   2755\u001b[0m                           keepdims=keepdims, initial=initial, where=where)\n\u001b[1;32m   2756\u001b[0m \u001b[0;34m\u001b[0m\u001b[0m\n",
      "\u001b[0;32m/usr/share/miniconda/envs/analysis-essentials/lib/python3.8/site-packages/numpy/core/fromnumeric.py\u001b[0m in \u001b[0;36m_wrapreduction\u001b[0;34m(obj, ufunc, method, axis, dtype, out, **kwargs)\u001b[0m\n\u001b[1;32m     84\u001b[0m                 \u001b[0;32mreturn\u001b[0m \u001b[0mreduction\u001b[0m\u001b[0;34m(\u001b[0m\u001b[0maxis\u001b[0m\u001b[0;34m=\u001b[0m\u001b[0maxis\u001b[0m\u001b[0;34m,\u001b[0m \u001b[0mout\u001b[0m\u001b[0;34m=\u001b[0m\u001b[0mout\u001b[0m\u001b[0;34m,\u001b[0m \u001b[0;34m**\u001b[0m\u001b[0mpasskwargs\u001b[0m\u001b[0;34m)\u001b[0m\u001b[0;34m\u001b[0m\u001b[0;34m\u001b[0m\u001b[0m\n\u001b[1;32m     85\u001b[0m \u001b[0;34m\u001b[0m\u001b[0m\n\u001b[0;32m---> 86\u001b[0;31m     \u001b[0;32mreturn\u001b[0m \u001b[0mufunc\u001b[0m\u001b[0;34m.\u001b[0m\u001b[0mreduce\u001b[0m\u001b[0;34m(\u001b[0m\u001b[0mobj\u001b[0m\u001b[0;34m,\u001b[0m \u001b[0maxis\u001b[0m\u001b[0;34m,\u001b[0m \u001b[0mdtype\u001b[0m\u001b[0;34m,\u001b[0m \u001b[0mout\u001b[0m\u001b[0;34m,\u001b[0m \u001b[0;34m**\u001b[0m\u001b[0mpasskwargs\u001b[0m\u001b[0;34m)\u001b[0m\u001b[0;34m\u001b[0m\u001b[0;34m\u001b[0m\u001b[0m\n\u001b[0m\u001b[1;32m     87\u001b[0m \u001b[0;34m\u001b[0m\u001b[0m\n\u001b[1;32m     88\u001b[0m \u001b[0;34m\u001b[0m\u001b[0m\n",
      "\u001b[0;31mAxisError\u001b[0m: axis 15 is out of bounds for array of dimension 0"
     ]
    }
   ],
   "source": [
    "max(10, 15)"
   ]
  }
 ],
 "metadata": {
  "kernelspec": {
   "display_name": "Python 3",
   "language": "python",
   "name": "python3"
  },
  "language_info": {
   "codemirror_mode": {
    "name": "ipython",
    "version": 3
   },
   "file_extension": ".py",
   "mimetype": "text/x-python",
   "name": "python",
   "nbconvert_exporter": "python",
   "pygments_lexer": "ipython3",
   "version": "3.8.12"
  },
  "nbsphinx": {
   "execute": "auto"
  }
 },
 "nbformat": 4,
 "nbformat_minor": 4
}
