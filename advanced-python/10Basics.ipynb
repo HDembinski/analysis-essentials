{
 "cells": [
  {
   "cell_type": "markdown",
   "metadata": {},
   "source": [
    "# 1: Basics"
   ]
  },
  {
   "cell_type": "markdown",
   "metadata": {},
   "source": [
    "In this Advanced Python Tutorial we will cover some useful python skills and tips. The lessons are as follows:\n",
    "\n",
    "* Basics\n",
    "* Loading data and plotting with matplotlib\n",
    "* Cut based selction\n",
    "* Multivariate Analysis with Scikit Learn\n",
    "* uBoost with hep_ml\n",
    "* Neural Network Demo\n",
    "* Mutivariate kinematic reweighting\n",
    "* The sPlot technique\n",
    "\n",
    "The first lesson will be on some python basics:\n",
    "\n",
    "* Mutable and immutable objects in python\n",
    "* List and dictionaries and comprehensions\n",
    "* Writing code in markdown\n",
    "* Jupyter notebook basics\n",
    "* Importing moduels"
   ]
  },
  {
   "cell_type": "markdown",
   "metadata": {},
   "source": [
    "## Basics"
   ]
  },
  {
   "cell_type": "markdown",
   "metadata": {},
   "source": [
    "**Mutability**\n",
    "\n",
    "* Let's start by comparing some **mutable** and **immutable** objects.\n",
    "* In python lists and strings are **mutable** and tuples are **immutable**.\n",
    "* What happens when you run the code below?"
   ]
  },
  {
   "cell_type": "code",
   "execution_count": 1,
   "metadata": {
    "execution": {
     "iopub.execute_input": "2021-11-19T21:36:56.625815Z",
     "iopub.status.busy": "2021-11-19T21:36:56.625203Z",
     "iopub.status.idle": "2021-11-19T21:36:56.634281Z",
     "shell.execute_reply": "2021-11-19T21:36:56.634793Z"
    }
   },
   "outputs": [
    {
     "name": "stdout",
     "output_type": "stream",
     "text": [
      "['a', 'hello', 'c']\n",
      "['a', 'hello', 'c']\n"
     ]
    }
   ],
   "source": [
    "a = ['a', 'b', 'c']\n",
    "b = a\n",
    "b[1] = 'hello'\n",
    "\n",
    "print(a)\n",
    "print(b)"
   ]
  },
  {
   "cell_type": "code",
   "execution_count": 2,
   "metadata": {
    "execution": {
     "iopub.execute_input": "2021-11-19T21:36:56.640817Z",
     "iopub.status.busy": "2021-11-19T21:36:56.639521Z",
     "iopub.status.idle": "2021-11-19T21:36:56.642434Z",
     "shell.execute_reply": "2021-11-19T21:36:56.642019Z"
    }
   },
   "outputs": [
    {
     "name": "stdout",
     "output_type": "stream",
     "text": [
      "{'a': '0', 'b': 'hello', 'c': '2'}\n",
      "{'a': '0', 'b': 'hello', 'c': '2'}\n"
     ]
    }
   ],
   "source": [
    "a = {'a': '0', 'b': '1', 'c': '2'}\n",
    "b = a\n",
    "b['b'] = 'hello'\n",
    "\n",
    "print(a)\n",
    "print(b)"
   ]
  },
  {
   "cell_type": "code",
   "execution_count": 3,
   "metadata": {
    "execution": {
     "iopub.execute_input": "2021-11-19T21:36:56.647683Z",
     "iopub.status.busy": "2021-11-19T21:36:56.646668Z",
     "iopub.status.idle": "2021-11-19T21:36:56.649509Z",
     "shell.execute_reply": "2021-11-19T21:36:56.649049Z"
    }
   },
   "outputs": [
    {
     "name": "stdout",
     "output_type": "stream",
     "text": [
      "foo\n",
      "bar\n"
     ]
    }
   ],
   "source": [
    "a = 'foo'\n",
    "b = 'bar'\n",
    "for c in [a, b]:\n",
    "    c += '!'\n",
    "\n",
    "print(a)\n",
    "print(b)"
   ]
  },
  {
   "cell_type": "markdown",
   "metadata": {},
   "source": [
    "**List comprehensions**"
   ]
  },
  {
   "cell_type": "code",
   "execution_count": 4,
   "metadata": {
    "execution": {
     "iopub.execute_input": "2021-11-19T21:36:56.653602Z",
     "iopub.status.busy": "2021-11-19T21:36:56.653054Z",
     "iopub.status.idle": "2021-11-19T21:36:56.656178Z",
     "shell.execute_reply": "2021-11-19T21:36:56.656599Z"
    }
   },
   "outputs": [
    {
     "name": "stdout",
     "output_type": "stream",
     "text": [
      "Sum of squares for 10 is 285\n"
     ]
    }
   ],
   "source": [
    "N = 10\n",
    "\n",
    "list_of_squares = [i**2 for i in range(N)]\n",
    "sum_of_squares = sum(list_of_squares)\n",
    "\n",
    "print('Sum of squares for', N, 'is', sum_of_squares)"
   ]
  },
  {
   "cell_type": "markdown",
   "metadata": {},
   "source": [
    "**Dictionary comprehensions**"
   ]
  },
  {
   "cell_type": "code",
   "execution_count": 5,
   "metadata": {
    "execution": {
     "iopub.execute_input": "2021-11-19T21:36:56.661633Z",
     "iopub.status.busy": "2021-11-19T21:36:56.660539Z",
     "iopub.status.idle": "2021-11-19T21:36:56.663422Z",
     "shell.execute_reply": "2021-11-19T21:36:56.662954Z"
    }
   },
   "outputs": [
    {
     "name": "stdout",
     "output_type": "stream",
     "text": [
      "{0: 0, 1: 1, 2: 4, 3: 9, 4: 16, 5: 25, 6: 36, 7: 49, 8: 64, 9: 81}\n"
     ]
    }
   ],
   "source": [
    "squares = {i: i**2 for i in range(10)}\n",
    "print(squares)"
   ]
  },
  {
   "cell_type": "code",
   "execution_count": 6,
   "metadata": {
    "execution": {
     "iopub.execute_input": "2021-11-19T21:36:56.668683Z",
     "iopub.status.busy": "2021-11-19T21:36:56.667615Z",
     "iopub.status.idle": "2021-11-19T21:36:56.670303Z",
     "shell.execute_reply": "2021-11-19T21:36:56.669871Z"
    }
   },
   "outputs": [
    {
     "name": "stdout",
     "output_type": "stream",
     "text": [
      "The square of 5 is 25\n"
     ]
    }
   ],
   "source": [
    "N = 5\n",
    "print('The square of', N, 'is', squares[N])"
   ]
  },
  {
   "cell_type": "markdown",
   "metadata": {},
   "source": [
    "## Markdown"
   ]
  },
  {
   "cell_type": "markdown",
   "metadata": {},
   "source": [
    "Write comments inline about your code:\n",
    "\n",
    "Use LaTeX:\n",
    "\n",
    "$A = \\frac{1}{B+C}$\n",
    "\n",
    "Show lists:\n",
    "\n",
    "* A wonderful\n",
    "* List\n",
    "* This is\n",
    "\n",
    "Show code with syntax highlighting:\n",
    "\n",
    "**Python:** (but in a sad grey world)\n",
    "\n",
    "```\n",
    "print('Hello world')\n",
    "```\n",
    "\n",
    "**Python:**\n",
    "\n",
    "```python\n",
    "print('Hello world')\n",
    "```\n",
    "\n",
    "**C++:**\n",
    "\n",
    "```cpp\n",
    "#include <iostream>\n",
    "\n",
    "std::cout << \"Hello world\" << std::endl;\n",
    "```\n",
    "\n",
    "**Bash:**\n",
    "\n",
    "```bash\n",
    "echo \"Hello world\"\n",
    "```"
   ]
  },
  {
   "cell_type": "markdown",
   "metadata": {},
   "source": [
    "**f-strings**"
   ]
  },
  {
   "cell_type": "code",
   "execution_count": 7,
   "metadata": {
    "execution": {
     "iopub.execute_input": "2021-11-19T21:36:56.676278Z",
     "iopub.status.busy": "2021-11-19T21:36:56.674789Z",
     "iopub.status.idle": "2021-11-19T21:36:56.678346Z",
     "shell.execute_reply": "2021-11-19T21:36:56.677807Z"
    }
   },
   "outputs": [
    {
     "name": "stdout",
     "output_type": "stream",
     "text": [
      "(PT > 1789.23) & (2 < ETA < 5)\n"
     ]
    }
   ],
   "source": [
    "pt_cut = 1789.234567890987654\n",
    "eta_low = 2\n",
    "eta_high = 5\n",
    "\n",
    "cut_string = f'(PT > {pt_cut:.2f}) & ({eta_low} < ETA < {eta_high})'\n",
    "print(cut_string)"
   ]
  },
  {
   "cell_type": "markdown",
   "metadata": {},
   "source": [
    "## Jupyter\n",
    "\n",
    "Jupyter has some very useful features included that can help make trying things out faster..."
   ]
  },
  {
   "cell_type": "markdown",
   "metadata": {},
   "source": [
    "Cells have a return value which is shown after the finish runing if it's not `None`:"
   ]
  },
  {
   "cell_type": "code",
   "execution_count": 8,
   "metadata": {
    "execution": {
     "iopub.execute_input": "2021-11-19T21:36:56.689180Z",
     "iopub.status.busy": "2021-11-19T21:36:56.688670Z",
     "iopub.status.idle": "2021-11-19T21:36:56.691693Z",
     "shell.execute_reply": "2021-11-19T21:36:56.692143Z"
    }
   },
   "outputs": [
    {
     "data": {
      "text/plain": [
       "'Hello starterkitters'"
      ]
     },
     "execution_count": 8,
     "metadata": {},
     "output_type": "execute_result"
    }
   ],
   "source": [
    "\"Hello starterkitters\""
   ]
  },
  {
   "cell_type": "code",
   "execution_count": 9,
   "metadata": {
    "execution": {
     "iopub.execute_input": "2021-11-19T21:36:56.696673Z",
     "iopub.status.busy": "2021-11-19T21:36:56.695224Z",
     "iopub.status.idle": "2021-11-19T21:36:56.697275Z",
     "shell.execute_reply": "2021-11-19T21:36:56.697743Z"
    }
   },
   "outputs": [],
   "source": [
    "None"
   ]
  },
  {
   "cell_type": "markdown",
   "metadata": {},
   "source": [
    "Run a shell command:"
   ]
  },
  {
   "cell_type": "code",
   "execution_count": 10,
   "metadata": {
    "execution": {
     "iopub.execute_input": "2021-11-19T21:36:56.701370Z",
     "iopub.status.busy": "2021-11-19T21:36:56.700845Z",
     "iopub.status.idle": "2021-11-19T21:36:56.855072Z",
     "shell.execute_reply": "2021-11-19T21:36:56.854610Z"
    }
   },
   "outputs": [
    {
     "name": "stdout",
     "output_type": "stream",
     "text": [
      "10Basics.ipynb\t\t\t 33OLDDemoNeuralNetworks.ipynb\r\n",
      "11AdvancedPython.ipynb\t\t 40DemoReweighting.ipynb\r\n",
      "12AdvancedClasses.ipynb\t\t 50LikelihoodInference.ipynb\r\n",
      "20DataAndPlotting.ipynb\t\t 60sPlot.ipynb\r\n",
      "30Classification.ipynb\t\t 70ScikitHEPUniverse.ipynb\r\n",
      "31ClassificationExtension.ipynb  README.md\r\n",
      "32BoostingToUniformity.ipynb\r\n"
     ]
    }
   ],
   "source": [
    "!ls "
   ]
  },
  {
   "cell_type": "code",
   "execution_count": 11,
   "metadata": {
    "execution": {
     "iopub.execute_input": "2021-11-19T21:36:56.863591Z",
     "iopub.status.busy": "2021-11-19T21:36:56.863140Z",
     "iopub.status.idle": "2021-11-19T21:36:57.093432Z",
     "shell.execute_reply": "2021-11-19T21:36:57.092981Z"
    }
   },
   "outputs": [
    {
     "name": "stdout",
     "output_type": "stream",
     "text": [
      "--2021-11-19 21:36:56--  https://example.com/index.html\r\n",
      "Resolving example.com (example.com)... 93.184.216.34, 2606:2800:220:1:248:1893:25c8:1946\r\n",
      "Connecting to example.com (example.com)|93.184.216.34|:443... "
     ]
    },
    {
     "name": "stdout",
     "output_type": "stream",
     "text": [
      "connected.\r\n",
      "HTTP request sent, awaiting response... 200 OK\r\n",
      "Length: 1256 (1.2K) [text/html]\r\n",
      "Saving to: ‘index.html’\r\n",
      "\r\n",
      "\r",
      "index.html            0%[                    ]       0  --.-KB/s               \r",
      "index.html          100%[===================>]   1.23K  --.-KB/s    in 0s      \r\n",
      "\r\n",
      "2021-11-19 21:36:56 (77.8 MB/s) - ‘index.html’ saved [1256/1256]\r\n",
      "\r\n"
     ]
    }
   ],
   "source": [
    "!wget https://example.com/index.html"
   ]
  },
  {
   "cell_type": "markdown",
   "metadata": {},
   "source": [
    "Time how long something takes for one line:"
   ]
  },
  {
   "cell_type": "code",
   "execution_count": 12,
   "metadata": {
    "execution": {
     "iopub.execute_input": "2021-11-19T21:36:57.102896Z",
     "iopub.status.busy": "2021-11-19T21:36:57.101083Z",
     "iopub.status.idle": "2021-11-19T21:36:57.107718Z",
     "shell.execute_reply": "2021-11-19T21:36:57.107017Z"
    }
   },
   "outputs": [
    {
     "name": "stdout",
     "output_type": "stream",
     "text": [
      "CPU times: user 2.94 ms, sys: 0 ns, total: 2.94 ms\n",
      "Wall time: 2.95 ms\n"
     ]
    },
    {
     "data": {
      "text/plain": [
       "333283335000"
      ]
     },
     "execution_count": 12,
     "metadata": {},
     "output_type": "execute_result"
    }
   ],
   "source": [
    "%time sum([i**2 for i in range(10000)])"
   ]
  },
  {
   "cell_type": "markdown",
   "metadata": {},
   "source": [
    "Time how long an entire cell takes:"
   ]
  },
  {
   "cell_type": "code",
   "execution_count": 13,
   "metadata": {
    "execution": {
     "iopub.execute_input": "2021-11-19T21:36:57.115941Z",
     "iopub.status.busy": "2021-11-19T21:36:57.115405Z",
     "iopub.status.idle": "2021-11-19T21:36:57.122830Z",
     "shell.execute_reply": "2021-11-19T21:36:57.122313Z"
    }
   },
   "outputs": [
    {
     "name": "stdout",
     "output_type": "stream",
     "text": [
      "CPU times: user 7.9 ms, sys: 0 ns, total: 7.9 ms\n",
      "Wall time: 7.74 ms\n"
     ]
    }
   ],
   "source": [
    "%%time\n",
    "a = sum([i**2 for i in range(10000)])\n",
    "b = sum([i**2 for i in range(10000)])\n",
    "c = sum([i**2 for i in range(10000)])"
   ]
  },
  {
   "cell_type": "markdown",
   "metadata": {
    "slideshow": {
     "slide_type": "slide"
    }
   },
   "source": [
    "If something takes longer than you expect, you can profile it to find out where it spends it's time:"
   ]
  },
  {
   "cell_type": "raw",
   "metadata": {},
   "source": [
    "# Maybe skip this\n",
    "%%prun -s cumtime\n",
    "a = sum([np.sqrt(i) for i in range(100000)])"
   ]
  },
  {
   "cell_type": "markdown",
   "metadata": {},
   "source": [
    "Jupyter also makes it easy to look at documentation, just add a question mark to the end of the line"
   ]
  },
  {
   "cell_type": "code",
   "execution_count": 14,
   "metadata": {
    "execution": {
     "iopub.execute_input": "2021-11-19T21:36:57.126628Z",
     "iopub.status.busy": "2021-11-19T21:36:57.126117Z",
     "iopub.status.idle": "2021-11-19T21:36:57.128513Z",
     "shell.execute_reply": "2021-11-19T21:36:57.128051Z"
    }
   },
   "outputs": [],
   "source": [
    "def my_print(my_string):\n",
    "    print(my_string)"
   ]
  },
  {
   "cell_type": "code",
   "execution_count": 15,
   "metadata": {
    "execution": {
     "iopub.execute_input": "2021-11-19T21:36:57.156663Z",
     "iopub.status.busy": "2021-11-19T21:36:57.141090Z",
     "iopub.status.idle": "2021-11-19T21:36:57.174526Z",
     "shell.execute_reply": "2021-11-19T21:36:57.174102Z"
    }
   },
   "outputs": [],
   "source": [
    "my_print?"
   ]
  },
  {
   "cell_type": "markdown",
   "metadata": {},
   "source": [
    "Two question marks allows you to see the code that is in the function"
   ]
  },
  {
   "cell_type": "code",
   "execution_count": 16,
   "metadata": {
    "execution": {
     "iopub.execute_input": "2021-11-19T21:36:57.178159Z",
     "iopub.status.busy": "2021-11-19T21:36:57.177673Z",
     "iopub.status.idle": "2021-11-19T21:36:57.183736Z",
     "shell.execute_reply": "2021-11-19T21:36:57.183087Z"
    }
   },
   "outputs": [],
   "source": [
    "my_print??"
   ]
  },
  {
   "cell_type": "code",
   "execution_count": 17,
   "metadata": {
    "execution": {
     "iopub.execute_input": "2021-11-19T21:36:57.190259Z",
     "iopub.status.busy": "2021-11-19T21:36:57.189072Z",
     "iopub.status.idle": "2021-11-19T21:36:57.191090Z",
     "shell.execute_reply": "2021-11-19T21:36:57.191545Z"
    }
   },
   "outputs": [],
   "source": [
    "range?"
   ]
  },
  {
   "cell_type": "markdown",
   "metadata": {},
   "source": [
    "Note that this is done without running the actual line of code so sometimes you need to use a junk variable to make it work"
   ]
  },
  {
   "cell_type": "code",
   "execution_count": 18,
   "metadata": {
    "execution": {
     "iopub.execute_input": "2021-11-19T21:36:57.195874Z",
     "iopub.status.busy": "2021-11-19T21:36:57.195399Z",
     "iopub.status.idle": "2021-11-19T21:36:57.199625Z",
     "shell.execute_reply": "2021-11-19T21:36:57.199181Z"
    }
   },
   "outputs": [
    {
     "name": "stdout",
     "output_type": "stream",
     "text": [
      "Object `get` not found.\n"
     ]
    }
   ],
   "source": [
    "{'a': 'b'}.get?"
   ]
  },
  {
   "cell_type": "code",
   "execution_count": 19,
   "metadata": {
    "execution": {
     "iopub.execute_input": "2021-11-19T21:36:57.205308Z",
     "iopub.status.busy": "2021-11-19T21:36:57.204408Z",
     "iopub.status.idle": "2021-11-19T21:36:57.207332Z",
     "shell.execute_reply": "2021-11-19T21:36:57.206897Z"
    }
   },
   "outputs": [
    {
     "data": {
      "text/plain": [
       "<function dict.get(key, default=None, /)>"
      ]
     },
     "execution_count": 19,
     "metadata": {},
     "output_type": "execute_result"
    }
   ],
   "source": [
    "{'a': 'b'}.get"
   ]
  },
  {
   "cell_type": "code",
   "execution_count": 20,
   "metadata": {
    "execution": {
     "iopub.execute_input": "2021-11-19T21:36:57.212243Z",
     "iopub.status.busy": "2021-11-19T21:36:57.211645Z",
     "iopub.status.idle": "2021-11-19T21:36:57.213695Z",
     "shell.execute_reply": "2021-11-19T21:36:57.214142Z"
    }
   },
   "outputs": [
    {
     "data": {
      "text/plain": [
       "<function dict.get(key, default=None, /)>"
      ]
     },
     "execution_count": 20,
     "metadata": {},
     "output_type": "execute_result"
    }
   ],
   "source": [
    "{'a': 'b'}.get"
   ]
  },
  {
   "cell_type": "code",
   "execution_count": 21,
   "metadata": {
    "execution": {
     "iopub.execute_input": "2021-11-19T21:36:57.219552Z",
     "iopub.status.busy": "2021-11-19T21:36:57.218631Z",
     "iopub.status.idle": "2021-11-19T21:36:57.221476Z",
     "shell.execute_reply": "2021-11-19T21:36:57.221963Z"
    },
    "pycharm": {
     "name": "#%%\n"
    }
   },
   "outputs": [
    {
     "data": {
      "text/plain": [
       "<function dict.get(key, default=None, /)>"
      ]
     },
     "execution_count": 21,
     "metadata": {},
     "output_type": "execute_result"
    }
   ],
   "source": [
    "{'a': 'b'}.get"
   ]
  },
  {
   "cell_type": "code",
   "execution_count": 22,
   "metadata": {
    "execution": {
     "iopub.execute_input": "2021-11-19T21:36:57.226057Z",
     "iopub.status.busy": "2021-11-19T21:36:57.225507Z",
     "iopub.status.idle": "2021-11-19T21:36:57.228245Z",
     "shell.execute_reply": "2021-11-19T21:36:57.228638Z"
    }
   },
   "outputs": [
    {
     "data": {
      "text/plain": [
       "<function dict.get(key, default=None, /)>"
      ]
     },
     "execution_count": 22,
     "metadata": {},
     "output_type": "execute_result"
    }
   ],
   "source": [
    "{'a': 'b'}.get"
   ]
  },
  {
   "cell_type": "code",
   "execution_count": 23,
   "metadata": {
    "execution": {
     "iopub.execute_input": "2021-11-19T21:36:57.233805Z",
     "iopub.status.busy": "2021-11-19T21:36:57.233261Z",
     "iopub.status.idle": "2021-11-19T21:36:57.235891Z",
     "shell.execute_reply": "2021-11-19T21:36:57.236303Z"
    }
   },
   "outputs": [
    {
     "data": {
      "text/plain": [
       "<function dict.get(key, default=None, /)>"
      ]
     },
     "execution_count": 23,
     "metadata": {},
     "output_type": "execute_result"
    }
   ],
   "source": [
    "{'a': 'b'}.get"
   ]
  },
  {
   "cell_type": "code",
   "execution_count": 24,
   "metadata": {
    "execution": {
     "iopub.execute_input": "2021-11-19T21:36:57.241861Z",
     "iopub.status.busy": "2021-11-19T21:36:57.240667Z",
     "iopub.status.idle": "2021-11-19T21:36:57.243505Z",
     "shell.execute_reply": "2021-11-19T21:36:57.244021Z"
    }
   },
   "outputs": [
    {
     "data": {
      "text/plain": [
       "<function dict.get(key, default=None, /)>"
      ]
     },
     "execution_count": 24,
     "metadata": {},
     "output_type": "execute_result"
    }
   ],
   "source": [
    "{'a': 'b'}.get"
   ]
  },
  {
   "cell_type": "code",
   "execution_count": 25,
   "metadata": {
    "execution": {
     "iopub.execute_input": "2021-11-19T21:36:57.248836Z",
     "iopub.status.busy": "2021-11-19T21:36:57.248315Z",
     "iopub.status.idle": "2021-11-19T21:36:57.250935Z",
     "shell.execute_reply": "2021-11-19T21:36:57.251361Z"
    }
   },
   "outputs": [
    {
     "data": {
      "text/plain": [
       "<function dict.get(key, default=None, /)>"
      ]
     },
     "execution_count": 25,
     "metadata": {},
     "output_type": "execute_result"
    }
   ],
   "source": [
    "{'a': 'b'}.get"
   ]
  },
  {
   "cell_type": "code",
   "execution_count": 26,
   "metadata": {
    "execution": {
     "iopub.execute_input": "2021-11-19T21:36:57.255749Z",
     "iopub.status.busy": "2021-11-19T21:36:57.255259Z",
     "iopub.status.idle": "2021-11-19T21:36:57.259502Z",
     "shell.execute_reply": "2021-11-19T21:36:57.259027Z"
    }
   },
   "outputs": [
    {
     "data": {
      "text/plain": [
       "<function dict.get(key, default=None, /)>"
      ]
     },
     "execution_count": 26,
     "metadata": {},
     "output_type": "execute_result"
    }
   ],
   "source": [
    "{'a': 'b'}.get"
   ]
  },
  {
   "cell_type": "code",
   "execution_count": 27,
   "metadata": {
    "execution": {
     "iopub.execute_input": "2021-11-19T21:36:57.264104Z",
     "iopub.status.busy": "2021-11-19T21:36:57.263579Z",
     "iopub.status.idle": "2021-11-19T21:36:57.266155Z",
     "shell.execute_reply": "2021-11-19T21:36:57.266532Z"
    }
   },
   "outputs": [
    {
     "data": {
      "text/plain": [
       "<function dict.get(key, default=None, /)>"
      ]
     },
     "execution_count": 27,
     "metadata": {},
     "output_type": "execute_result"
    }
   ],
   "source": [
    "{'a': 'b'}.get"
   ]
  },
  {
   "cell_type": "code",
   "execution_count": 28,
   "metadata": {
    "execution": {
     "iopub.execute_input": "2021-11-19T21:36:57.271549Z",
     "iopub.status.busy": "2021-11-19T21:36:57.271008Z",
     "iopub.status.idle": "2021-11-19T21:36:57.273675Z",
     "shell.execute_reply": "2021-11-19T21:36:57.274111Z"
    }
   },
   "outputs": [
    {
     "data": {
      "text/plain": [
       "<function dict.get(key, default=None, /)>"
      ]
     },
     "execution_count": 28,
     "metadata": {},
     "output_type": "execute_result"
    }
   ],
   "source": [
    "{'a': 'b'}.get"
   ]
  },
  {
   "cell_type": "code",
   "execution_count": 29,
   "metadata": {
    "execution": {
     "iopub.execute_input": "2021-11-19T21:36:57.280089Z",
     "iopub.status.busy": "2021-11-19T21:36:57.278820Z",
     "iopub.status.idle": "2021-11-19T21:36:57.282244Z",
     "shell.execute_reply": "2021-11-19T21:36:57.281650Z"
    }
   },
   "outputs": [
    {
     "data": {
      "text/plain": [
       "<function dict.get(key, default=None, /)>"
      ]
     },
     "execution_count": 29,
     "metadata": {},
     "output_type": "execute_result"
    }
   ],
   "source": [
    "{'a': 'b'}.get"
   ]
  },
  {
   "cell_type": "code",
   "execution_count": 30,
   "metadata": {
    "execution": {
     "iopub.execute_input": "2021-11-19T21:36:57.287688Z",
     "iopub.status.busy": "2021-11-19T21:36:57.286780Z",
     "iopub.status.idle": "2021-11-19T21:36:57.289364Z",
     "shell.execute_reply": "2021-11-19T21:36:57.289812Z"
    }
   },
   "outputs": [
    {
     "data": {
      "text/plain": [
       "<function dict.get(key, default=None, /)>"
      ]
     },
     "execution_count": 30,
     "metadata": {},
     "output_type": "execute_result"
    }
   ],
   "source": [
    "{'a': 'b'}.get"
   ]
  },
  {
   "cell_type": "code",
   "execution_count": 31,
   "metadata": {
    "execution": {
     "iopub.execute_input": "2021-11-19T21:36:57.295250Z",
     "iopub.status.busy": "2021-11-19T21:36:57.294669Z",
     "iopub.status.idle": "2021-11-19T21:36:57.296660Z",
     "shell.execute_reply": "2021-11-19T21:36:57.297099Z"
    }
   },
   "outputs": [
    {
     "data": {
      "text/plain": [
       "<function dict.get(key, default=None, /)>"
      ]
     },
     "execution_count": 31,
     "metadata": {},
     "output_type": "execute_result"
    }
   ],
   "source": [
    "{'a': 'b'}.get"
   ]
  },
  {
   "cell_type": "code",
   "execution_count": 32,
   "metadata": {
    "execution": {
     "iopub.execute_input": "2021-11-19T21:36:57.301722Z",
     "iopub.status.busy": "2021-11-19T21:36:57.301196Z",
     "iopub.status.idle": "2021-11-19T21:36:57.304091Z",
     "shell.execute_reply": "2021-11-19T21:36:57.304486Z"
    }
   },
   "outputs": [
    {
     "data": {
      "text/plain": [
       "<function dict.get(key, default=None, /)>"
      ]
     },
     "execution_count": 32,
     "metadata": {},
     "output_type": "execute_result"
    }
   ],
   "source": [
    "{'a': 'b'}.get"
   ]
  },
  {
   "cell_type": "code",
   "execution_count": 33,
   "metadata": {
    "execution": {
     "iopub.execute_input": "2021-11-19T21:36:57.311318Z",
     "iopub.status.busy": "2021-11-19T21:36:57.310409Z",
     "iopub.status.idle": "2021-11-19T21:36:57.313148Z",
     "shell.execute_reply": "2021-11-19T21:36:57.313565Z"
    }
   },
   "outputs": [
    {
     "data": {
      "text/plain": [
       "<function dict.get(key, default=None, /)>"
      ]
     },
     "execution_count": 33,
     "metadata": {},
     "output_type": "execute_result"
    }
   ],
   "source": [
    "{'a': 'b'}.get"
   ]
  },
  {
   "cell_type": "code",
   "execution_count": 34,
   "metadata": {
    "execution": {
     "iopub.execute_input": "2021-11-19T21:36:57.317662Z",
     "iopub.status.busy": "2021-11-19T21:36:57.317156Z",
     "iopub.status.idle": "2021-11-19T21:36:57.320287Z",
     "shell.execute_reply": "2021-11-19T21:36:57.319745Z"
    }
   },
   "outputs": [
    {
     "data": {
      "text/plain": [
       "<function dict.get(key, default=None, /)>"
      ]
     },
     "execution_count": 34,
     "metadata": {},
     "output_type": "execute_result"
    }
   ],
   "source": [
    "{'a': 'b'}.get"
   ]
  },
  {
   "cell_type": "code",
   "execution_count": 35,
   "metadata": {
    "execution": {
     "iopub.execute_input": "2021-11-19T21:36:57.323840Z",
     "iopub.status.busy": "2021-11-19T21:36:57.323239Z",
     "iopub.status.idle": "2021-11-19T21:36:57.328091Z",
     "shell.execute_reply": "2021-11-19T21:36:57.327582Z"
    }
   },
   "outputs": [],
   "source": [
    "junk = {'a': 'b'}.get\n",
    "junk?"
   ]
  },
  {
   "cell_type": "markdown",
   "metadata": {},
   "source": [
    "## Importing modules"
   ]
  },
  {
   "cell_type": "markdown",
   "metadata": {},
   "source": [
    "* It is good practice to import all modules at the beginning of your python script or notebook\n",
    "* Avoid using **wildcard imports** as you it makes it unclear where things come from: for example ```from math import *```\n",
    "* Below we now have two ```max``` functions and trying to use ```max``` will return an error"
   ]
  },
  {
   "cell_type": "code",
   "execution_count": 36,
   "metadata": {
    "execution": {
     "iopub.execute_input": "2021-11-19T21:36:57.333086Z",
     "iopub.status.busy": "2021-11-19T21:36:57.332374Z",
     "iopub.status.idle": "2021-11-19T21:36:57.334440Z",
     "shell.execute_reply": "2021-11-19T21:36:57.334923Z"
    }
   },
   "outputs": [
    {
     "data": {
      "text/plain": [
       "15"
      ]
     },
     "execution_count": 36,
     "metadata": {},
     "output_type": "execute_result"
    }
   ],
   "source": [
    "max(10, 15)"
   ]
  },
  {
   "cell_type": "code",
   "execution_count": 37,
   "metadata": {
    "execution": {
     "iopub.execute_input": "2021-11-19T21:36:57.338439Z",
     "iopub.status.busy": "2021-11-19T21:36:57.337916Z",
     "iopub.status.idle": "2021-11-19T21:36:57.489628Z",
     "shell.execute_reply": "2021-11-19T21:36:57.490374Z"
    },
    "tags": [
     "raises-exception"
    ]
   },
   "outputs": [
    {
     "ename": "AxisError",
     "evalue": "axis 15 is out of bounds for array of dimension 0",
     "output_type": "error",
     "traceback": [
      "\u001b[0;31m---------------------------------------------------------------------------\u001b[0m",
      "\u001b[0;31mAxisError\u001b[0m                                 Traceback (most recent call last)",
      "\u001b[0;32m/tmp/ipykernel_4627/30205444.py\u001b[0m in \u001b[0;36m<module>\u001b[0;34m\u001b[0m\n\u001b[1;32m      1\u001b[0m \u001b[0;32mfrom\u001b[0m \u001b[0mnumpy\u001b[0m \u001b[0;32mimport\u001b[0m \u001b[0mmax\u001b[0m\u001b[0;34m\u001b[0m\u001b[0;34m\u001b[0m\u001b[0m\n\u001b[0;32m----> 2\u001b[0;31m \u001b[0mmax\u001b[0m\u001b[0;34m(\u001b[0m\u001b[0;36m10\u001b[0m\u001b[0;34m,\u001b[0m \u001b[0;36m15\u001b[0m\u001b[0;34m)\u001b[0m\u001b[0;34m\u001b[0m\u001b[0;34m\u001b[0m\u001b[0m\n\u001b[0m",
      "\u001b[0;32m<__array_function__ internals>\u001b[0m in \u001b[0;36mamax\u001b[0;34m(*args, **kwargs)\u001b[0m\n",
      "\u001b[0;32m/usr/share/miniconda/envs/analysis-essentials/lib/python3.8/site-packages/numpy/core/fromnumeric.py\u001b[0m in \u001b[0;36mamax\u001b[0;34m(a, axis, out, keepdims, initial, where)\u001b[0m\n\u001b[1;32m   2752\u001b[0m     \u001b[0;36m5\u001b[0m\u001b[0;34m\u001b[0m\u001b[0;34m\u001b[0m\u001b[0m\n\u001b[1;32m   2753\u001b[0m     \"\"\"\n\u001b[0;32m-> 2754\u001b[0;31m     return _wrapreduction(a, np.maximum, 'max', axis, None, out,\n\u001b[0m\u001b[1;32m   2755\u001b[0m                           keepdims=keepdims, initial=initial, where=where)\n\u001b[1;32m   2756\u001b[0m \u001b[0;34m\u001b[0m\u001b[0m\n",
      "\u001b[0;32m/usr/share/miniconda/envs/analysis-essentials/lib/python3.8/site-packages/numpy/core/fromnumeric.py\u001b[0m in \u001b[0;36m_wrapreduction\u001b[0;34m(obj, ufunc, method, axis, dtype, out, **kwargs)\u001b[0m\n\u001b[1;32m     84\u001b[0m                 \u001b[0;32mreturn\u001b[0m \u001b[0mreduction\u001b[0m\u001b[0;34m(\u001b[0m\u001b[0maxis\u001b[0m\u001b[0;34m=\u001b[0m\u001b[0maxis\u001b[0m\u001b[0;34m,\u001b[0m \u001b[0mout\u001b[0m\u001b[0;34m=\u001b[0m\u001b[0mout\u001b[0m\u001b[0;34m,\u001b[0m \u001b[0;34m**\u001b[0m\u001b[0mpasskwargs\u001b[0m\u001b[0;34m)\u001b[0m\u001b[0;34m\u001b[0m\u001b[0;34m\u001b[0m\u001b[0m\n\u001b[1;32m     85\u001b[0m \u001b[0;34m\u001b[0m\u001b[0m\n\u001b[0;32m---> 86\u001b[0;31m     \u001b[0;32mreturn\u001b[0m \u001b[0mufunc\u001b[0m\u001b[0;34m.\u001b[0m\u001b[0mreduce\u001b[0m\u001b[0;34m(\u001b[0m\u001b[0mobj\u001b[0m\u001b[0;34m,\u001b[0m \u001b[0maxis\u001b[0m\u001b[0;34m,\u001b[0m \u001b[0mdtype\u001b[0m\u001b[0;34m,\u001b[0m \u001b[0mout\u001b[0m\u001b[0;34m,\u001b[0m \u001b[0;34m**\u001b[0m\u001b[0mpasskwargs\u001b[0m\u001b[0;34m)\u001b[0m\u001b[0;34m\u001b[0m\u001b[0;34m\u001b[0m\u001b[0m\n\u001b[0m\u001b[1;32m     87\u001b[0m \u001b[0;34m\u001b[0m\u001b[0m\n\u001b[1;32m     88\u001b[0m \u001b[0;34m\u001b[0m\u001b[0m\n",
      "\u001b[0;31mAxisError\u001b[0m: axis 15 is out of bounds for array of dimension 0"
     ]
    }
   ],
   "source": [
    "from numpy import max\n",
    "max(10, 15)"
   ]
  },
  {
   "cell_type": "markdown",
   "metadata": {},
   "source": [
    "To avoid this people often import `numpy` and then use `numpy.max` or, if they don't like typing, import it as `np` like we have above:"
   ]
  },
  {
   "cell_type": "code",
   "execution_count": 38,
   "metadata": {
    "execution": {
     "iopub.execute_input": "2021-11-19T21:36:57.495649Z",
     "iopub.status.busy": "2021-11-19T21:36:57.495065Z",
     "iopub.status.idle": "2021-11-19T21:36:57.499500Z",
     "shell.execute_reply": "2021-11-19T21:36:57.499959Z"
    }
   },
   "outputs": [
    {
     "data": {
      "text/plain": [
       "2"
      ]
     },
     "execution_count": 38,
     "metadata": {},
     "output_type": "execute_result"
    }
   ],
   "source": [
    "import numpy as np\n",
    "np.max([0, 1, 2])"
   ]
  },
  {
   "cell_type": "markdown",
   "metadata": {},
   "source": [
    "Some common abrivations for packages are:\n",
    "\n",
    "```python\n",
    "import numpy as np\n",
    "import pandas as pd\n",
    "from matplotlib import pyplot as plt\n",
    "import ROOT as R\n",
    "```\n",
    "\n",
    "Typially the nicest code uses a mixture of `import X` and `from X import Y` like we have above.\n",
    "\n",
    "If you're interested in following best practices for style look there is an offical style guide called [PEP8](https://www.python.org/dev/peps/pep-0008/). The document itself is quite long but you can also get automated sytle checkers called 'linters'. Look into [flake8](https://gitlab.com/pycqa/flake8/), either as a command line application or as a plugin for your favourite text editor. Take care though, it's occasionally better to break style rules to make code easier to read!\n",
    "\n",
    "* Restart the kernal to fix ```max```"
   ]
  },
  {
   "cell_type": "code",
   "execution_count": 39,
   "metadata": {
    "execution": {
     "iopub.execute_input": "2021-11-19T21:36:57.503568Z",
     "iopub.status.busy": "2021-11-19T21:36:57.503085Z",
     "iopub.status.idle": "2021-11-19T21:36:57.513783Z",
     "shell.execute_reply": "2021-11-19T21:36:57.513080Z"
    },
    "tags": [
     "raises-exception"
    ]
   },
   "outputs": [
    {
     "ename": "AxisError",
     "evalue": "axis 15 is out of bounds for array of dimension 0",
     "output_type": "error",
     "traceback": [
      "\u001b[0;31m---------------------------------------------------------------------------\u001b[0m",
      "\u001b[0;31mAxisError\u001b[0m                                 Traceback (most recent call last)",
      "\u001b[0;32m/tmp/ipykernel_4627/4033862626.py\u001b[0m in \u001b[0;36m<module>\u001b[0;34m\u001b[0m\n\u001b[0;32m----> 1\u001b[0;31m \u001b[0mmax\u001b[0m\u001b[0;34m(\u001b[0m\u001b[0;36m10\u001b[0m\u001b[0;34m,\u001b[0m \u001b[0;36m15\u001b[0m\u001b[0;34m)\u001b[0m\u001b[0;34m\u001b[0m\u001b[0;34m\u001b[0m\u001b[0m\n\u001b[0m",
      "\u001b[0;32m<__array_function__ internals>\u001b[0m in \u001b[0;36mamax\u001b[0;34m(*args, **kwargs)\u001b[0m\n",
      "\u001b[0;32m/usr/share/miniconda/envs/analysis-essentials/lib/python3.8/site-packages/numpy/core/fromnumeric.py\u001b[0m in \u001b[0;36mamax\u001b[0;34m(a, axis, out, keepdims, initial, where)\u001b[0m\n\u001b[1;32m   2752\u001b[0m     \u001b[0;36m5\u001b[0m\u001b[0;34m\u001b[0m\u001b[0;34m\u001b[0m\u001b[0m\n\u001b[1;32m   2753\u001b[0m     \"\"\"\n\u001b[0;32m-> 2754\u001b[0;31m     return _wrapreduction(a, np.maximum, 'max', axis, None, out,\n\u001b[0m\u001b[1;32m   2755\u001b[0m                           keepdims=keepdims, initial=initial, where=where)\n\u001b[1;32m   2756\u001b[0m \u001b[0;34m\u001b[0m\u001b[0m\n",
      "\u001b[0;32m/usr/share/miniconda/envs/analysis-essentials/lib/python3.8/site-packages/numpy/core/fromnumeric.py\u001b[0m in \u001b[0;36m_wrapreduction\u001b[0;34m(obj, ufunc, method, axis, dtype, out, **kwargs)\u001b[0m\n\u001b[1;32m     84\u001b[0m                 \u001b[0;32mreturn\u001b[0m \u001b[0mreduction\u001b[0m\u001b[0;34m(\u001b[0m\u001b[0maxis\u001b[0m\u001b[0;34m=\u001b[0m\u001b[0maxis\u001b[0m\u001b[0;34m,\u001b[0m \u001b[0mout\u001b[0m\u001b[0;34m=\u001b[0m\u001b[0mout\u001b[0m\u001b[0;34m,\u001b[0m \u001b[0;34m**\u001b[0m\u001b[0mpasskwargs\u001b[0m\u001b[0;34m)\u001b[0m\u001b[0;34m\u001b[0m\u001b[0;34m\u001b[0m\u001b[0m\n\u001b[1;32m     85\u001b[0m \u001b[0;34m\u001b[0m\u001b[0m\n\u001b[0;32m---> 86\u001b[0;31m     \u001b[0;32mreturn\u001b[0m \u001b[0mufunc\u001b[0m\u001b[0;34m.\u001b[0m\u001b[0mreduce\u001b[0m\u001b[0;34m(\u001b[0m\u001b[0mobj\u001b[0m\u001b[0;34m,\u001b[0m \u001b[0maxis\u001b[0m\u001b[0;34m,\u001b[0m \u001b[0mdtype\u001b[0m\u001b[0;34m,\u001b[0m \u001b[0mout\u001b[0m\u001b[0;34m,\u001b[0m \u001b[0;34m**\u001b[0m\u001b[0mpasskwargs\u001b[0m\u001b[0;34m)\u001b[0m\u001b[0;34m\u001b[0m\u001b[0;34m\u001b[0m\u001b[0m\n\u001b[0m\u001b[1;32m     87\u001b[0m \u001b[0;34m\u001b[0m\u001b[0m\n\u001b[1;32m     88\u001b[0m \u001b[0;34m\u001b[0m\u001b[0m\n",
      "\u001b[0;31mAxisError\u001b[0m: axis 15 is out of bounds for array of dimension 0"
     ]
    }
   ],
   "source": [
    "max(10, 15)"
   ]
  }
 ],
 "metadata": {
  "kernelspec": {
   "display_name": "Python 3",
   "language": "python",
   "name": "python3"
  },
  "language_info": {
   "codemirror_mode": {
    "name": "ipython",
    "version": 3
   },
   "file_extension": ".py",
   "mimetype": "text/x-python",
   "name": "python",
   "nbconvert_exporter": "python",
   "pygments_lexer": "ipython3",
   "version": "3.8.12"
  },
  "nbsphinx": {
   "execute": "auto"
  }
 },
 "nbformat": 4,
 "nbformat_minor": 4
}
