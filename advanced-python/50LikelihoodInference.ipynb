{
 "cells": [
  {
   "cell_type": "markdown",
   "metadata": {},
   "source": [
    "# Likelihood inference\n",
    "\n",
    "In most analysis, fitting a model to data is a crucial, last step in the chain in order to extract information about the parameters of interest.\n",
    "\n",
    "**Model**: First, this involves building a model that depends on various parameters - some that are of immediate interest to us (Parameter Of Interest, POI) and some that help to describe the observables that we expect in the data but do not have any relevant physical meaning such as detectoreffects (Nuisance Parameter).\n",
    "\n",
    "**Loss**: With the model and the data, a likelihood (or sometimes also a $\\chi^2$ loss) is built. This is a function of the parameters and reflects the _likelihood of finding the data given the parameters_. The most likely parameter combination is retrieved when maximising the likelihood; also called the Maximum Likelihood (ML) estimator. Except for trivial cases, this has to be done numerically.\n",
    "\n",
    "While this procedure returns an estimate of the _best-fit_, it does not say anything about the _uncertainty_ of our measurement. Therefore, advanced statistical methods are needed that perform toy studies; these are fits to generated samples under different conditions such as fixing a parameter to a certain value."
   ]
  },
  {
   "cell_type": "markdown",
   "metadata": {},
   "source": [
    "## Scope of this tutorial\n",
    "\n",
    "Here, we focus on the libraries that are available to perform likelihood fits. For unbinned fits in Python, the libraries that we will consider here are [zfit](https://github.com/zfit/zfit) (likelihood model fitting library) and [hepstats](https://github.com/scikit-hep/hepstats) (higher level statistical inference; can use `zfit` models), both which are relatively young and written in pure Python.\n",
    "\n",
    "An alternative to be mentioned is [RooFit](http://roofit.sourceforge.net/) and [RooStats](https://twiki.cern.ch/twiki/bin/view/RooStats/WebHome), an older, well-proven, reliable C++ framework that has Python bindings and acts as a standard in HEP for this kind of fits.\n",
    "\n",
    "In case your analysis involved pure binned and templated fits, [pyhf](https://github.com/scikit-hep/pyhf) provides a specialized library for this kind of fits.\n",
    "\n",
    "## Getting started\n",
    "\n",
    "In order to get started with `zfit`, it is recommendable to have a look at the [zfit-tutorials](https://github.com/zfit/zfit-tutorials) or the [recorded](https://www.youtube.com/playlist?list=PLAuzjeTfC3tNeP6o2sbCr3Jsa6ATvEYR6) [tutorials](https://www.youtube.com/watch?v=YDW-XxrSbns), which also contains `hepstats` tutorials; more the latter can be found [here](https://github.com/scikit-hep/hepstats/tree/master/notebooks).\n",
    "\n",
    "Before we continue, it is highly recommended to follow the [zfit introduction tutorial](https://github.com/zfit/zfit-tutorials/blob/master/Introduction.ipynb)"
   ]
  },
  {
   "cell_type": "code",
   "execution_count": 1,
   "metadata": {
    "execution": {
     "iopub.execute_input": "2021-06-03T13:40:04.384317Z",
     "iopub.status.busy": "2021-06-03T13:40:04.383852Z",
     "iopub.status.idle": "2021-06-03T13:40:05.539272Z",
     "shell.execute_reply": "2021-06-03T13:40:05.538699Z"
    }
   },
   "outputs": [],
   "source": [
    "%store -r bkg_df\n",
    "%store -r mc_df\n",
    "%store -r data_df"
   ]
  },
  {
   "cell_type": "code",
   "execution_count": 2,
   "metadata": {
    "execution": {
     "iopub.execute_input": "2021-06-03T13:40:05.546112Z",
     "iopub.status.busy": "2021-06-03T13:40:05.542507Z",
     "iopub.status.idle": "2021-06-03T13:40:08.146454Z",
     "shell.execute_reply": "2021-06-03T13:40:08.145548Z"
    }
   },
   "outputs": [
    {
     "name": "stderr",
     "output_type": "stream",
     "text": [
      "/usr/share/miniconda/envs/example-environment/lib/python3.8/site-packages/zfit/__init__.py:48: UserWarning: TensorFlow warnings are by default suppressed by zfit. In order to show them, set the environment variable ZFIT_DISABLE_TF_WARNINGS=0. In order to suppress the TensorFlow warnings AND this warning, set ZFIT_DISABLE_TF_WARNINGS=1.\n",
      "  warnings.warn(\"TensorFlow warnings are by default suppressed by zfit.\"\n"
     ]
    }
   ],
   "source": [
    "import numpy as np\n",
    "import zfit\n",
    "import hepstats\n",
    "import mplhep\n",
    "import matplotlib.pyplot as plt"
   ]
  },
  {
   "cell_type": "code",
   "execution_count": 3,
   "metadata": {
    "execution": {
     "iopub.execute_input": "2021-06-03T13:40:08.150935Z",
     "iopub.status.busy": "2021-06-03T13:40:08.150457Z",
     "iopub.status.idle": "2021-06-03T13:40:08.265881Z",
     "shell.execute_reply": "2021-06-03T13:40:08.264860Z"
    }
   },
   "outputs": [],
   "source": [
    "# apply cuts\n",
    "query = 'BDT > 0.4'\n",
    "data_df.query(query, inplace=True)\n",
    "mc_df.query(query, inplace=True)\n",
    "\n",
    "# reduce the datasize for this example to make the fit more interesting\n",
    "fraction = 0.1  # how much to take of the original data\n",
    "data_df = data_df.sample(frac=0.1)"
   ]
  },
  {
   "cell_type": "markdown",
   "metadata": {},
   "source": [
    "**Exercise**: write a fit to the data using `zfit`"
   ]
  },
  {
   "cell_type": "code",
   "execution_count": 4,
   "metadata": {
    "execution": {
     "iopub.execute_input": "2021-06-03T13:40:08.270709Z",
     "iopub.status.busy": "2021-06-03T13:40:08.270258Z",
     "iopub.status.idle": "2021-06-03T13:40:08.273361Z",
     "shell.execute_reply": "2021-06-03T13:40:08.272955Z"
    }
   },
   "outputs": [],
   "source": [
    "obs = zfit.Space('Jpsi_M', limits=(2.8, 3.5))  # defining the observable"
   ]
  },
  {
   "cell_type": "code",
   "execution_count": 5,
   "metadata": {
    "execution": {
     "iopub.execute_input": "2021-06-03T13:40:08.276498Z",
     "iopub.status.busy": "2021-06-03T13:40:08.276015Z",
     "iopub.status.idle": "2021-06-03T13:40:08.279331Z",
     "shell.execute_reply": "2021-06-03T13:40:08.278884Z"
    }
   },
   "outputs": [],
   "source": [
    "# bkg = zfit.Data.from_pandas(bkg_df['Jpsi_M'], obs=obs)\n",
    "# OR\n",
    "# obs_bkg = zfit.Space('Jpsi_M', limits=(2.8, 3.0)) + zfit.Space('Jpsi_M', limits=(3.2, 3.5))\n",
    "# bkg_two = zfit.Data.from_pandas(data_df['Jpsi_M'], obs=obs_bkg)"
   ]
  },
  {
   "cell_type": "code",
   "execution_count": 6,
   "metadata": {
    "execution": {
     "iopub.execute_input": "2021-06-03T13:40:08.285336Z",
     "iopub.status.busy": "2021-06-03T13:40:08.283098Z",
     "iopub.status.idle": "2021-06-03T13:40:08.288034Z",
     "shell.execute_reply": "2021-06-03T13:40:08.287602Z"
    }
   },
   "outputs": [],
   "source": [
    "mc = zfit.Data.from_pandas(mc_df['Jpsi_M'], obs=obs)\n",
    "data = zfit.Data.from_pandas(data_df['Jpsi_M'], obs=obs)"
   ]
  },
  {
   "cell_type": "markdown",
   "metadata": {},
   "source": [
    "## Difference of the two spaces\n",
    "\n",
    "While the first space is defined over the whole space from 2.8 to 3.5, the second consists of two distinct regions. Therefore we can use the original space and zfit applies the cut, the same as we did before to the `bkg_df`.\n",
    "\n",
    "The difference comes when using the normalization in the PDF: we can either normalize it over the whole range or only over part of it."
   ]
  },
  {
   "cell_type": "code",
   "execution_count": 7,
   "metadata": {
    "execution": {
     "iopub.execute_input": "2021-06-03T13:40:08.292612Z",
     "iopub.status.busy": "2021-06-03T13:40:08.292114Z",
     "iopub.status.idle": "2021-06-03T13:40:08.304941Z",
     "shell.execute_reply": "2021-06-03T13:40:08.304030Z"
    }
   },
   "outputs": [],
   "source": [
    "lambd = zfit.Parameter('lambda', -0.1, -2, 2)\n",
    "bkg_yield = zfit.Parameter('bkg_yield', 5000, 0, 200000, step_size=1)\n",
    "\n",
    "\n",
    "mu = zfit.Parameter('mu', 3.1, 2.9, 3.3)\n",
    "sigma = zfit.Parameter('sigma', 0.1, 0, 0.5)\n",
    "sig_yield = zfit.Parameter('sig_yield', 200, 0, 10000, step_size=1)"
   ]
  },
  {
   "cell_type": "code",
   "execution_count": 8,
   "metadata": {
    "execution": {
     "iopub.execute_input": "2021-06-03T13:40:08.309090Z",
     "iopub.status.busy": "2021-06-03T13:40:08.308642Z",
     "iopub.status.idle": "2021-06-03T13:40:08.311759Z",
     "shell.execute_reply": "2021-06-03T13:40:08.311321Z"
    }
   },
   "outputs": [],
   "source": [
    "bkg_pdf = zfit.pdf.Exponential(lambd, obs=obs)\n",
    "bkg_pdf.set_yield(bkg_yield)"
   ]
  },
  {
   "cell_type": "code",
   "execution_count": 9,
   "metadata": {
    "execution": {
     "iopub.execute_input": "2021-06-03T13:40:08.315533Z",
     "iopub.status.busy": "2021-06-03T13:40:08.315053Z",
     "iopub.status.idle": "2021-06-03T13:40:08.318216Z",
     "shell.execute_reply": "2021-06-03T13:40:08.317816Z"
    }
   },
   "outputs": [],
   "source": [
    "sig_pdf = zfit.pdf.Gauss(obs=obs, mu=mu, sigma=sigma)\n",
    "sig_pdf.set_yield(sig_yield)"
   ]
  },
  {
   "cell_type": "code",
   "execution_count": 10,
   "metadata": {
    "execution": {
     "iopub.execute_input": "2021-06-03T13:40:08.324736Z",
     "iopub.status.busy": "2021-06-03T13:40:08.324265Z",
     "iopub.status.idle": "2021-06-03T13:40:08.327055Z",
     "shell.execute_reply": "2021-06-03T13:40:08.327463Z"
    }
   },
   "outputs": [],
   "source": [
    "model = zfit.pdf.SumPDF([bkg_pdf, sig_pdf])"
   ]
  },
  {
   "cell_type": "markdown",
   "metadata": {},
   "source": [
    "## Plotting\n",
    "\n",
    "Plots can simply be made with `matplotlib` and `mplhep`."
   ]
  },
  {
   "cell_type": "code",
   "execution_count": 11,
   "metadata": {
    "execution": {
     "iopub.execute_input": "2021-06-03T13:40:08.334550Z",
     "iopub.status.busy": "2021-06-03T13:40:08.333729Z",
     "iopub.status.idle": "2021-06-03T13:40:08.335704Z",
     "shell.execute_reply": "2021-06-03T13:40:08.335307Z"
    }
   },
   "outputs": [],
   "source": [
    "def plot_fit(model, data, nbins=30, ax=None):\n",
    "    # The function will be reused.\n",
    "    if ax is None:\n",
    "        ax = plt.gca()\n",
    "\n",
    "\n",
    "    lower, upper = data.data_range.limit1d\n",
    "\n",
    "    # Creates and histogram of the data and plots it with mplhep.\n",
    "    counts, bin_edges = np.histogram(data.unstack_x(), bins=nbins)\n",
    "    mplhep.histplot(counts, bins=bin_edges, histtype=\"errorbar\", yerr=True,\n",
    "                    label=\"Data\", ax=ax, color=\"black\")\n",
    "\n",
    "    binwidth = np.diff(bin_edges)[0]\n",
    "    x = np.linspace(lower, upper, num=1000)  # or tf.linspace\n",
    "\n",
    "    # Line plots of the total pdf and the sub-pdfs.\n",
    "    y = model.ext_pdf(x) * binwidth\n",
    "    ax.plot(x, y, label=\"total\", color=\"royalblue\")\n",
    "    for m, l, c in zip(model.get_models(), [\"background\", \"signal\"], [\"forestgreen\", \"crimson\"]):\n",
    "        ym = m.ext_pdf(x) * binwidth\n",
    "        ax.plot(x, ym, label=l, color=c)\n",
    "\n",
    "    plt.xlabel('$J/\\\\psi$ mass [GeV]')\n",
    "    ax.set_title(data.data_range.obs[0])\n",
    "    ax.set_xlim(lower, upper)\n",
    "    ax.legend(fontsize=15)\n",
    "\n",
    "    return ax"
   ]
  },
  {
   "cell_type": "code",
   "execution_count": 12,
   "metadata": {
    "execution": {
     "iopub.execute_input": "2021-06-03T13:40:08.354917Z",
     "iopub.status.busy": "2021-06-03T13:40:08.354208Z",
     "iopub.status.idle": "2021-06-03T13:40:08.714684Z",
     "shell.execute_reply": "2021-06-03T13:40:08.713864Z"
    }
   },
   "outputs": [
    {
     "name": "stderr",
     "output_type": "stream",
     "text": [
      "<ipython-input-1-2fd135e15fab>:7: UserWarning: The function <function Space.limit1d at 0x7fd78e4ee670> may does not return the actual area/limits but rather the rectangular limits. <zfit Space obs=('Jpsi_M',), axes=(0,), limits=(array([[2.8]]), array([[3.5]]))> can also have functional limits that are arbitrarily defined and lay inside the rect_limits. To test if a value is inside, use `inside` or `filter`.\n",
      "  lower, upper = data.data_range.limit1d\n"
     ]
    },
    {
     "data": {
      "text/plain": [
       "<AxesSubplot:title={'center':'Jpsi_M'}, xlabel='$J/\\\\psi$ mass [GeV]'>"
      ]
     },
     "execution_count": 1,
     "metadata": {},
     "output_type": "execute_result"
    },
    {
     "data": {
      "image/png": "[encoded data removed]",
      "text/plain": [
       "<Figure size 432x288 with 1 Axes>"
      ]
     },
     "metadata": {
      "needs_background": "light"
     },
     "output_type": "display_data"
    }
   ],
   "source": [
    "plot_fit(model, data)  # before the fit"
   ]
  },
  {
   "cell_type": "markdown",
   "metadata": {},
   "source": [
    "## Loss\n",
    "\n",
    "Since we have now the models and the datasets, we can e.g. pre-fit the signal PDF to the simulation."
   ]
  },
  {
   "cell_type": "code",
   "execution_count": 13,
   "metadata": {
    "execution": {
     "iopub.execute_input": "2021-06-03T13:40:08.720296Z",
     "iopub.status.busy": "2021-06-03T13:40:08.719344Z",
     "iopub.status.idle": "2021-06-03T13:40:08.881534Z",
     "shell.execute_reply": "2021-06-03T13:40:08.881930Z"
    }
   },
   "outputs": [
    {
     "name": "stderr",
     "output_type": "stream",
     "text": [
      "/usr/share/miniconda/envs/example-environment/lib/python3.8/site-packages/zfit/core/loss.py:509: AdvancedFeatureWarning: Either you're using an advanced feature OR causing unwanted behavior. To turn this warning off, use `zfit.settings.advanced_warnings['extended_in_UnbinnedNLL']` = False`  or 'all' (use with care) with `zfit.settings.advanced_warnings['all'] = False\n",
      "Extended PDFs are given to a normal UnbinnedNLL. This won't take the yield into account and simply treat the PDFs as non-extended PDFs. To create an extended NLL, use the `ExtendedUnbinnedNLL`.\n",
      "  warn_advanced_feature(\"Extended PDFs are given to a normal UnbinnedNLL. This won't take the yield \"\n"
     ]
    }
   ],
   "source": [
    "sig_nll = zfit.loss.UnbinnedNLL(sig_pdf, mc)"
   ]
  },
  {
   "cell_type": "markdown",
   "metadata": {},
   "source": [
    "It warns us that we are using a non-extended loss. The extended loss also includes to fit the yield while the normal one does not. Since we want to fit the _shape_ here only, we use the non-extended one."
   ]
  },
  {
   "cell_type": "code",
   "execution_count": 14,
   "metadata": {
    "execution": {
     "iopub.execute_input": "2021-06-03T13:40:08.886038Z",
     "iopub.status.busy": "2021-06-03T13:40:08.885557Z",
     "iopub.status.idle": "2021-06-03T13:40:08.888995Z",
     "shell.execute_reply": "2021-06-03T13:40:08.888378Z"
    }
   },
   "outputs": [],
   "source": [
    "minimizer = zfit.minimize.Minuit()"
   ]
  },
  {
   "cell_type": "code",
   "execution_count": 15,
   "metadata": {
    "execution": {
     "iopub.execute_input": "2021-06-03T13:40:08.893655Z",
     "iopub.status.busy": "2021-06-03T13:40:08.892836Z",
     "iopub.status.idle": "2021-06-03T13:40:09.345066Z",
     "shell.execute_reply": "2021-06-03T13:40:09.344642Z"
    }
   },
   "outputs": [
    {
     "data": {
      "text/plain": [
       "\u001b[1mFitResult\u001b[22m of\n",
       "<UnbinnedNLL model=[<zfit.<class 'zfit.models.dist_tfp.Gauss'>  params=[mu, sigma]] data=[<zfit.core.data.Data object at 0x7fd80430be80>] constraints=[]> \n",
       "with\n",
       "<Minuit Minuit tol=0.001>\n",
       "\n",
       "╒═════════╤═════════════╤══════════════════╤═════════╤═════════════╕\n",
       "│ valid   │ converged   │ param at limit   │ edm     │ min value   │\n",
       "╞═════════╪═════════════╪══════════════════╪═════════╪═════════════╡\n",
       "│ \u001b[48;5;10mTrue\u001b[0m    │ True\u001b[0m        │ False\u001b[0m            │ 1.3e-07 │ -1.382e+05  │\n",
       "╘═════════╧═════════════╧══════════════════╧═════════╧═════════════╛\n",
       "\n",
       "\u001b[1mParameters\n",
       "\u001b[22mname      value    at limit\n",
       "------  -------  ----------\n",
       "mu        3.097       False\u001b[0m\n",
       "sigma   0.01503       False\u001b[0m"
      ]
     },
     "execution_count": 1,
     "metadata": {},
     "output_type": "execute_result"
    }
   ],
   "source": [
    "minimizer.minimize(sig_nll)"
   ]
  },
  {
   "cell_type": "markdown",
   "metadata": {},
   "source": [
    "### Fixing parameters\n",
    "\n",
    "Sometimes we want to fix parameters obtained from MC, such as tailes. Here we will fix the `sigma`, just for demonstration purpose."
   ]
  },
  {
   "cell_type": "code",
   "execution_count": 16,
   "metadata": {
    "execution": {
     "iopub.execute_input": "2021-06-03T13:40:09.348658Z",
     "iopub.status.busy": "2021-06-03T13:40:09.348179Z",
     "iopub.status.idle": "2021-06-03T13:40:09.351337Z",
     "shell.execute_reply": "2021-06-03T13:40:09.350908Z"
    }
   },
   "outputs": [],
   "source": [
    "sigma.floating = False"
   ]
  },
  {
   "cell_type": "code",
   "execution_count": 17,
   "metadata": {
    "execution": {
     "iopub.execute_input": "2021-06-03T13:40:09.356297Z",
     "iopub.status.busy": "2021-06-03T13:40:09.355780Z",
     "iopub.status.idle": "2021-06-03T13:40:09.724785Z",
     "shell.execute_reply": "2021-06-03T13:40:09.724206Z"
    }
   },
   "outputs": [],
   "source": [
    "nll = zfit.loss.ExtendedUnbinnedNLL(model, data)"
   ]
  },
  {
   "cell_type": "code",
   "execution_count": 18,
   "metadata": {
    "execution": {
     "iopub.execute_input": "2021-06-03T13:40:09.729380Z",
     "iopub.status.busy": "2021-06-03T13:40:09.728923Z",
     "iopub.status.idle": "2021-06-03T13:40:10.004524Z",
     "shell.execute_reply": "2021-06-03T13:40:10.005310Z"
    }
   },
   "outputs": [],
   "source": [
    "result = minimizer.minimize(nll)"
   ]
  },
  {
   "cell_type": "code",
   "execution_count": 19,
   "metadata": {
    "execution": {
     "iopub.execute_input": "2021-06-03T13:40:10.010984Z",
     "iopub.status.busy": "2021-06-03T13:40:10.010092Z",
     "iopub.status.idle": "2021-06-03T13:40:10.019396Z",
     "shell.execute_reply": "2021-06-03T13:40:10.018914Z"
    }
   },
   "outputs": [
    {
     "data": {
      "text/plain": [
       "\u001b[1mFitResult\u001b[22m of\n",
       "<ExtendedUnbinnedNLL model=[<zfit.<class 'zfit.models.functor.SumPDF'>  params=[Composed_autoparam_1, Composed_autoparam_2]] data=[<zfit.core.data.Data object at 0x7fd77bbbca00>] constraints=[]> \n",
       "with\n",
       "<Minuit Minuit tol=0.001>\n",
       "\n",
       "╒═════════╤═════════════╤══════════════════╤═════════╤═════════════╕\n",
       "│ valid   │ converged   │ param at limit   │ edm     │ min value   │\n",
       "╞═════════╪═════════════╪══════════════════╪═════════╪═════════════╡\n",
       "│ \u001b[48;5;10mTrue\u001b[0m    │ True\u001b[0m        │ False\u001b[0m            │ 4.6e-07 │ 818.6       │\n",
       "╘═════════╧═════════════╧══════════════════╧═════════╧═════════════╛\n",
       "\n",
       "\u001b[1mParameters\n",
       "\u001b[22mname         value    at limit\n",
       "---------  -------  ----------\n",
       "bkg_yield     5971       False\u001b[0m\n",
       "sig_yield    139.4       False\u001b[0m\n",
       "lambda      -1.024       False\u001b[0m\n",
       "mu           3.085       False\u001b[0m"
      ]
     },
     "execution_count": 1,
     "metadata": {},
     "output_type": "execute_result"
    }
   ],
   "source": [
    "result"
   ]
  },
  {
   "cell_type": "code",
   "execution_count": 20,
   "metadata": {
    "execution": {
     "iopub.execute_input": "2021-06-03T13:40:10.038289Z",
     "iopub.status.busy": "2021-06-03T13:40:10.036617Z",
     "iopub.status.idle": "2021-06-03T13:40:10.245661Z",
     "shell.execute_reply": "2021-06-03T13:40:10.245185Z"
    }
   },
   "outputs": [
    {
     "data": {
      "text/plain": [
       "<AxesSubplot:title={'center':'Jpsi_M'}, xlabel='$J/\\\\psi$ mass [GeV]'>"
      ]
     },
     "execution_count": 1,
     "metadata": {},
     "output_type": "execute_result"
    },
    {
     "data": {
      "image/png": "[encoded data removed]",
      "text/plain": [
       "<Figure size 432x288 with 1 Axes>"
      ]
     },
     "metadata": {
      "needs_background": "light"
     },
     "output_type": "display_data"
    }
   ],
   "source": [
    "plot_fit(model, data)"
   ]
  },
  {
   "cell_type": "markdown",
   "metadata": {},
   "source": [
    "**Exercise**: use `hepstats` to check the significance of our signal"
   ]
  },
  {
   "cell_type": "code",
   "execution_count": 21,
   "metadata": {
    "execution": {
     "iopub.execute_input": "2021-06-03T13:40:10.250438Z",
     "iopub.status.busy": "2021-06-03T13:40:10.249568Z",
     "iopub.status.idle": "2021-06-03T13:40:10.341471Z",
     "shell.execute_reply": "2021-06-03T13:40:10.340406Z"
    },
    "jupyter": {
     "outputs_hidden": false
    }
   },
   "outputs": [],
   "source": [
    "from hepstats.hypotests.calculators import AsymptoticCalculator\n",
    "from hepstats.hypotests.parameters import POI\n",
    "\n",
    "# the null hypothesis\n",
    "sig_yield_poi = POI(sig_yield, 0)\n",
    "calculator = AsymptoticCalculator(input=result, minimizer=minimizer)"
   ]
  },
  {
   "cell_type": "markdown",
   "metadata": {},
   "source": [
    "There is another calculator in `hepstats` called `FrequentistCalculator` which constructs the test statistic distribution $f(q_{0} |H_{0})$ with pseudo-experiments (toys), but it takes more time.\n",
    "\n",
    "The `Discovery` class is a high-level class that takes as input a calculator and a `POI` instance representing the null hypothesis, it basically asks the calculator to compute the p-value and also computes the signifance as\n",
    "\n",
    "\\begin{equation}\n",
    "Z = \\Phi^{-1}(1 - p_0).\n",
    "\\end{equation}"
   ]
  },
  {
   "cell_type": "code",
   "execution_count": 22,
   "metadata": {
    "execution": {
     "iopub.execute_input": "2021-06-03T13:40:10.346908Z",
     "iopub.status.busy": "2021-06-03T13:40:10.346039Z",
     "iopub.status.idle": "2021-06-03T13:40:10.545751Z",
     "shell.execute_reply": "2021-06-03T13:40:10.545229Z"
    },
    "jupyter": {
     "outputs_hidden": false
    }
   },
   "outputs": [
    {
     "name": "stdout",
     "output_type": "stream",
     "text": [
      "\n",
      "p_value for the Null hypothesis = 4.19510104432419e-09"
     ]
    },
    {
     "name": "stdout",
     "output_type": "stream",
     "text": [
      "\n"
     ]
    },
    {
     "name": "stdout",
     "output_type": "stream",
     "text": [
      "Significance (in units of sigma) = 5.760425773673735"
     ]
    },
    {
     "name": "stdout",
     "output_type": "stream",
     "text": [
      "\n"
     ]
    },
    {
     "data": {
      "text/plain": [
       "(4.19510104432419e-09, 5.760425773673735)"
      ]
     },
     "execution_count": 1,
     "metadata": {},
     "output_type": "execute_result"
    }
   ],
   "source": [
    "from hepstats.hypotests import Discovery\n",
    "\n",
    "discovery = Discovery(calculator=calculator, poinull=sig_yield_poi)\n",
    "discovery.result()"
   ]
  },
  {
   "cell_type": "markdown",
   "metadata": {},
   "source": [
    "**Exercise** play around! First things first: repeat the fit. The difference we will see is statistical fluctuation from the resampling of the data; we take only a fraction at random.\n",
    "\n",
    "Change the fraction of data that we have, the BDT cut, the signal model...\n",
    "\n",
    "Attention: it is easy to have a significance of `inf` here"
   ]
  }
 ],
 "metadata": {
  "kernelspec": {
   "display_name": "Python 3",
   "language": "python",
   "name": "python3"
  },
  "language_info": {
   "codemirror_mode": {
    "name": "ipython",
    "version": 3
   },
   "file_extension": ".py",
   "mimetype": "text/x-python",
   "name": "python",
   "nbconvert_exporter": "python",
   "pygments_lexer": "ipython3",
   "version": "3.8.10"
  }
 },
 "nbformat": 4,
 "nbformat_minor": 4
}
