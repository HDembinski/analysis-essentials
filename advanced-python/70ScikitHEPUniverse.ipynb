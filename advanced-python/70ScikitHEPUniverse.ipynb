{
 "cells": [
  {
   "cell_type": "markdown",
   "metadata": {},
   "source": [
    "# 10: Scikit-HEP\n",
    "\n",
    "The [Scikit-HEP project](https://scikit-hep.org/) is a well maintained collection of HEP packages in Python that are useful for analysis. It contains tools ranging from plotting helpers, PDG lookup, DecayLanguage converters over high-performance histogramming libraries and ROOT I/O up to likelihood fitting and statistics libraries.\n",
    "\n",
    "This is a minimal overview over the packages that are available and have not yet been used in the other tutorials."
   ]
  },
  {
   "cell_type": "markdown",
   "metadata": {},
   "source": [
    "## formulate - converting expressions\n",
    "\n",
    "The package [formulate](https://github.com/scikit-hep/formulate) converts between different style of expressions,\n",
    "notably between\n",
    "[ROOT](https://root.cern.ch/doc/master/classTFormula.html) and\n",
    "[numexpr](https://numexpr.readthedocs.io/en/latest/user_guide.html). The former was used in the previous notebooks to apply cuts and create new variables with Pandas DataFrames `query` and `eval` methods.\n",
    "\n",
    "The standard usage is with a `from_style` and `to_style`, but it allows for more as it parses the string such as the variables used can be extracted."
   ]
  },
  {
   "cell_type": "code",
   "execution_count": 1,
   "metadata": {
    "execution": {
     "iopub.execute_input": "2022-08-21T11:59:52.054750Z",
     "iopub.status.busy": "2022-08-21T11:59:52.054464Z",
     "iopub.status.idle": "2022-08-21T11:59:52.426905Z",
     "shell.execute_reply": "2022-08-21T11:59:52.426193Z"
    }
   },
   "outputs": [
    {
     "data": {
      "text/plain": [
       "Expression<SQRT>(Expression<ADD>(Expression<POW>(Variable(X_PX), UnnamedConstant(2)), Expression<POW>(Variable(X_PY), UnnamedConstant(2)), Expression<POW>(Variable(X_PZ), UnnamedConstant(2))))"
      ]
     },
     "execution_count": 1,
     "metadata": {},
     "output_type": "execute_result"
    }
   ],
   "source": [
    "import formulate\n",
    "\n",
    "momentum = formulate.from_root('TMath::Sqrt(X_PX**2 + X_PY**2 + X_PZ**2)')\n",
    "momentum"
   ]
  },
  {
   "cell_type": "code",
   "execution_count": 2,
   "metadata": {
    "execution": {
     "iopub.execute_input": "2022-08-21T11:59:52.430392Z",
     "iopub.status.busy": "2022-08-21T11:59:52.430092Z",
     "iopub.status.idle": "2022-08-21T11:59:52.435664Z",
     "shell.execute_reply": "2022-08-21T11:59:52.435024Z"
    }
   },
   "outputs": [
    {
     "data": {
      "text/plain": [
       "'sqrt(((X_PX ** 2) + (X_PY ** 2) + (X_PZ ** 2)))'"
      ]
     },
     "execution_count": 2,
     "metadata": {},
     "output_type": "execute_result"
    }
   ],
   "source": [
    "momentum.to_numexpr()  # as used in Pandas eval/query"
   ]
  },
  {
   "cell_type": "code",
   "execution_count": 3,
   "metadata": {
    "execution": {
     "iopub.execute_input": "2022-08-21T11:59:52.438308Z",
     "iopub.status.busy": "2022-08-21T11:59:52.438090Z",
     "iopub.status.idle": "2022-08-21T11:59:52.442606Z",
     "shell.execute_reply": "2022-08-21T11:59:52.441976Z"
    }
   },
   "outputs": [
    {
     "data": {
      "text/plain": [
       "'TMath::Sqrt(((X_PX ** 2) + (X_PY ** 2) + (X_PZ ** 2)))'"
      ]
     },
     "execution_count": 3,
     "metadata": {},
     "output_type": "execute_result"
    }
   ],
   "source": [
    "momentum.to_root()  # as used in ROOT"
   ]
  },
  {
   "cell_type": "markdown",
   "metadata": {},
   "source": [
    "## Particle\n",
    "\n",
    "[particle](https://github.com/scikit-hep/particle) provides an easy access to particle properties such as mass and decay width from PDG. One example is to get the actual particle in a `Particle` object which holds all the relevant information."
   ]
  },
  {
   "cell_type": "code",
   "execution_count": 4,
   "metadata": {
    "execution": {
     "iopub.execute_input": "2022-08-21T11:59:52.445955Z",
     "iopub.status.busy": "2022-08-21T11:59:52.445738Z",
     "iopub.status.idle": "2022-08-21T11:59:52.620420Z",
     "shell.execute_reply": "2022-08-21T11:59:52.619702Z"
    }
   },
   "outputs": [],
   "source": [
    "# Particle\n",
    "\n",
    "from particle import Particle\n",
    "\n",
    "piplus = Particle.from_pdgid(211)"
   ]
  },
  {
   "cell_type": "markdown",
   "metadata": {},
   "source": [
    "Here we can access all the properties we wish to such as mass and decay width."
   ]
  },
  {
   "cell_type": "code",
   "execution_count": 5,
   "metadata": {
    "execution": {
     "iopub.execute_input": "2022-08-21T11:59:52.624356Z",
     "iopub.status.busy": "2022-08-21T11:59:52.624104Z",
     "iopub.status.idle": "2022-08-21T11:59:52.628302Z",
     "shell.execute_reply": "2022-08-21T11:59:52.627663Z"
    }
   },
   "outputs": [
    {
     "data": {
      "text/plain": [
       "139.57039"
      ]
     },
     "execution_count": 5,
     "metadata": {},
     "output_type": "execute_result"
    }
   ],
   "source": [
    "piplus.mass"
   ]
  },
  {
   "cell_type": "code",
   "execution_count": 6,
   "metadata": {
    "execution": {
     "iopub.execute_input": "2022-08-21T11:59:52.632247Z",
     "iopub.status.busy": "2022-08-21T11:59:52.632024Z",
     "iopub.status.idle": "2022-08-21T11:59:52.636041Z",
     "shell.execute_reply": "2022-08-21T11:59:52.635415Z"
    }
   },
   "outputs": [
    {
     "data": {
      "text/plain": [
       "1.0"
      ]
     },
     "execution_count": 6,
     "metadata": {},
     "output_type": "execute_result"
    }
   ],
   "source": [
    "piplus.charge"
   ]
  },
  {
   "cell_type": "code",
   "execution_count": 7,
   "metadata": {
    "execution": {
     "iopub.execute_input": "2022-08-21T11:59:52.639637Z",
     "iopub.status.busy": "2022-08-21T11:59:52.639424Z",
     "iopub.status.idle": "2022-08-21T11:59:52.643334Z",
     "shell.execute_reply": "2022-08-21T11:59:52.642708Z"
    }
   },
   "outputs": [
    {
     "data": {
      "text/plain": [
       "2.5284e-14"
      ]
     },
     "execution_count": 7,
     "metadata": {},
     "output_type": "execute_result"
    }
   ],
   "source": [
    "piplus.width"
   ]
  },
  {
   "cell_type": "code",
   "execution_count": 8,
   "metadata": {
    "execution": {
     "iopub.execute_input": "2022-08-21T11:59:52.646776Z",
     "iopub.status.busy": "2022-08-21T11:59:52.646561Z",
     "iopub.status.idle": "2022-08-21T11:59:52.650470Z",
     "shell.execute_reply": "2022-08-21T11:59:52.649795Z"
    }
   },
   "outputs": [
    {
     "data": {
      "text/plain": [
       "'pi+'"
      ]
     },
     "execution_count": 8,
     "metadata": {},
     "output_type": "execute_result"
    }
   ],
   "source": [
    "piplus.name"
   ]
  },
  {
   "cell_type": "markdown",
   "metadata": {},
   "source": [
    "It also serves as a data-base like structure and we can do searches.\n",
    "Let's find all neutral beauty hadrons."
   ]
  },
  {
   "cell_type": "code",
   "execution_count": 9,
   "metadata": {
    "execution": {
     "iopub.execute_input": "2022-08-21T11:59:52.653881Z",
     "iopub.status.busy": "2022-08-21T11:59:52.653669Z",
     "iopub.status.idle": "2022-08-21T11:59:52.699559Z",
     "shell.execute_reply": "2022-08-21T11:59:52.698874Z"
    }
   },
   "outputs": [
    {
     "data": {
      "text/plain": [
       "[<Particle: name=\"B0\", pdgid=511, mass=5279.65 ± 0.12 MeV>,\n",
       " <Particle: name=\"B~0\", pdgid=-511, mass=5279.65 ± 0.12 MeV>,\n",
       " <Particle: name=\"B*0\", pdgid=513, mass=5324.70 ± 0.21 MeV>,\n",
       " <Particle: name=\"B*~0\", pdgid=-513, mass=5324.70 ± 0.21 MeV>,\n",
       " <Particle: name=\"B(2)*(5747)0\", pdgid=515, mass=5739.5 ± 0.7 MeV>,\n",
       " <Particle: name=\"B(2)*(5747)~0\", pdgid=-515, mass=5739.5 ± 0.7 MeV>,\n",
       " <Particle: name=\"B(s)0\", pdgid=531, mass=5366.88 ± 0.14 MeV>,\n",
       " <Particle: name=\"B(s)~0\", pdgid=-531, mass=5366.88 ± 0.14 MeV>,\n",
       " <Particle: name=\"B(s)*0\", pdgid=533, mass=5415.4 + 1.8 - 1.5 MeV>,\n",
       " <Particle: name=\"B(s)*~0\", pdgid=-533, mass=5415.4 + 1.8 - 1.5 MeV>,\n",
       " <Particle: name=\"B(s2)*(5840)0\", pdgid=535, mass=5839.86 ± 0.12 MeV>,\n",
       " <Particle: name=\"B(s2)*(5840)~0\", pdgid=-535, mass=5839.86 ± 0.12 MeV>,\n",
       " <Particle: name=\"Upsilon(1S)\", pdgid=553, mass=9460.3 ± 0.3 MeV>,\n",
       " <Particle: name=\"chi(b2)(1P)\", pdgid=555, mass=9912.2 ± 0.4 MeV>,\n",
       " <Particle: name=\"Lambda(b)0\", pdgid=5122, mass=5619.60 ± 0.17 MeV>,\n",
       " <Particle: name=\"Lambda(b)~0\", pdgid=-5122, mass=5619.60 ± 0.17 MeV>,\n",
       " <Particle: name=\"Xi(b)0\", pdgid=5232, mass=5791.9 ± 0.5 MeV>,\n",
       " <Particle: name=\"Xi(b)~0\", pdgid=-5232, mass=5791.9 ± 0.5 MeV>,\n",
       " <Particle: name=\"chi(b0)(1P)\", pdgid=10551, mass=9859.4 ± 0.5 MeV>,\n",
       " <Particle: name=\"h(b)(1P)\", pdgid=10553, mass=9899.3 ± 0.8 MeV>,\n",
       " <Particle: name=\"chi(b1)(1P)\", pdgid=20553, mass=9892.8 ± 0.4 MeV>,\n",
       " <Particle: name=\"Upsilon(2)(1D)\", pdgid=20555, mass=10163.7 ± 1.4 MeV>,\n",
       " <Particle: name=\"Upsilon(2S)\", pdgid=100553, mass=10023.3 ± 0.3 MeV>,\n",
       " <Particle: name=\"chi(b2)(2P)\", pdgid=100555, mass=10268.6 ± 0.5 MeV>,\n",
       " <Particle: name=\"chi(b0)(2P)\", pdgid=110551, mass=10232.5 ± 0.6 MeV>,\n",
       " <Particle: name=\"chi(b1)(2P)\", pdgid=120553, mass=10255.5 ± 0.5 MeV>,\n",
       " <Particle: name=\"Upsilon(3S)\", pdgid=200553, mass=10355.2 ± 0.5 MeV>,\n",
       " <Particle: name=\"Upsilon(4S)\", pdgid=300553, mass=10579.4 ± 1.2 MeV>,\n",
       " <Particle: name=\"Upsilon(10860)\", pdgid=9000553, mass=10885.2 + 2.6 - 1.6 MeV>,\n",
       " <Particle: name=\"Upsilon(11020)\", pdgid=9010553, mass=11000 ± 4 MeV>]"
      ]
     },
     "execution_count": 9,
     "metadata": {},
     "output_type": "execute_result"
    }
   ],
   "source": [
    "Particle.findall(lambda p: p.pdgid.has_bottom and p.charge==0)"
   ]
  },
  {
   "cell_type": "markdown",
   "metadata": {},
   "source": [
    "## hepunits\n",
    "\n",
    "Ever hardcoded a physics constant? Or needed to manually convert units?\n",
    "That's what the neat [hepunits](https://github.com/scikit-hep/hepunits) package is for.\n",
    "\n",
    "It contains constants as well as units that all get converted into the standard units (e.g. MeV) which allows for calculations without the need to explicitly convert by just adding the unit; furthermore it greatly increases readability"
   ]
  },
  {
   "cell_type": "code",
   "execution_count": 10,
   "metadata": {
    "execution": {
     "iopub.execute_input": "2022-08-21T11:59:52.702720Z",
     "iopub.status.busy": "2022-08-21T11:59:52.702486Z",
     "iopub.status.idle": "2022-08-21T11:59:52.706641Z",
     "shell.execute_reply": "2022-08-21T11:59:52.706025Z"
    }
   },
   "outputs": [
    {
     "data": {
      "text/plain": [
       "299.792458"
      ]
     },
     "execution_count": 10,
     "metadata": {},
     "output_type": "execute_result"
    }
   ],
   "source": [
    "from hepunits.constants import c_light\n",
    "\n",
    "c_light"
   ]
  },
  {
   "cell_type": "code",
   "execution_count": 11,
   "metadata": {
    "execution": {
     "iopub.execute_input": "2022-08-21T11:59:52.711040Z",
     "iopub.status.busy": "2022-08-21T11:59:52.710825Z",
     "iopub.status.idle": "2022-08-21T11:59:52.713769Z",
     "shell.execute_reply": "2022-08-21T11:59:52.713092Z"
    }
   },
   "outputs": [],
   "source": [
    "import hepunits as u  # u for units"
   ]
  },
  {
   "cell_type": "code",
   "execution_count": 12,
   "metadata": {
    "execution": {
     "iopub.execute_input": "2022-08-21T11:59:52.716739Z",
     "iopub.status.busy": "2022-08-21T11:59:52.716527Z",
     "iopub.status.idle": "2022-08-21T11:59:52.721085Z",
     "shell.execute_reply": "2022-08-21T11:59:52.720391Z"
    }
   },
   "outputs": [
    {
     "data": {
      "text/plain": [
       "1250.0"
      ]
     },
     "execution_count": 12,
     "metadata": {},
     "output_type": "execute_result"
    }
   ],
   "source": [
    "150 * u.MeV + 1.1 * u.GeV  # result in MeV"
   ]
  },
  {
   "cell_type": "markdown",
   "metadata": {
    "pycharm": {
     "name": "#%% md\n"
    }
   },
   "source": [
    "## Vector\n",
    "\n",
    "Manipulating and calculation vector quantities can be done using the [vector](https://github.com/scikit-hep/vector) library. It\n",
    "provides functionality to load, combine and work with vectors."
   ]
  },
  {
   "cell_type": "code",
   "execution_count": 13,
   "metadata": {
    "execution": {
     "iopub.execute_input": "2022-08-21T11:59:52.724477Z",
     "iopub.status.busy": "2022-08-21T11:59:52.724266Z",
     "iopub.status.idle": "2022-08-21T11:59:53.023294Z",
     "shell.execute_reply": "2022-08-21T11:59:53.022557Z"
    }
   },
   "outputs": [],
   "source": [
    "import vector"
   ]
  },
  {
   "cell_type": "code",
   "execution_count": 14,
   "metadata": {
    "execution": {
     "iopub.execute_input": "2022-08-21T11:59:53.027312Z",
     "iopub.status.busy": "2022-08-21T11:59:53.026787Z",
     "iopub.status.idle": "2022-08-21T11:59:53.038578Z",
     "shell.execute_reply": "2022-08-21T11:59:53.037934Z"
    },
    "pycharm": {
     "name": "#%%\n"
    }
   },
   "outputs": [
    {
     "data": {
      "text/plain": [
       "MomentumNumpy4D([(1.1, 2.1, 3.1, 4.1), (1.2, 2.2, 3.2, 4.2), (1.3, 2.3, 3.3, 4.3),\n",
       "                 (1.4, 2.4, 3.4, 4.4), (1.5, 2.5, 3.5, 4.5)],\n",
       "                dtype=[('rho', '<f8'), ('phi', '<f8'), ('eta', '<f8'), ('tau', '<f8')])"
      ]
     },
     "execution_count": 14,
     "metadata": {},
     "output_type": "execute_result"
    }
   ],
   "source": [
    "# NumPy-like arguments (literally passed through to NumPy)\n",
    "vector.array([\n",
    "    (1.1, 2.1), (1.2, 2.2), (1.3, 2.3), (1.4, 2.4), (1.5, 2.5)\n",
    "], dtype=[(\"x\", float), (\"y\", float)])\n",
    "\n",
    "# Pandas-like arguments (dict from names to column arrays)\n",
    "vector.array({\"x\": [1.1, 1.2, 1.3, 1.4, 1.5], \"y\": [2.1, 2.2, 2.3, 2.4, 2.5]})\n",
    "\n",
    "# As with objects, the coordinate system and dimension is taken from the names of the fields.\n",
    "vec1 = vector.array({\n",
    "    \"x\": [1.1, 1.2, 1.3, 1.4, 1.5],\n",
    "    \"y\": [2.1, 2.2, 2.3, 2.4, 2.5],\n",
    "    \"z\": [3.1, 3.2, 3.3, 3.4, 3.5],\n",
    "    \"t\": [4.1, 4.2, 4.3, 4.4, 4.5],\n",
    "})\n",
    "\n",
    "vector.array({\n",
    "    \"pt\": [1.1, 1.2, 1.3, 1.4, 1.5],\n",
    "    \"phi\": [2.1, 2.2, 2.3, 2.4, 2.5],\n",
    "    \"eta\": [3.1, 3.2, 3.3, 3.4, 3.5],\n",
    "    \"M\": [4.1, 4.2, 4.3, 4.4, 4.5],\n",
    "})\n"
   ]
  },
  {
   "cell_type": "markdown",
   "metadata": {},
   "source": [
    "### Vector properties\n",
    "\n",
    "Vectors can have properties and provide quantities as attributes"
   ]
  },
  {
   "cell_type": "code",
   "execution_count": 15,
   "metadata": {
    "execution": {
     "iopub.execute_input": "2022-08-21T11:59:53.041668Z",
     "iopub.status.busy": "2022-08-21T11:59:53.041407Z",
     "iopub.status.idle": "2022-08-21T11:59:53.077609Z",
     "shell.execute_reply": "2022-08-21T11:59:53.076778Z"
    }
   },
   "outputs": [
    {
     "data": {
      "text/plain": [
       "1.1035868415601453"
      ]
     },
     "execution_count": 15,
     "metadata": {},
     "output_type": "execute_result"
    }
   ],
   "source": [
    "vector.obj(x=1, y=2, z=3).theta\n",
    "vector.obj(x=1, y=2, z=3).eta"
   ]
  },
  {
   "cell_type": "code",
   "execution_count": 16,
   "metadata": {
    "execution": {
     "iopub.execute_input": "2022-08-21T11:59:53.080876Z",
     "iopub.status.busy": "2022-08-21T11:59:53.080491Z",
     "iopub.status.idle": "2022-08-21T11:59:53.085591Z",
     "shell.execute_reply": "2022-08-21T11:59:53.084929Z"
    }
   },
   "outputs": [
    {
     "data": {
      "text/plain": [
       "vector.obj(x=3, y=4, z=-2, t=10)"
      ]
     },
     "execution_count": 16,
     "metadata": {},
     "output_type": "execute_result"
    }
   ],
   "source": [
    "vector.obj(x=3, y=4, z=-2, t=10)   # Cartesian 4D vector"
   ]
  },
  {
   "cell_type": "code",
   "execution_count": null,
   "metadata": {},
   "outputs": [],
   "source": []
  }
 ],
 "metadata": {
  "kernelspec": {
   "display_name": "Python 3 (ipykernel)",
   "language": "python",
   "name": "python3"
  },
  "language_info": {
   "codemirror_mode": {
    "name": "ipython",
    "version": 3
   },
   "file_extension": ".py",
   "mimetype": "text/x-python",
   "name": "python",
   "nbconvert_exporter": "python",
   "pygments_lexer": "ipython3",
   "version": "3.8.13"
  }
 },
 "nbformat": 4,
 "nbformat_minor": 4
}
