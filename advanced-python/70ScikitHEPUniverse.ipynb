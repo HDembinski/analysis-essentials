{
 "cells": [
  {
   "cell_type": "markdown",
   "metadata": {},
   "source": [
    "# 10: Scikit-HEP\n",
    "\n",
    "The [Scikit-HEP project](https://scikit-hep.org/) is a well maintained collection of HEP packages in Python that are useful for analysis. It contains tools ranging from plotting helpers, PDG lookup, DecayLanguage converters over high-performance histogramming libraries and ROOT I/O up to likelihood fitting and statistics libraries.\n",
    "\n",
    "This is a minimal overview over the packages that are available and have not yet been used in the other tutorials."
   ]
  },
  {
   "cell_type": "markdown",
   "metadata": {},
   "source": [
    "## formulate - converting expressions\n",
    "\n",
    "The package [formulate](https://github.com/scikit-hep/formulate) converts between different style of expressions,\n",
    "notably between\n",
    "[ROOT](https://root.cern.ch/doc/master/classTFormula.html) and\n",
    "[numexpr](https://numexpr.readthedocs.io/en/latest/user_guide.html). The former was used in the previous notebooks to apply cuts and create new variables with Pandas DataFrames `query` and `eval` methods.\n",
    "\n",
    "The standard usage is with a `from_style` and `to_style`, but it allows for more as it parses the string such as the variables used can be extracted."
   ]
  },
  {
   "cell_type": "code",
   "execution_count": 1,
   "metadata": {
    "execution": {
     "iopub.execute_input": "2022-09-05T10:47:26.089491Z",
     "iopub.status.busy": "2022-09-05T10:47:26.089165Z",
     "iopub.status.idle": "2022-09-05T10:47:26.455383Z",
     "shell.execute_reply": "2022-09-05T10:47:26.454592Z"
    }
   },
   "outputs": [
    {
     "data": {
      "text/plain": [
       "Expression<SQRT>(Expression<ADD>(Expression<POW>(Variable(X_PX), UnnamedConstant(2)), Expression<POW>(Variable(X_PY), UnnamedConstant(2)), Expression<POW>(Variable(X_PZ), UnnamedConstant(2))))"
      ]
     },
     "execution_count": 1,
     "metadata": {},
     "output_type": "execute_result"
    }
   ],
   "source": [
    "import formulate\n",
    "\n",
    "momentum = formulate.from_root('TMath::Sqrt(X_PX**2 + X_PY**2 + X_PZ**2)')\n",
    "momentum"
   ]
  },
  {
   "cell_type": "code",
   "execution_count": 2,
   "metadata": {
    "execution": {
     "iopub.execute_input": "2022-09-05T10:47:26.458926Z",
     "iopub.status.busy": "2022-09-05T10:47:26.458248Z",
     "iopub.status.idle": "2022-09-05T10:47:26.464712Z",
     "shell.execute_reply": "2022-09-05T10:47:26.463961Z"
    }
   },
   "outputs": [
    {
     "data": {
      "text/plain": [
       "'sqrt(((X_PX ** 2) + (X_PY ** 2) + (X_PZ ** 2)))'"
      ]
     },
     "execution_count": 2,
     "metadata": {},
     "output_type": "execute_result"
    }
   ],
   "source": [
    "momentum.to_numexpr()  # as used in Pandas eval/query"
   ]
  },
  {
   "cell_type": "code",
   "execution_count": 3,
   "metadata": {
    "execution": {
     "iopub.execute_input": "2022-09-05T10:47:26.468100Z",
     "iopub.status.busy": "2022-09-05T10:47:26.467570Z",
     "iopub.status.idle": "2022-09-05T10:47:26.474134Z",
     "shell.execute_reply": "2022-09-05T10:47:26.473506Z"
    }
   },
   "outputs": [
    {
     "data": {
      "text/plain": [
       "'TMath::Sqrt(((X_PX ** 2) + (X_PY ** 2) + (X_PZ ** 2)))'"
      ]
     },
     "execution_count": 3,
     "metadata": {},
     "output_type": "execute_result"
    }
   ],
   "source": [
    "momentum.to_root()  # as used in ROOT"
   ]
  },
  {
   "cell_type": "markdown",
   "metadata": {},
   "source": [
    "## Particle\n",
    "\n",
    "[particle](https://github.com/scikit-hep/particle) provides an easy access to particle properties such as mass and decay width from PDG. One example is to get the actual particle in a `Particle` object which holds all the relevant information."
   ]
  },
  {
   "cell_type": "code",
   "execution_count": 4,
   "metadata": {
    "execution": {
     "iopub.execute_input": "2022-09-05T10:47:26.477708Z",
     "iopub.status.busy": "2022-09-05T10:47:26.477119Z",
     "iopub.status.idle": "2022-09-05T10:47:26.651061Z",
     "shell.execute_reply": "2022-09-05T10:47:26.650301Z"
    }
   },
   "outputs": [],
   "source": [
    "# Particle\n",
    "\n",
    "from particle import Particle\n",
    "\n",
    "piplus = Particle.from_pdgid(211)"
   ]
  },
  {
   "cell_type": "markdown",
   "metadata": {},
   "source": [
    "Here we can access all the properties we wish to such as mass and decay width."
   ]
  },
  {
   "cell_type": "code",
   "execution_count": 5,
   "metadata": {
    "execution": {
     "iopub.execute_input": "2022-09-05T10:47:26.655922Z",
     "iopub.status.busy": "2022-09-05T10:47:26.655368Z",
     "iopub.status.idle": "2022-09-05T10:47:26.662325Z",
     "shell.execute_reply": "2022-09-05T10:47:26.661687Z"
    }
   },
   "outputs": [
    {
     "data": {
      "text/plain": [
       "139.57039"
      ]
     },
     "execution_count": 5,
     "metadata": {},
     "output_type": "execute_result"
    }
   ],
   "source": [
    "piplus.mass"
   ]
  },
  {
   "cell_type": "code",
   "execution_count": 6,
   "metadata": {
    "execution": {
     "iopub.execute_input": "2022-09-05T10:47:26.665840Z",
     "iopub.status.busy": "2022-09-05T10:47:26.665409Z",
     "iopub.status.idle": "2022-09-05T10:47:26.671753Z",
     "shell.execute_reply": "2022-09-05T10:47:26.671119Z"
    }
   },
   "outputs": [
    {
     "data": {
      "text/plain": [
       "1.0"
      ]
     },
     "execution_count": 6,
     "metadata": {},
     "output_type": "execute_result"
    }
   ],
   "source": [
    "piplus.charge"
   ]
  },
  {
   "cell_type": "code",
   "execution_count": 7,
   "metadata": {
    "execution": {
     "iopub.execute_input": "2022-09-05T10:47:26.676067Z",
     "iopub.status.busy": "2022-09-05T10:47:26.674788Z",
     "iopub.status.idle": "2022-09-05T10:47:26.681371Z",
     "shell.execute_reply": "2022-09-05T10:47:26.680764Z"
    }
   },
   "outputs": [
    {
     "data": {
      "text/plain": [
       "2.5284e-14"
      ]
     },
     "execution_count": 7,
     "metadata": {},
     "output_type": "execute_result"
    }
   ],
   "source": [
    "piplus.width"
   ]
  },
  {
   "cell_type": "code",
   "execution_count": 8,
   "metadata": {
    "execution": {
     "iopub.execute_input": "2022-09-05T10:47:26.685488Z",
     "iopub.status.busy": "2022-09-05T10:47:26.684252Z",
     "iopub.status.idle": "2022-09-05T10:47:26.690685Z",
     "shell.execute_reply": "2022-09-05T10:47:26.690087Z"
    }
   },
   "outputs": [
    {
     "data": {
      "text/plain": [
       "'pi+'"
      ]
     },
     "execution_count": 8,
     "metadata": {},
     "output_type": "execute_result"
    }
   ],
   "source": [
    "piplus.name"
   ]
  },
  {
   "cell_type": "markdown",
   "metadata": {},
   "source": [
    "It also serves as a data-base like structure and we can do searches.\n",
    "Let's find all neutral beauty hadrons."
   ]
  },
  {
   "cell_type": "code",
   "execution_count": 9,
   "metadata": {
    "execution": {
     "iopub.execute_input": "2022-09-05T10:47:26.694215Z",
     "iopub.status.busy": "2022-09-05T10:47:26.693778Z",
     "iopub.status.idle": "2022-09-05T10:47:26.744074Z",
     "shell.execute_reply": "2022-09-05T10:47:26.743405Z"
    }
   },
   "outputs": [
    {
     "data": {
      "text/plain": [
       "[<Particle: name=\"B0\", pdgid=511, mass=5279.65 ± 0.12 MeV>,\n",
       " <Particle: name=\"B~0\", pdgid=-511, mass=5279.65 ± 0.12 MeV>,\n",
       " <Particle: name=\"B*0\", pdgid=513, mass=5324.70 ± 0.21 MeV>,\n",
       " <Particle: name=\"B*~0\", pdgid=-513, mass=5324.70 ± 0.21 MeV>,\n",
       " <Particle: name=\"B(2)*(5747)0\", pdgid=515, mass=5739.5 ± 0.7 MeV>,\n",
       " <Particle: name=\"B(2)*(5747)~0\", pdgid=-515, mass=5739.5 ± 0.7 MeV>,\n",
       " <Particle: name=\"B(s)0\", pdgid=531, mass=5366.88 ± 0.14 MeV>,\n",
       " <Particle: name=\"B(s)~0\", pdgid=-531, mass=5366.88 ± 0.14 MeV>,\n",
       " <Particle: name=\"B(s)*0\", pdgid=533, mass=5415.4 + 1.8 - 1.5 MeV>,\n",
       " <Particle: name=\"B(s)*~0\", pdgid=-533, mass=5415.4 + 1.8 - 1.5 MeV>,\n",
       " <Particle: name=\"B(s2)*(5840)0\", pdgid=535, mass=5839.86 ± 0.12 MeV>,\n",
       " <Particle: name=\"B(s2)*(5840)~0\", pdgid=-535, mass=5839.86 ± 0.12 MeV>,\n",
       " <Particle: name=\"Upsilon(1S)\", pdgid=553, mass=9460.3 ± 0.3 MeV>,\n",
       " <Particle: name=\"chi(b2)(1P)\", pdgid=555, mass=9912.2 ± 0.4 MeV>,\n",
       " <Particle: name=\"Lambda(b)0\", pdgid=5122, mass=5619.60 ± 0.17 MeV>,\n",
       " <Particle: name=\"Lambda(b)~0\", pdgid=-5122, mass=5619.60 ± 0.17 MeV>,\n",
       " <Particle: name=\"Xi(b)0\", pdgid=5232, mass=5791.9 ± 0.5 MeV>,\n",
       " <Particle: name=\"Xi(b)~0\", pdgid=-5232, mass=5791.9 ± 0.5 MeV>,\n",
       " <Particle: name=\"chi(b0)(1P)\", pdgid=10551, mass=9859.4 ± 0.5 MeV>,\n",
       " <Particle: name=\"h(b)(1P)\", pdgid=10553, mass=9899.3 ± 0.8 MeV>,\n",
       " <Particle: name=\"chi(b1)(1P)\", pdgid=20553, mass=9892.8 ± 0.4 MeV>,\n",
       " <Particle: name=\"Upsilon(2)(1D)\", pdgid=20555, mass=10163.7 ± 1.4 MeV>,\n",
       " <Particle: name=\"Upsilon(2S)\", pdgid=100553, mass=10023.3 ± 0.3 MeV>,\n",
       " <Particle: name=\"chi(b2)(2P)\", pdgid=100555, mass=10268.6 ± 0.5 MeV>,\n",
       " <Particle: name=\"chi(b0)(2P)\", pdgid=110551, mass=10232.5 ± 0.6 MeV>,\n",
       " <Particle: name=\"chi(b1)(2P)\", pdgid=120553, mass=10255.5 ± 0.5 MeV>,\n",
       " <Particle: name=\"Upsilon(3S)\", pdgid=200553, mass=10355.2 ± 0.5 MeV>,\n",
       " <Particle: name=\"Upsilon(4S)\", pdgid=300553, mass=10579.4 ± 1.2 MeV>,\n",
       " <Particle: name=\"Upsilon(10860)\", pdgid=9000553, mass=10885.2 + 2.6 - 1.6 MeV>,\n",
       " <Particle: name=\"Upsilon(11020)\", pdgid=9010553, mass=11000 ± 4 MeV>]"
      ]
     },
     "execution_count": 9,
     "metadata": {},
     "output_type": "execute_result"
    }
   ],
   "source": [
    "Particle.findall(lambda p: p.pdgid.has_bottom and p.charge==0)"
   ]
  },
  {
   "cell_type": "markdown",
   "metadata": {},
   "source": [
    "## hepunits\n",
    "\n",
    "Ever hardcoded a physics constant? Or needed to manually convert units?\n",
    "That's what the neat [hepunits](https://github.com/scikit-hep/hepunits) package is for.\n",
    "\n",
    "It contains constants as well as units that all get converted into the standard units (e.g. MeV) which allows for calculations without the need to explicitly convert by just adding the unit; furthermore it greatly increases readability"
   ]
  },
  {
   "cell_type": "code",
   "execution_count": 10,
   "metadata": {
    "execution": {
     "iopub.execute_input": "2022-09-05T10:47:26.747554Z",
     "iopub.status.busy": "2022-09-05T10:47:26.746922Z",
     "iopub.status.idle": "2022-09-05T10:47:26.751192Z",
     "shell.execute_reply": "2022-09-05T10:47:26.750669Z"
    }
   },
   "outputs": [
    {
     "data": {
      "text/plain": [
       "299.792458"
      ]
     },
     "execution_count": 10,
     "metadata": {},
     "output_type": "execute_result"
    }
   ],
   "source": [
    "from hepunits.constants import c_light\n",
    "\n",
    "c_light"
   ]
  },
  {
   "cell_type": "code",
   "execution_count": 11,
   "metadata": {
    "execution": {
     "iopub.execute_input": "2022-09-05T10:47:26.754315Z",
     "iopub.status.busy": "2022-09-05T10:47:26.753905Z",
     "iopub.status.idle": "2022-09-05T10:47:26.758128Z",
     "shell.execute_reply": "2022-09-05T10:47:26.757507Z"
    }
   },
   "outputs": [],
   "source": [
    "import hepunits as u  # u for units"
   ]
  },
  {
   "cell_type": "code",
   "execution_count": 12,
   "metadata": {
    "execution": {
     "iopub.execute_input": "2022-09-05T10:47:26.761017Z",
     "iopub.status.busy": "2022-09-05T10:47:26.760792Z",
     "iopub.status.idle": "2022-09-05T10:47:26.767066Z",
     "shell.execute_reply": "2022-09-05T10:47:26.766447Z"
    }
   },
   "outputs": [
    {
     "data": {
      "text/plain": [
       "1250.0"
      ]
     },
     "execution_count": 12,
     "metadata": {},
     "output_type": "execute_result"
    }
   ],
   "source": [
    "150 * u.MeV + 1.1 * u.GeV  # result in MeV"
   ]
  },
  {
   "cell_type": "markdown",
   "metadata": {
    "pycharm": {
     "name": "#%% md\n"
    }
   },
   "source": [
    "## Vector\n",
    "\n",
    "Manipulating and calculation vector quantities can be done using the [vector](https://github.com/scikit-hep/vector) library. It\n",
    "provides functionality to load, combine and work with vectors."
   ]
  },
  {
   "cell_type": "code",
   "execution_count": 13,
   "metadata": {
    "execution": {
     "iopub.execute_input": "2022-09-05T10:47:26.770314Z",
     "iopub.status.busy": "2022-09-05T10:47:26.769750Z",
     "iopub.status.idle": "2022-09-05T10:47:27.062413Z",
     "shell.execute_reply": "2022-09-05T10:47:27.061629Z"
    }
   },
   "outputs": [],
   "source": [
    "import vector"
   ]
  },
  {
   "cell_type": "code",
   "execution_count": 14,
   "metadata": {
    "execution": {
     "iopub.execute_input": "2022-09-05T10:47:27.066995Z",
     "iopub.status.busy": "2022-09-05T10:47:27.066473Z",
     "iopub.status.idle": "2022-09-05T10:47:27.077620Z",
     "shell.execute_reply": "2022-09-05T10:47:27.076999Z"
    },
    "pycharm": {
     "name": "#%%\n"
    }
   },
   "outputs": [
    {
     "data": {
      "text/plain": [
       "MomentumNumpy4D([(1.1, 2.1, 3.1, 4.1), (1.2, 2.2, 3.2, 4.2), (1.3, 2.3, 3.3, 4.3),\n",
       "                 (1.4, 2.4, 3.4, 4.4), (1.5, 2.5, 3.5, 4.5)],\n",
       "                dtype=[('rho', '<f8'), ('phi', '<f8'), ('eta', '<f8'), ('tau', '<f8')])"
      ]
     },
     "execution_count": 14,
     "metadata": {},
     "output_type": "execute_result"
    }
   ],
   "source": [
    "# NumPy-like arguments (literally passed through to NumPy)\n",
    "vector.array([\n",
    "    (1.1, 2.1), (1.2, 2.2), (1.3, 2.3), (1.4, 2.4), (1.5, 2.5)\n",
    "], dtype=[(\"x\", float), (\"y\", float)])\n",
    "\n",
    "# Pandas-like arguments (dict from names to column arrays)\n",
    "vector.array({\"x\": [1.1, 1.2, 1.3, 1.4, 1.5], \"y\": [2.1, 2.2, 2.3, 2.4, 2.5]})\n",
    "\n",
    "# As with objects, the coordinate system and dimension is taken from the names of the fields.\n",
    "vec1 = vector.array({\n",
    "    \"x\": [1.1, 1.2, 1.3, 1.4, 1.5],\n",
    "    \"y\": [2.1, 2.2, 2.3, 2.4, 2.5],\n",
    "    \"z\": [3.1, 3.2, 3.3, 3.4, 3.5],\n",
    "    \"t\": [4.1, 4.2, 4.3, 4.4, 4.5],\n",
    "})\n",
    "\n",
    "vector.array({\n",
    "    \"pt\": [1.1, 1.2, 1.3, 1.4, 1.5],\n",
    "    \"phi\": [2.1, 2.2, 2.3, 2.4, 2.5],\n",
    "    \"eta\": [3.1, 3.2, 3.3, 3.4, 3.5],\n",
    "    \"M\": [4.1, 4.2, 4.3, 4.4, 4.5],\n",
    "})\n"
   ]
  },
  {
   "cell_type": "markdown",
   "metadata": {},
   "source": [
    "### Vector properties\n",
    "\n",
    "Vectors can have properties and provide quantities as attributes"
   ]
  },
  {
   "cell_type": "code",
   "execution_count": 15,
   "metadata": {
    "execution": {
     "iopub.execute_input": "2022-09-05T10:47:27.081103Z",
     "iopub.status.busy": "2022-09-05T10:47:27.080561Z",
     "iopub.status.idle": "2022-09-05T10:47:27.113736Z",
     "shell.execute_reply": "2022-09-05T10:47:27.113017Z"
    }
   },
   "outputs": [
    {
     "data": {
      "text/plain": [
       "1.1035868415601453"
      ]
     },
     "execution_count": 15,
     "metadata": {},
     "output_type": "execute_result"
    }
   ],
   "source": [
    "vector.obj(x=1, y=2, z=3).theta\n",
    "vector.obj(x=1, y=2, z=3).eta"
   ]
  },
  {
   "cell_type": "code",
   "execution_count": 16,
   "metadata": {
    "execution": {
     "iopub.execute_input": "2022-09-05T10:47:27.117181Z",
     "iopub.status.busy": "2022-09-05T10:47:27.116759Z",
     "iopub.status.idle": "2022-09-05T10:47:27.123108Z",
     "shell.execute_reply": "2022-09-05T10:47:27.122476Z"
    }
   },
   "outputs": [
    {
     "data": {
      "text/plain": [
       "vector.obj(x=3, y=4, z=-2, t=10)"
      ]
     },
     "execution_count": 16,
     "metadata": {},
     "output_type": "execute_result"
    }
   ],
   "source": [
    "vector.obj(x=3, y=4, z=-2, t=10)   # Cartesian 4D vector"
   ]
  },
  {
   "cell_type": "code",
   "execution_count": null,
   "metadata": {},
   "outputs": [],
   "source": []
  }
 ],
 "metadata": {
  "kernelspec": {
   "display_name": "Python 3 (ipykernel)",
   "language": "python",
   "name": "python3"
  },
  "language_info": {
   "codemirror_mode": {
    "name": "ipython",
    "version": 3
   },
   "file_extension": ".py",
   "mimetype": "text/x-python",
   "name": "python",
   "nbconvert_exporter": "python",
   "pygments_lexer": "ipython3",
   "version": "3.8.13"
  }
 },
 "nbformat": 4,
 "nbformat_minor": 4
}
