{
 "cells": [
  {
   "cell_type": "markdown",
   "metadata": {},
   "source": [
    "# 8: sPlot\n",
    "\n",
    "This notebook explains __sPlot__ and how to use `hep_ml.splot`.\n",
    "__sPlot__ is a way to reconstruct features of mixture components based on known properties of distributions. This method is frequently used in High Energy Physics.\n",
    "\n",
    "If you prefer explanations without code, find them [here](http://arogozhnikov.github.io/2015/10/07/splot.html)\n"
   ]
  },
  {
   "cell_type": "code",
   "execution_count": 1,
   "metadata": {
    "execution": {
     "iopub.execute_input": "2020-11-06T10:54:03.084210Z",
     "iopub.status.busy": "2020-11-06T10:54:03.083706Z",
     "iopub.status.idle": "2020-11-06T10:54:03.342055Z",
     "shell.execute_reply": "2020-11-06T10:54:03.342442Z"
    }
   },
   "outputs": [],
   "source": [
    "import numpy\n",
    "from matplotlib import pyplot as plt"
   ]
  },
  {
   "cell_type": "code",
   "execution_count": 2,
   "metadata": {
    "execution": {
     "iopub.execute_input": "2020-11-06T10:54:03.346180Z",
     "iopub.status.busy": "2020-11-06T10:54:03.345678Z",
     "iopub.status.idle": "2020-11-06T10:54:03.348893Z",
     "shell.execute_reply": "2020-11-06T10:54:03.349326Z"
    }
   },
   "outputs": [],
   "source": [
    "size = 10000\n",
    "sig_data = numpy.random.normal(-1, 1, size=size)\n",
    "bck_data = numpy.random.normal(1, 1, size=size)"
   ]
  },
  {
   "cell_type": "markdown",
   "metadata": {},
   "source": [
    "## Simple sPlot example\n",
    "\n",
    "First we start with a simple (and not very useful in practice) example:\n",
    "\n",
    "- Assume we have two types of particles (say, electrons and positrons). \n",
    "- Distribution of some characteristic is different for them (let this be $p_x$ momentum projection)."
   ]
  },
  {
   "cell_type": "code",
   "execution_count": 3,
   "metadata": {
    "execution": {
     "iopub.execute_input": "2020-11-06T10:54:03.366563Z",
     "iopub.status.busy": "2020-11-06T10:54:03.366053Z",
     "iopub.status.idle": "2020-11-06T10:54:03.805773Z",
     "shell.execute_reply": "2020-11-06T10:54:03.805304Z"
    }
   },
   "outputs": [
    {
     "data": {
      "text/plain": [
       "<matplotlib.legend.Legend at 0x7f7e064ce220>"
      ]
     },
     "execution_count": 1,
     "metadata": {},
     "output_type": "execute_result"
    },
    {
     "data": {
      "image/png": "[encoded data removed]",
      "text/plain": [
       "<Figure size 432x288 with 1 Axes>"
      ]
     },
     "metadata": {
      "needs_background": "light"
     },
     "output_type": "display_data"
    }
   ],
   "source": [
    "plt.hist(sig_data, color='b', alpha=0.5, bins=30, label='electron')\n",
    "plt.hist(bck_data, color='r', alpha=0.5, bins=30, label='positron')\n",
    "plt.xlim(-5, 5), plt.xlabel('$p_x$')\n",
    "plt.legend()"
   ]
  },
  {
   "cell_type": "markdown",
   "metadata": {},
   "source": [
    "## Observed distributions\n",
    "\n",
    "Picture above shows how this distibution should look like, \n",
    "but due to inaccuracies during classification we will observe a different picture.\n",
    "\n",
    "Let's assume that with a probability of 80% particle is classified correctly (and we are not using $p_x$ during classification).\n",
    "\n",
    "And when we look at distribution of px for particles which were classified as electrons or positrons, we see that they were distorted. \n",
    "We lost the original shapes of distributions."
   ]
  },
  {
   "cell_type": "code",
   "execution_count": 4,
   "metadata": {
    "execution": {
     "iopub.execute_input": "2020-11-06T10:54:03.810264Z",
     "iopub.status.busy": "2020-11-06T10:54:03.809813Z",
     "iopub.status.idle": "2020-11-06T10:54:03.812936Z",
     "shell.execute_reply": "2020-11-06T10:54:03.812487Z"
    }
   },
   "outputs": [],
   "source": [
    "n_sig1, n_bck1 = 8000, 2000\n",
    "n_sig2, n_bck2 = 2000, 8000\n",
    "first_bin = numpy.concatenate([sig_data[:n_sig1], bck_data[:n_bck1]])\n",
    "second_bin = numpy.concatenate([sig_data[n_sig1:], bck_data[n_bck1:]])"
   ]
  },
  {
   "cell_type": "code",
   "execution_count": 5,
   "metadata": {
    "execution": {
     "iopub.execute_input": "2020-11-06T10:54:03.833051Z",
     "iopub.status.busy": "2020-11-06T10:54:03.830399Z",
     "iopub.status.idle": "2020-11-06T10:54:04.199762Z",
     "shell.execute_reply": "2020-11-06T10:54:04.200137Z"
    }
   },
   "outputs": [
    {
     "data": {
      "image/png": "[encoded data removed]",
      "text/plain": [
       "<Figure size 1080x432 with 2 Axes>"
      ]
     },
     "metadata": {
      "needs_background": "light"
     },
     "output_type": "display_data"
    }
   ],
   "source": [
    "plt.figure(figsize=[15, 6])\n",
    "plt.subplot(121)\n",
    "plt.bar([0, 2], [n_sig1, n_sig2], width=1, color='b', alpha=0.5)\n",
    "plt.bar([0, 2], [n_bck1, n_bck2], width=1, bottom=[n_sig1, n_sig2], color='r', alpha=0.5)\n",
    "plt.xlim(-0.5, 3.5)\n",
    "\n",
    "plt.axis('off')\n",
    "plt.xticks([0.5, 2.5], ['as electrons', 'as positrons'])\n",
    "plt.text(0.5, -300, 'as electron', horizontalalignment='center', verticalalignment='top', fontsize=20)\n",
    "plt.text(2.5, -300, 'as positron', horizontalalignment='center', verticalalignment='top', fontsize=20)\n",
    "plt.title('Proportion of events being classified as')\n",
    "\n",
    "plt.subplot(122)\n",
    "plt.hist(first_bin, alpha=0.5, bins=30, label='as electrons', color=(0.22, 0., 0.66))\n",
    "plt.hist(second_bin, alpha=0.5, bins=30, label='as positrons', color=(0.66, 0., 0.22))\n",
    "plt.legend()\n",
    "plt.title('Distributions')\n",
    "plt.xlim(-5, 5), plt.xlabel('$p_x$')\n",
    "pass"
   ]
  },
  {
   "cell_type": "markdown",
   "metadata": {},
   "source": [
    "## Applying sWeights\n",
    "\n",
    "We can think of it in the following way: there are 2 bins. In first 80% are electrons, 20% are signal. And visa versa in second bin.\n",
    "\n",
    "To reconstruct initial distribution, we can plot histogram, where each event from first bin has weight 0.8, \n",
    "and each event from second bin has weight -0.2. This numbers are called sWeights. \n",
    "\n",
    "So, if we had 8000 $e^{-}$ + 2000 $e^{+}$ in first bin and 8000 $e^{+}$ + 2000 $e^{-}$ ($ e^-, e^+$ are electron and positron). After summing with introduced sWeights:\n",
    "\n",
    "$$\n",
    "\\big[ 8000 e^{-} + 2000 e^{+} \\big] \\times 0.8 + \\big[ 2000 e^{-} + 8000 e^{+} \\big] \\times (- 0.2) = \n",
    "6800 e^{-}\n",
    "$$\n",
    "\n",
    "Positrons with positive and negative weights compensated each other, and we will get pure electrons.\n",
    "\n",
    "At this moment we ignore normalization of sWeights (because it doesn't play role when we want to reconstruct shape).\n",
    "\n"
   ]
  },
  {
   "cell_type": "code",
   "execution_count": 6,
   "metadata": {
    "execution": {
     "iopub.execute_input": "2020-11-06T10:54:04.204780Z",
     "iopub.status.busy": "2020-11-06T10:54:04.204293Z",
     "iopub.status.idle": "2020-11-06T10:54:04.207815Z",
     "shell.execute_reply": "2020-11-06T10:54:04.208197Z"
    }
   },
   "outputs": [],
   "source": [
    "def plot_with_weights(datas, weights, **kargs):\n",
    "    assert len(datas) == len(weights)\n",
    "    data = numpy.concatenate(datas)\n",
    "    weight = numpy.concatenate([numpy.ones(len(d)) * w for d, w in zip(datas, weights) ])\n",
    "    plt.hist(data, weights=weight, alpha=0.5, bins=30, **kargs)"
   ]
  },
  {
   "cell_type": "code",
   "execution_count": 7,
   "metadata": {
    "execution": {
     "iopub.execute_input": "2020-11-06T10:54:04.212109Z",
     "iopub.status.busy": "2020-11-06T10:54:04.211358Z",
     "iopub.status.idle": "2020-11-06T10:54:04.540973Z",
     "shell.execute_reply": "2020-11-06T10:54:04.541384Z"
    }
   },
   "outputs": [
    {
     "data": {
      "text/plain": [
       "<matplotlib.legend.Legend at 0x7f7dd9a36e50>"
      ]
     },
     "execution_count": 1,
     "metadata": {},
     "output_type": "execute_result"
    },
    {
     "data": {
      "image/png": "[encoded data removed]",
      "text/plain": [
       "<Figure size 432x288 with 1 Axes>"
      ]
     },
     "metadata": {
      "needs_background": "light"
     },
     "output_type": "display_data"
    }
   ],
   "source": [
    "plot_with_weights([first_bin, second_bin], [n_bck2, -n_bck1], density=True, label='reconstructed electron')\n",
    "plot_with_weights([first_bin, second_bin], [-n_sig2, n_sig1], density=True, color='r', label='reconstructed positron')\n",
    "plt.xlabel('px')\n",
    "plt.legend();"
   ]
  },
  {
   "cell_type": "markdown",
   "metadata": {},
   "source": [
    "### Compare\n",
    "\n",
    "let's compare reconstructed distribution for electrons with an original one:"
   ]
  },
  {
   "cell_type": "code",
   "execution_count": 8,
   "metadata": {
    "execution": {
     "iopub.execute_input": "2020-11-06T10:54:04.560110Z",
     "iopub.status.busy": "2020-11-06T10:54:04.545885Z",
     "iopub.status.idle": "2020-11-06T10:54:04.860906Z",
     "shell.execute_reply": "2020-11-06T10:54:04.860390Z"
    }
   },
   "outputs": [
    {
     "data": {
      "text/plain": [
       "<matplotlib.legend.Legend at 0x7f7dd99409d0>"
      ]
     },
     "execution_count": 1,
     "metadata": {},
     "output_type": "execute_result"
    },
    {
     "data": {
      "image/png": "[encoded data removed]",
      "text/plain": [
       "<Figure size 432x288 with 1 Axes>"
      ]
     },
     "metadata": {
      "needs_background": "light"
     },
     "output_type": "display_data"
    }
   ],
   "source": [
    "plot_with_weights([first_bin, second_bin], [n_bck2, -n_bck1], density=True, label='reconstructed electons', edgecolor='none')\n",
    "plot_with_weights([sig_data], [1], density=True, label='original electons', edgecolor='none')\n",
    "plt.legend();"
   ]
  },
  {
   "cell_type": "markdown",
   "metadata": {},
   "source": [
    "## More complex case\n",
    "\n",
    "In the case when we have only two 'bins' is simple and straightforward. But when there are more than two bins, the solution is not unique. There are many appropriate combinations of sWeights, which one to choose? "
   ]
  },
  {
   "cell_type": "code",
   "execution_count": 9,
   "metadata": {
    "execution": {
     "iopub.execute_input": "2020-11-06T10:54:04.877118Z",
     "iopub.status.busy": "2020-11-06T10:54:04.876605Z",
     "iopub.status.idle": "2020-11-06T10:54:04.947421Z",
     "shell.execute_reply": "2020-11-06T10:54:04.947019Z"
    }
   },
   "outputs": [
    {
     "data": {
      "image/png": "[encoded data removed]",
      "text/plain": [
       "<Figure size 432x288 with 1 Axes>"
      ]
     },
     "metadata": {
      "needs_background": "light"
     },
     "output_type": "display_data"
    }
   ],
   "source": [
    "plt.bar([0, 2, 4], [3, 2, 1], width=1, color='b', alpha=0.5)\n",
    "plt.bar([0, 2, 4], [1, 2, 3], width=1, bottom=[3, 2, 1], color='r', alpha=0.5)\n",
    "\n",
    "plt.xlim(-1, 6)\n",
    "plt.ylim(-0.5, 5)\n",
    "plt.axis('off')\n",
    "\n",
    "plt.text(0.5, -0.5, 'Bin 1', horizontalalignment='center', verticalalignment='top', fontsize=20)\n",
    "plt.text(2.5, -0.5, 'Bin 2', horizontalalignment='center', verticalalignment='top', fontsize=20)\n",
    "plt.text(4.5, -0.5, 'Bin 3', horizontalalignment='center', verticalalignment='top', fontsize=20)\n",
    "pass"
   ]
  },
  {
   "cell_type": "markdown",
   "metadata": {},
   "source": [
    "Things in practice are however even more complex. We have not bins, but continuos distribution (which can be treated as many bins). \n",
    "\n",
    "Typically this is a distribution over mass. By fitting mass we are able to split mixture into two parts: signal channel and everything else."
   ]
  },
  {
   "cell_type": "markdown",
   "metadata": {},
   "source": [
    "## Building sPlot over mass\n",
    "\n",
    "Let's show how this works. First we generate two fake distributions (signal and background) with 2 variables: mass and momentum $p$."
   ]
  },
  {
   "cell_type": "code",
   "execution_count": 10,
   "metadata": {
    "execution": {
     "iopub.execute_input": "2020-11-06T10:54:04.954600Z",
     "iopub.status.busy": "2020-11-06T10:54:04.950392Z",
     "iopub.status.idle": "2020-11-06T10:54:05.200534Z",
     "shell.execute_reply": "2020-11-06T10:54:05.199642Z"
    }
   },
   "outputs": [],
   "source": [
    "from scipy.stats import norm, expon"
   ]
  },
  {
   "cell_type": "code",
   "execution_count": 11,
   "metadata": {
    "execution": {
     "iopub.execute_input": "2020-11-06T10:54:05.208464Z",
     "iopub.status.busy": "2020-11-06T10:54:05.208011Z",
     "iopub.status.idle": "2020-11-06T10:54:05.656079Z",
     "shell.execute_reply": "2020-11-06T10:54:05.655649Z"
    }
   },
   "outputs": [
    {
     "data": {
      "text/plain": [
       "Text(0.5, 0, 'p')"
      ]
     },
     "execution_count": 1,
     "metadata": {},
     "output_type": "execute_result"
    },
    {
     "data": {
      "image/png": "[encoded data removed]",
      "text/plain": [
       "<Figure size 1080x432 with 2 Axes>"
      ]
     },
     "metadata": {
      "needs_background": "light"
     },
     "output_type": "display_data"
    }
   ],
   "source": [
    "plt.figure(figsize=[15, 6])\n",
    "size = 10000\n",
    "\n",
    "sig_mass_distr = norm(loc=4, scale=1)\n",
    "bck_mass_distr = expon(scale=4)\n",
    "\n",
    "sig_mass = sig_mass_distr.rvs(size=size)\n",
    "bck_mass = bck_mass_distr.rvs(size=size)\n",
    "sig_p = numpy.random.normal(5, 1, size=size)\n",
    "bck_p = numpy.random.normal(3, 1, size=size)\n",
    "\n",
    "plt.subplot(121)\n",
    "\n",
    "plt.hist(sig_mass, bins=20, density=True)\n",
    "plt.hist(bck_mass, bins=20, density=True, range=(0, 10), alpha=0.5)\n",
    "plt.xlabel('mass')\n",
    "\n",
    "plt.subplot(122)\n",
    "\n",
    "plt.hist(sig_p, bins=20, density=True)\n",
    "plt.hist(bck_p, bins=20, density=True, range=(0, 10), alpha=0.5)\n",
    "plt.xlabel('p');"
   ]
  },
  {
   "cell_type": "markdown",
   "metadata": {},
   "source": [
    "### Of course we don't have labels which events are signal and which are background beforehand\n",
    "\n",
    "And we observe the mixture of two distributions:"
   ]
  },
  {
   "cell_type": "code",
   "execution_count": 12,
   "metadata": {
    "execution": {
     "iopub.execute_input": "2020-11-06T10:54:05.661371Z",
     "iopub.status.busy": "2020-11-06T10:54:05.660707Z",
     "iopub.status.idle": "2020-11-06T10:54:05.972267Z",
     "shell.execute_reply": "2020-11-06T10:54:05.971564Z"
    }
   },
   "outputs": [
    {
     "data": {
      "text/plain": [
       "Text(0.5, 0, 'p')"
      ]
     },
     "execution_count": 1,
     "metadata": {},
     "output_type": "execute_result"
    },
    {
     "data": {
      "image/png": "[encoded data removed]",
      "text/plain": [
       "<Figure size 1080x432 with 2 Axes>"
      ]
     },
     "metadata": {
      "needs_background": "light"
     },
     "output_type": "display_data"
    }
   ],
   "source": [
    "plt.figure(figsize=[15, 6])\n",
    "mass = numpy.concatenate([sig_mass, bck_mass])\n",
    "p = numpy.concatenate([sig_p, bck_p])\n",
    "\n",
    "sorter = numpy.argsort(mass)\n",
    "mass = mass[sorter]\n",
    "p = p[sorter]\n",
    "\n",
    "plt.subplot(121)\n",
    "plt.hist(mass, bins=20, range=(0, 10))\n",
    "plt.xlabel('mass')\n",
    "\n",
    "plt.subplot(122)\n",
    "plt.hist(p, bins=20)\n",
    "plt.xlabel('p')"
   ]
  },
  {
   "cell_type": "markdown",
   "metadata": {},
   "source": [
    "### We have no information about real labels\n",
    "\n",
    "But we know a priori that background is distributed as exponential distribution and signal - as gaussian (more complex models can be met in practice, but idea is the same).\n",
    "\n",
    "After fitting the mixture (let me skip this process), we will get the following result:"
   ]
  },
  {
   "cell_type": "code",
   "execution_count": 13,
   "metadata": {
    "execution": {
     "iopub.execute_input": "2020-11-06T10:54:05.990728Z",
     "iopub.status.busy": "2020-11-06T10:54:05.988599Z",
     "iopub.status.idle": "2020-11-06T10:54:06.257115Z",
     "shell.execute_reply": "2020-11-06T10:54:06.256654Z"
    }
   },
   "outputs": [
    {
     "data": {
      "text/plain": [
       "<matplotlib.legend.Legend at 0x7f7dd77d7340>"
      ]
     },
     "execution_count": 1,
     "metadata": {},
     "output_type": "execute_result"
    },
    {
     "data": {
      "image/png": "[encoded data removed]",
      "text/plain": [
       "<Figure size 432x288 with 1 Axes>"
      ]
     },
     "metadata": {
      "needs_background": "light"
     },
     "output_type": "display_data"
    }
   ],
   "source": [
    "x = numpy.linspace(0, 10)\n",
    "plt.hist(mass, bins=30, range=[0, 10], density=True, alpha=0.4)\n",
    "plt.plot(x, norm.pdf(x, loc=4, scale=1) / 2., label='signal')\n",
    "plt.plot(x, expon.pdf(x, scale=4) / 2., label='bck')\n",
    "plt.plot(x, 0.5 * (norm.pdf(x, loc=4, scale=1) + expon.pdf(x, scale=4)), label='sig + bck')\n",
    "plt.legend(fontsize=20)"
   ]
  },
  {
   "cell_type": "markdown",
   "metadata": {},
   "source": [
    "## Fitting doesn't give us information about real labels\n",
    "\n",
    "But it gives an information about probabilities, thus now we can estimate number of signal and background events within each bin. \n",
    "\n",
    "We won't use bins, but instead we will get for each event probability that it is signal or background:"
   ]
  },
  {
   "cell_type": "code",
   "execution_count": 14,
   "metadata": {
    "execution": {
     "iopub.execute_input": "2020-11-06T10:54:06.262185Z",
     "iopub.status.busy": "2020-11-06T10:54:06.261358Z",
     "iopub.status.idle": "2020-11-06T10:54:06.461075Z",
     "shell.execute_reply": "2020-11-06T10:54:06.460381Z"
    }
   },
   "outputs": [],
   "source": [
    "import pandas\n",
    "probs = pandas.DataFrame(dict(sig=sig_mass_distr.pdf(mass), bck=bck_mass_distr.pdf(mass)))\n",
    "probs = probs.div(probs.sum(axis=1), axis=0)"
   ]
  },
  {
   "cell_type": "code",
   "execution_count": 15,
   "metadata": {
    "execution": {
     "iopub.execute_input": "2020-11-06T10:54:06.481000Z",
     "iopub.status.busy": "2020-11-06T10:54:06.476558Z",
     "iopub.status.idle": "2020-11-06T10:54:06.702810Z",
     "shell.execute_reply": "2020-11-06T10:54:06.702304Z"
    }
   },
   "outputs": [
    {
     "data": {
      "text/plain": [
       "((0.0, 10.0),\n",
       " <matplotlib.legend.Legend at 0x7f7dd5fa1760>,\n",
       " Text(0.5, 0, 'mass'))"
      ]
     },
     "execution_count": 1,
     "metadata": {},
     "output_type": "execute_result"
    },
    {
     "data": {
      "image/png": "[encoded data removed]",
      "text/plain": [
       "<Figure size 432x288 with 1 Axes>"
      ]
     },
     "metadata": {
      "needs_background": "light"
     },
     "output_type": "display_data"
    }
   ],
   "source": [
    "plt.plot(mass, probs.sig, label='sig probability')\n",
    "plt.plot(mass, probs.bck, label='bck probability')\n",
    "plt.xlim(0, 10), plt.legend(), plt.xlabel('mass')"
   ]
  },
  {
   "cell_type": "markdown",
   "metadata": {},
   "source": [
    "## Appying sPlot\n",
    "\n",
    "sPlot converts probabilities to sWeights, using an implementation from `hep_ml`:\n"
   ]
  },
  {
   "cell_type": "code",
   "execution_count": 16,
   "metadata": {
    "execution": {
     "iopub.execute_input": "2020-11-06T10:54:06.706806Z",
     "iopub.status.busy": "2020-11-06T10:54:06.705847Z",
     "iopub.status.idle": "2020-11-06T10:54:06.894307Z",
     "shell.execute_reply": "2020-11-06T10:54:06.894971Z"
    }
   },
   "outputs": [
    {
     "name": "stderr",
     "output_type": "stream",
     "text": [
      "/usr/share/miniconda/envs/example-environment/lib/python3.8/site-packages/sklearn/utils/deprecation.py:143: FutureWarning: The sklearn.neighbors.unsupervised module is  deprecated in version 0.22 and will be removed in version 0.24. The corresponding classes / functions should instead be imported from sklearn.neighbors. Anything that cannot be imported from sklearn.neighbors is now part of the private API.\n",
      "  warnings.warn(message, FutureWarning)\n"
     ]
    }
   ],
   "source": [
    "from hep_ml import splot\n",
    "sWeights = splot.compute_sweights(probs)"
   ]
  },
  {
   "cell_type": "markdown",
   "metadata": {},
   "source": [
    "As you can see, there are also negative sWeights, which are needed to compensate the contributions of other class."
   ]
  },
  {
   "cell_type": "code",
   "execution_count": 17,
   "metadata": {
    "execution": {
     "iopub.execute_input": "2020-11-06T10:54:06.918552Z",
     "iopub.status.busy": "2020-11-06T10:54:06.917939Z",
     "iopub.status.idle": "2020-11-06T10:54:07.143865Z",
     "shell.execute_reply": "2020-11-06T10:54:07.143323Z"
    }
   },
   "outputs": [
    {
     "data": {
      "text/plain": [
       "((0.0, 10.0),\n",
       " <matplotlib.legend.Legend at 0x7f7dd540ad30>,\n",
       " Text(0.5, 0, 'mass'))"
      ]
     },
     "execution_count": 1,
     "metadata": {},
     "output_type": "execute_result"
    },
    {
     "data": {
      "image/png": "[encoded data removed]",
      "text/plain": [
       "<Figure size 432x288 with 1 Axes>"
      ]
     },
     "metadata": {
      "needs_background": "light"
     },
     "output_type": "display_data"
    }
   ],
   "source": [
    "plt.plot(mass, sWeights.sig, label='sig sWeight')\n",
    "plt.plot(mass, sWeights.bck, label='bck sWeight')\n",
    "plt.xlim(0, 10), plt.legend(), plt.xlabel('mass');"
   ]
  },
  {
   "cell_type": "markdown",
   "metadata": {},
   "source": [
    "## Using sWeights to reconstruct initial distribution\n",
    "\n",
    "Let's check that we achieved our goal and can reconstruct momentum distribution for signal and background:"
   ]
  },
  {
   "cell_type": "code",
   "execution_count": 18,
   "metadata": {
    "execution": {
     "iopub.execute_input": "2020-11-06T10:54:07.165794Z",
     "iopub.status.busy": "2020-11-06T10:54:07.163207Z",
     "iopub.status.idle": "2020-11-06T10:54:07.764896Z",
     "shell.execute_reply": "2020-11-06T10:54:07.764502Z"
    }
   },
   "outputs": [
    {
     "data": {
      "image/png": "[encoded data removed]",
      "text/plain": [
       "<Figure size 1080x504 with 2 Axes>"
      ]
     },
     "metadata": {
      "needs_background": "light"
     },
     "output_type": "display_data"
    }
   ],
   "source": [
    "plt.figure(figsize=[15, 7])\n",
    "plt.subplot(121)\n",
    "hist_conf = dict(bins=30, alpha=0.4, range=[0, 10])\n",
    "plt.hist(sig_p, label='original sig p', **hist_conf)\n",
    "plt.hist(p, weights=sWeights.sig, label='reconstructed sig p', **hist_conf)\n",
    "plt.xlabel('p'), plt.legend()\n",
    "\n",
    "plt.subplot(122)\n",
    "plt.hist(bck_p, label='original bck p', **hist_conf)\n",
    "plt.hist(p, weights=sWeights.bck, label='reconstructed bck p', **hist_conf)\n",
    "plt.xlabel('p'), plt.legend()\n",
    "pass"
   ]
  },
  {
   "cell_type": "markdown",
   "metadata": {},
   "source": [
    "## An important requirement of sPlot\n",
    "\n",
    "Reconstructed variable (i.e. $p$) and splotted variable (i.e. mass) shall be statistically independent for each class.\n",
    "\n",
    "Read the line above again. Reconstructed and splotted variable are correlated:"
   ]
  },
  {
   "cell_type": "code",
   "execution_count": 19,
   "metadata": {
    "execution": {
     "iopub.execute_input": "2020-11-06T10:54:07.768843Z",
     "iopub.status.busy": "2020-11-06T10:54:07.767822Z",
     "iopub.status.idle": "2020-11-06T10:54:07.774066Z",
     "shell.execute_reply": "2020-11-06T10:54:07.773483Z"
    }
   },
   "outputs": [
    {
     "data": {
      "text/plain": [
       "-0.3404332243265671"
      ]
     },
     "execution_count": 1,
     "metadata": {},
     "output_type": "execute_result"
    }
   ],
   "source": [
    "numpy.corrcoef(abs(mass - 4), p) [0, 1]"
   ]
  },
  {
   "cell_type": "markdown",
   "metadata": {},
   "source": [
    "But within each class there is no correlation, so the requirement is satisfied:"
   ]
  },
  {
   "cell_type": "code",
   "execution_count": 20,
   "metadata": {
    "execution": {
     "iopub.execute_input": "2020-11-06T10:54:07.777551Z",
     "iopub.status.busy": "2020-11-06T10:54:07.777097Z",
     "iopub.status.idle": "2020-11-06T10:54:07.780753Z",
     "shell.execute_reply": "2020-11-06T10:54:07.781430Z"
    }
   },
   "outputs": [
    {
     "name": "stdout",
     "output_type": "stream",
     "text": [
      "0.002569284929563579\n",
      "0.012818808844301345\n"
     ]
    }
   ],
   "source": [
    "print(numpy.corrcoef(abs(sig_mass - 4), sig_p)[0, 1])\n",
    "print(numpy.corrcoef(abs(bck_mass - 4), bck_p)[0, 1])"
   ]
  },
  {
   "cell_type": "markdown",
   "metadata": {},
   "source": [
    "as a demonstration why this is important let's use sweights to reconstruct mass (obviously mass is correlated with mass):"
   ]
  },
  {
   "cell_type": "code",
   "execution_count": 21,
   "metadata": {
    "execution": {
     "iopub.execute_input": "2020-11-06T10:54:07.850771Z",
     "iopub.status.busy": "2020-11-06T10:54:07.850088Z",
     "iopub.status.idle": "2020-11-06T10:54:08.163812Z",
     "shell.execute_reply": "2020-11-06T10:54:08.164452Z"
    }
   },
   "outputs": [
    {
     "data": {
      "image/png": "[encoded data removed]",
      "text/plain": [
       "<Figure size 432x288 with 1 Axes>"
      ]
     },
     "metadata": {
      "needs_background": "light"
     },
     "output_type": "display_data"
    }
   ],
   "source": [
    "hist_conf = dict(bins=30, alpha=0.5, range=[-1, 7])\n",
    "plt.hist(sig_mass, label='original sig mass', **hist_conf)\n",
    "plt.hist(mass, weights=sWeights.sig, label='reconstructed sig mass', **hist_conf)\n",
    "plt.xlabel('mass'), plt.legend()\n",
    "pass"
   ]
  },
  {
   "cell_type": "markdown",
   "metadata": {},
   "source": [
    "$\\def\\ps{p_s(x)}$\n",
    "$\\def\\pb{p_b(x)}$\n",
    "$\\def\\ws{sw_s(x)}$\n",
    "$\\def\\wb{sw_b(x)}$\n",
    "\n",
    "\n",
    "\n",
    "## Derivation of sWeights (optional)\n",
    "\n",
    "Now, after we seen how this works, let's derive a formula for sWeights.\n",
    "\n",
    "\n",
    "\n",
    "The only information we have from fitting over mass is  $ \\ps $, $ \\pb$ which are probabilities of event $x$ to be signal and background. \n",
    "\n",
    "Our main goal is to correctly reconstruct histogram. Let's reconstruct the number of _signal_ events in _particular_ bin. Let's introduce unknown $p_s$ and $p_b$ - probability that signal or background event will be in the named bin.\n",
    "\n",
    "(Since mass and reconstructed variable are statistically independent for each class, $p_s$ and $p_b$ do not depend on mass.)\n",
    "\n",
    "The mathematical expectation should be obviously equal to $p_s N_s$, where $N_s$ is total amount of signal events available from fitting.\n",
    "\n",
    "Let's also introduce random variable $1_{x \\in bin}$, which is 1 iff event $x$ lies in selected bin. \n",
    "\n",
    "The __estimate for number of signal event in bin__ is equal to:\n",
    "$$X = \\sum_x \\ws \\; 1_{x \\in bin},$$ where $\\ws$ are sPlot weights and are subject to find.\n",
    "\n"
   ]
  },
  {
   "cell_type": "markdown",
   "metadata": {},
   "source": [
    "This way we can guarantee that mean contribution of background are 0 (expectation is zero, but observed number will not be zero due to statistical deviation). "
   ]
  },
  {
   "cell_type": "markdown",
   "metadata": {},
   "source": [
    "### Under assumption of linearity:\n",
    "\n",
    "*assuming* that splot weight can be computed as a linear combination of conditional probabilities:\n",
    "\n",
    "$ \\ws = a_1 \\pb + a_2 \\ps$\n",
    "\n",
    "We can easily reconstruct those numbers, first let's rewrite our system:\n",
    "\n",
    "$ \\sum_x (a_1 \\pb + a_2 \\ps) \\; \\ps = 0$ <br />\n",
    "$ \\sum_x (a_1 \\pb + a_2 \\ps) \\; \\pb = N_{sig}$\n",
    "\n",
    "$ a_1 V_{bb} + a_2 V_{bs} = 0$ <br />\n",
    "$ a_1 V_{sb} + a_2 V_{ss} = N_{sig}$ <br />\n",
    "\n",
    "Where \n",
    "$V_{ss} = \\sum_x \\ps \\; \\ps $, $V_{bs} = V_{sb} = \\sum_x \\ps \\; \\pb$, $V_{bb} = \\sum_x \\pb \\; \\pb$\n",
    "\n",
    "Having solved this linear equation, we get needed coefficients (as those in the paper)\n",
    "\n",
    "NB. There is little difference between $V$ matrix I use and $V$ matrix in the paper. <br />\n"
   ]
  },
  {
   "cell_type": "markdown",
   "metadata": {},
   "source": [
    "### Minimization of variation\n",
    "$\\def\\Var{\\mathbb{V}\\,}$\n",
    "\n",
    "Previous part allows one to get the correct result. But there is still no explanation of reason for linearity.\n",
    "\n",
    "\n",
    "Apart from having correct mean, we should also minimize variation of any reconstructed variable. Let's try to optimize it \n",
    "\n",
    "$$ \\Var X = \\sum_x \\ws^2 \\; \\Var 1_{x \\in bin} = \\sum_x \\ws^2 \\; (p_s \\ps + p_b \\pb)(1 - p_s \\ps - p_b \\pb)$$\n",
    "\n",
    "A bit complex, isn't it? Instead of optimizing such a complex expression (which is individual for each bin), let's minimize it's __uniform upper estimate__\n",
    "$$ \\Var X = \\sum_x \\ws^2 \\; \\Var 1_{x \\in bin} \\leq  \\sum_x \\ws^2  $$\n"
   ]
  },
  {
   "cell_type": "markdown",
   "metadata": {},
   "source": [
    "\n",
    "so if we are going to minimize this upper estimate, we should solve the following optimization problem with constraints:\n",
    "<br />$\\sum_x \\ws^2 \\to \\min $\n",
    "<br />$\\sum_x \\ws \\; \\pb = 0$ \n",
    "<br />$\\sum_x \\ws \\; \\ps = N_{sig}$\n",
    "\n",
    "Let's write lagrangian of optimization problem:\n",
    "<br /> $$ \\mathcal{L} =  \\sum_x \\ws^2 \n",
    "+ \\lambda_1 \\left[\\sum_x \\ws \\; \\pb \\right]\n",
    "+ \\lambda_2 \\left[\\sum_x \\ws \\; \\ps - N_{sig} \\right]$$"
   ]
  },
  {
   "cell_type": "markdown",
   "metadata": {},
   "source": [
    "### Uncorrelatedness\n",
    "\n",
    "The main assuption we used here is that distribution inside each bin is abolutely indentical.\n",
    "\n",
    "In other words, we stated that there is no correlation between the index of bin and the reconstructed variable. Remember that bin corresponds to some interval in mass, and finaly we get:\n",
    "\n",
    "__reconstructed variable shall not be correlated with mass variables (or any other splotted variable)__"
   ]
  },
  {
   "cell_type": "markdown",
   "metadata": {},
   "source": [
    "## Conclusion\n",
    "\n",
    "1. sPlot allows reconstruction of some variables.\n",
    "2. the only information used is probabilities taken from fit over variable. If fact, any probability estimates fit well.\n",
    "3. the source of probabilities should be statistically independent from reconstructed variable (for each class!).\n",
    "4. mixture may contain more than 2 classes (this is supported by `hep_ml.splot` as well)"
   ]
  }
 ],
 "metadata": {
  "kernelspec": {
   "display_name": "Python 3",
   "language": "python",
   "name": "python3"
  },
  "language_info": {
   "codemirror_mode": {
    "name": "ipython",
    "version": 3
   },
   "file_extension": ".py",
   "mimetype": "text/x-python",
   "name": "python",
   "nbconvert_exporter": "python",
   "pygments_lexer": "ipython3",
   "version": "3.8.6"
  }
 },
 "nbformat": 4,
 "nbformat_minor": 4
}
