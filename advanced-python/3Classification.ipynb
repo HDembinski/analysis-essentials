{
 "cells": [
  {
   "cell_type": "markdown",
   "metadata": {},
   "source": [
    "# 3: Multivariate Analysis"
   ]
  },
  {
   "cell_type": "markdown",
   "metadata": {},
   "source": [
    "In this lesson we will use 'Multivariate Analysis' to improve the signal significance of our data sample. This involves training a Boosted Decision Tree (**BDT**) which can distinguish between signal-like and background-like events. The BDT takes a number of input variables and makes a prediction on whether the event is signal or background.\n",
    "\n",
    "* First we need to load the data which we stored in the previous lesson and import the modules we need:"
   ]
  },
  {
   "cell_type": "code",
   "execution_count": 1,
   "metadata": {
    "execution": {
     "iopub.execute_input": "2020-10-30T06:07:50.080030Z",
     "iopub.status.busy": "2020-10-30T06:07:50.079585Z",
     "iopub.status.idle": "2020-10-30T06:07:50.990988Z",
     "shell.execute_reply": "2020-10-30T06:07:50.990221Z"
    }
   },
   "outputs": [],
   "source": [
    "%store -r bkg_df\n",
    "%store -r mc_df\n",
    "%store -r data_df"
   ]
  },
  {
   "cell_type": "code",
   "execution_count": 2,
   "metadata": {
    "execution": {
     "iopub.execute_input": "2020-10-30T06:07:50.994860Z",
     "iopub.status.busy": "2020-10-30T06:07:50.994419Z",
     "iopub.status.idle": "2020-10-30T06:07:51.817701Z",
     "shell.execute_reply": "2020-10-30T06:07:51.817117Z"
    }
   },
   "outputs": [],
   "source": [
    "from matplotlib import pyplot as plt\n",
    "import uproot\n",
    "import numpy as np\n",
    "import pandas as pd\n",
    "from xgboost import XGBClassifier\n",
    "from sklearn.ensemble import AdaBoostClassifier, GradientBoostingClassifier\n",
    "from sklearn.metrics import roc_curve, auc\n",
    "from sklearn.model_selection import KFold"
   ]
  },
  {
   "cell_type": "markdown",
   "metadata": {},
   "source": [
    "## Using a classifier"
   ]
  },
  {
   "cell_type": "markdown",
   "metadata": {},
   "source": [
    "Rectangular cuts are give good simple selections however you can often get better performance by using a more advanced technique. This generally works by taking adavantage of the corellation between variables. For example if we look in two dimensions, `Jpsi_eta` and `mum_P`:"
   ]
  },
  {
   "cell_type": "code",
   "execution_count": 3,
   "metadata": {
    "execution": {
     "iopub.execute_input": "2020-10-30T06:07:51.834707Z",
     "iopub.status.busy": "2020-10-30T06:07:51.832940Z",
     "iopub.status.idle": "2020-10-30T06:07:53.118436Z",
     "shell.execute_reply": "2020-10-30T06:07:53.117971Z"
    }
   },
   "outputs": [
    {
     "data": {
      "text/plain": [
       "<matplotlib.legend.Legend at 0x7f76f3e575e0>"
      ]
     },
     "execution_count": 1,
     "metadata": {},
     "output_type": "execute_result"
    },
    {
     "data": {
      "image/png": "[encoded data removed]",
      "text/plain": [
       "<Figure size 432x288 with 1 Axes>"
      ]
     },
     "metadata": {
      "needs_background": "light"
     },
     "output_type": "display_data"
    }
   ],
   "source": [
    "plt.scatter(mc_df['mup_PT'], mc_df['mum_PT'], s=1, marker=',', label='Signal')\n",
    "plt.scatter(bkg_df['mup_PT'], bkg_df['mum_PT'], s=1, marker=',', label='Background')\n",
    "plt.xlabel('mup_PT')\n",
    "plt.ylabel('mum_PT')\n",
    "plt.legend()"
   ]
  },
  {
   "cell_type": "markdown",
   "metadata": {},
   "source": [
    "We can see that there if we cut out 2 (or more) dimensional regions we can remove background more effectively. This is the idea behind decision trees.\n",
    "\n",
    "#### TODO Add a diagram of a decision tree for the above plot\n",
    "\n",
    "In machine learning there is a concept known as \"boosting\" which comes from the question:\n",
    "\n",
    "> Can a set of weak learners create a single strong learner?\n",
    "\n",
    "I.e. Can a set of bad decision trees be combined to make a single algorithm that has good performance? Luckily the answer is yes and this is known as a boosted ensemable of decision trees. A BDT.\n",
    "(This can also be done with other classifers but BDT's are popular for solving HEP classification problems.)\n",
    "\n",
    "This might sound complicated but there is a popular Python package called `scikit-learn` which makes it easy to do machine learning in Python.\n",
    "\n",
    "* First choose some variables which have good discriminating power for the classifier to use\n",
    "* For this exercise we will use `GradientBoosingClassifier` from `scikit-learn`"
   ]
  },
  {
   "cell_type": "code",
   "execution_count": 4,
   "metadata": {
    "execution": {
     "iopub.execute_input": "2020-10-30T06:07:53.124023Z",
     "iopub.status.busy": "2020-10-30T06:07:53.122869Z",
     "iopub.status.idle": "2020-10-30T06:07:53.127321Z",
     "shell.execute_reply": "2020-10-30T06:07:53.127719Z"
    }
   },
   "outputs": [
    {
     "name": "stdout",
     "output_type": "stream",
     "text": [
      "Stored 'training_columns' (list)\n"
     ]
    }
   ],
   "source": [
    "training_columns = [\n",
    "    'Jpsi_PT',\n",
    "    'mup_PT', 'mup_eta', 'mup_ProbNNmu',\n",
    "    'mum_PT', 'mum_eta', 'mum_ProbNNmu',\n",
    "]\n",
    "# Store training_columns\n",
    "%store training_columns"
   ]
  },
  {
   "cell_type": "code",
   "execution_count": 5,
   "metadata": {
    "execution": {
     "iopub.execute_input": "2020-10-30T06:07:53.130981Z",
     "iopub.status.busy": "2020-10-30T06:07:53.130396Z",
     "iopub.status.idle": "2020-10-30T06:07:53.133459Z",
     "shell.execute_reply": "2020-10-30T06:07:53.133952Z"
    }
   },
   "outputs": [],
   "source": [
    "# We then define the classifier we want to use\n",
    "bdt = GradientBoostingClassifier()"
   ]
  },
  {
   "cell_type": "markdown",
   "metadata": {},
   "source": [
    "In order to teach the BDT what signal and background look like we have to train it using some reference samples. One of the useful things about `scikit-learn` is that all classifiers are trained in the same way, by calling the `fit(X, y)` method. Where `X` is a 2D array of features and `y` is the labels (signal/background/other/...).\n",
    "\n",
    "* We need to set the background and signal categories for our data:"
   ]
  },
  {
   "cell_type": "code",
   "execution_count": 6,
   "metadata": {
    "execution": {
     "iopub.execute_input": "2020-10-30T06:07:53.137396Z",
     "iopub.status.busy": "2020-10-30T06:07:53.136498Z",
     "iopub.status.idle": "2020-10-30T06:07:53.151731Z",
     "shell.execute_reply": "2020-10-30T06:07:53.151327Z"
    }
   },
   "outputs": [],
   "source": [
    "bkg_df = bkg_df.copy()\n",
    "bkg_df['catagory'] = 0  # Use 0 for background\n",
    "mc_df['catagory'] = 1  # Use 1 for signal"
   ]
  },
  {
   "cell_type": "code",
   "execution_count": 7,
   "metadata": {
    "execution": {
     "iopub.execute_input": "2020-10-30T06:07:53.155776Z",
     "iopub.status.busy": "2020-10-30T06:07:53.155351Z",
     "iopub.status.idle": "2020-10-30T06:07:53.744219Z",
     "shell.execute_reply": "2020-10-30T06:07:53.744663Z"
    }
   },
   "outputs": [
    {
     "name": "stdout",
     "output_type": "stream",
     "text": [
      "Stored 'training_data' (DataFrame)\n"
     ]
    }
   ],
   "source": [
    "# Now merge the data together\n",
    "training_data = pd.concat([bkg_df, mc_df], copy=True, ignore_index=True)\n",
    "# Store training_data for later\n",
    "%store training_data"
   ]
  },
  {
   "cell_type": "code",
   "execution_count": 8,
   "metadata": {
    "execution": {
     "iopub.execute_input": "2020-10-30T06:07:53.753204Z",
     "iopub.status.busy": "2020-10-30T06:07:53.752761Z",
     "iopub.status.idle": "2020-10-30T06:09:03.371312Z",
     "shell.execute_reply": "2020-10-30T06:09:03.370849Z"
    }
   },
   "outputs": [
    {
     "data": {
      "text/plain": [
       "GradientBoostingClassifier()"
      ]
     },
     "execution_count": 1,
     "metadata": {},
     "output_type": "execute_result"
    }
   ],
   "source": [
    "# We can now fit the BDT\n",
    "bdt.fit(training_data[training_columns], training_data['catagory'])"
   ]
  },
  {
   "cell_type": "markdown",
   "metadata": {},
   "source": [
    "Once a classifier has been trained we can apply it to a dataset to get a variable tells us how signal or background like each candidate is. There are a few different functions to do this, but in this case we will use `bdt.predict_proba`."
   ]
  },
  {
   "cell_type": "code",
   "execution_count": 9,
   "metadata": {
    "execution": {
     "iopub.execute_input": "2020-10-30T06:09:03.382210Z",
     "iopub.status.busy": "2020-10-30T06:09:03.381620Z",
     "iopub.status.idle": "2020-10-30T06:09:03.386581Z",
     "shell.execute_reply": "2020-10-30T06:09:03.386018Z"
    }
   },
   "outputs": [
    {
     "data": {
      "text/plain": [
       "array([[0.11268477, 0.88731523],\n",
       "       [0.28630294, 0.71369706],\n",
       "       [0.58681309, 0.41318691],\n",
       "       [0.65955735, 0.34044265],\n",
       "       [0.3134157 , 0.6865843 ]])"
      ]
     },
     "execution_count": 1,
     "metadata": {},
     "output_type": "execute_result"
    }
   ],
   "source": [
    "bdt.predict_proba(data_df[training_columns].head())"
   ]
  },
  {
   "cell_type": "markdown",
   "metadata": {},
   "source": [
    "This has returned a $N_\\text{samples}$ by $N_\\text{classes}$ array. The first column is the 'probability' that the candiate is catagory 0 (background) and the second column is the probability that the candidate is catagory 1 (signal). These probabilities sum to 1 for each event are only valid under certain assumptions which typically don't apply in HEP.\n",
    "\n",
    "When you have only two classes we typically just use the signal probability and treat it as a continuous variable that is defined between 0 and 1."
   ]
  },
  {
   "cell_type": "code",
   "execution_count": 10,
   "metadata": {
    "execution": {
     "iopub.execute_input": "2020-10-30T06:09:03.394977Z",
     "iopub.status.busy": "2020-10-30T06:09:03.394477Z",
     "iopub.status.idle": "2020-10-30T06:09:03.638325Z",
     "shell.execute_reply": "2020-10-30T06:09:03.637878Z"
    }
   },
   "outputs": [
    {
     "data": {
      "text/plain": [
       "array([0.88731523, 0.71369706, 0.41318691, ..., 0.36839431, 0.26573531,\n",
       "       0.30684678])"
      ]
     },
     "execution_count": 1,
     "metadata": {},
     "output_type": "execute_result"
    }
   ],
   "source": [
    "# We can now use slicing to select column 1 in the array from for all rows\n",
    "probabilities = bdt.predict_proba(data_df[training_columns])[:,1]\n",
    "probabilities"
   ]
  },
  {
   "cell_type": "markdown",
   "metadata": {},
   "source": [
    "**CHALLENGE:** Add a new column to each of `mc_df`, `bkg_df`, `data_df` and `training_data` called BDT which contains the signal probability of the classifier."
   ]
  },
  {
   "cell_type": "code",
   "execution_count": 11,
   "metadata": {
    "execution": {
     "iopub.execute_input": "2020-10-30T06:09:03.646866Z",
     "iopub.status.busy": "2020-10-30T06:09:03.646364Z",
     "iopub.status.idle": "2020-10-30T06:09:04.628647Z",
     "shell.execute_reply": "2020-10-30T06:09:04.628066Z"
    }
   },
   "outputs": [],
   "source": [
    "mc_df['BDT'] = bdt.predict_proba(mc_df[training_columns])[:,1]\n",
    "bkg_df['BDT'] = bdt.predict_proba(bkg_df[training_columns])[:,1]\n",
    "data_df['BDT'] = bdt.predict_proba(data_df[training_columns])[:,1]\n",
    "training_data['BDT'] = bdt.predict_proba(training_data[training_columns])[:,1]"
   ]
  },
  {
   "cell_type": "markdown",
   "metadata": {},
   "source": [
    "Alternatively we can avoid copying the same line of code by taking advantage of the fact that dataframes are mutable. This is a good idea as fewer lines of code normally means fewer chances for bugs. In the lines above we could easily mix up the different `DataFrame` objects which can cause subtle bugs. If it crashes it's okay, but if you accidenatlly use the wrong dataset somewhere and end up with mistakes in your final result."
   ]
  },
  {
   "cell_type": "code",
   "execution_count": 12,
   "metadata": {
    "execution": {
     "iopub.execute_input": "2020-10-30T06:09:04.632767Z",
     "iopub.status.busy": "2020-10-30T06:09:04.632303Z",
     "iopub.status.idle": "2020-10-30T06:09:05.810662Z",
     "shell.execute_reply": "2020-10-30T06:09:05.809952Z"
    }
   },
   "outputs": [],
   "source": [
    "for df in [mc_df, bkg_df, data_df, training_data]:\n",
    "    df['BDT'] = bdt.predict_proba(df[training_columns])[:,1]"
   ]
  },
  {
   "cell_type": "markdown",
   "metadata": {},
   "source": [
    "**CHALLENGE:** Use your `plot_comparision` function from earlier to compare the BDT response on data and sidebands.\n",
    "\n",
    "Reload functions from the previous lesson here:"
   ]
  },
  {
   "cell_type": "code",
   "execution_count": 13,
   "metadata": {
    "execution": {
     "iopub.execute_input": "2020-10-30T06:09:05.818268Z",
     "iopub.status.busy": "2020-10-30T06:09:05.816724Z",
     "iopub.status.idle": "2020-10-30T06:09:05.818877Z",
     "shell.execute_reply": "2020-10-30T06:09:05.819400Z"
    }
   },
   "outputs": [],
   "source": [
    "def plot_comparision(var, mc_df, bkg_df):\n",
    "    _, bins, _ = plt.hist(mc_df[var], bins=100, histtype='step', label='MC', density=1)\n",
    "    _, bins, _ = plt.hist(bkg_df[var], bins=bins, histtype='step', label='Background', density=1)\n",
    "    plt.xlabel(var)\n",
    "    plt.xlim(bins[0], bins[-1])\n",
    "    plt.legend(loc='best')\n",
    "    \n",
    "def plot_mass(df, **kwargs):\n",
    "    counts, bins, _ = plt.hist(df['Jpsi_M'], bins=100, range=[2.75, 3.5], histtype='step', **kwargs)\n",
    "    plt.xlabel('$J/\\\\psi$ mass [GeV]')\n",
    "    plt.xlim(bins[0], bins[-1])"
   ]
  },
  {
   "cell_type": "code",
   "execution_count": 14,
   "metadata": {
    "execution": {
     "iopub.execute_input": "2020-10-30T06:09:05.837471Z",
     "iopub.status.busy": "2020-10-30T06:09:05.835347Z",
     "iopub.status.idle": "2020-10-30T06:09:06.003226Z",
     "shell.execute_reply": "2020-10-30T06:09:06.003804Z"
    }
   },
   "outputs": [
    {
     "data": {
      "image/png": "[encoded data removed]",
      "text/plain": [
       "<Figure size 432x288 with 1 Axes>"
      ]
     },
     "metadata": {
      "needs_background": "light"
     },
     "output_type": "display_data"
    }
   ],
   "source": [
    "plot_comparision('BDT', mc_df, bkg_df)"
   ]
  },
  {
   "cell_type": "markdown",
   "metadata": {},
   "source": [
    "We can now choose a cut value and compare it to the selection we used earlier:"
   ]
  },
  {
   "cell_type": "code",
   "execution_count": 15,
   "metadata": {
    "execution": {
     "iopub.execute_input": "2020-10-30T06:09:06.028951Z",
     "iopub.status.busy": "2020-10-30T06:09:06.026701Z",
     "iopub.status.idle": "2020-10-30T06:09:06.392133Z",
     "shell.execute_reply": "2020-10-30T06:09:06.391371Z"
    }
   },
   "outputs": [
    {
     "data": {
      "text/plain": [
       "<matplotlib.legend.Legend at 0x7f7707f892b0>"
      ]
     },
     "execution_count": 1,
     "metadata": {},
     "output_type": "execute_result"
    },
    {
     "data": {
      "image/png": "[encoded data removed]",
      "text/plain": [
       "<Figure size 432x288 with 1 Axes>"
      ]
     },
     "metadata": {
      "needs_background": "light"
     },
     "output_type": "display_data"
    }
   ],
   "source": [
    "plot_mass(data_df, label='No cuts', density=1)\n",
    "\n",
    "data_with_cuts_df = data_df.query('Jpsi_PT > 4')\n",
    "plot_mass(data_with_cuts_df, label='$J/\\\\psi$ p$_T$ only', density=1)\n",
    "\n",
    "data_with_cuts_df = data_df.query('(Jpsi_PT > 4) & ((mum_ProbNNmu > 0.9) & (mup_ProbNNmu > 0.9))')\n",
    "plot_mass(data_with_cuts_df, label='$J/\\\\psi$ p$_T$ and muon PID', density=1)\n",
    "\n",
    "data_with_cuts_df = data_df.query('BDT > 0.95')\n",
    "plot_mass(data_with_cuts_df, label='Using BDT only', density=1)\n",
    "\n",
    "plt.legend(loc='best')"
   ]
  },
  {
   "cell_type": "markdown",
   "metadata": {},
   "source": [
    "**CHALLENGE:** Try to find the best possibly cut on your BDT and compare you score to earlier"
   ]
  },
  {
   "cell_type": "code",
   "execution_count": 16,
   "metadata": {
    "execution": {
     "iopub.execute_input": "2020-10-30T06:09:06.396110Z",
     "iopub.status.busy": "2020-10-30T06:09:06.395597Z",
     "iopub.status.idle": "2020-10-30T06:09:13.704756Z",
     "shell.execute_reply": "2020-10-30T06:09:13.704348Z"
    }
   },
   "outputs": [
    {
     "name": "stdout",
     "output_type": "stream",
     "text": [
      "Loading reference dataset, this will take a moment...\n"
     ]
    },
    {
     "name": "stdout",
     "output_type": "stream",
     "text": [
      "Data contains 102 signal events\n",
      "Data contains 126 background events\n",
      "Significance metric is 8.59\n"
     ]
    }
   ],
   "source": [
    "from python_lesson import check_truth\n",
    "check_truth(data_df.query('BDT > 0.95'))"
   ]
  },
  {
   "cell_type": "markdown",
   "metadata": {},
   "source": [
    "### Evaluating classifier performance\n",
    "\n",
    "So far we have used a magical function to evalueate the classifier performance. Unfortuanately, we can't use such a tool when using analysis on real data as that would be too easy! Instead, we have a few other tools we can use to see how good a classifier is.\n",
    "\n",
    "\n",
    "We have already used one tool: the distributions of the classifier output on signal and background training data."
   ]
  },
  {
   "cell_type": "code",
   "execution_count": 17,
   "metadata": {
    "execution": {
     "iopub.execute_input": "2020-10-30T06:09:13.726303Z",
     "iopub.status.busy": "2020-10-30T06:09:13.725448Z",
     "iopub.status.idle": "2020-10-30T06:09:13.924597Z",
     "shell.execute_reply": "2020-10-30T06:09:13.924195Z"
    }
   },
   "outputs": [
    {
     "data": {
      "image/png": "[encoded data removed]",
      "text/plain": [
       "<Figure size 432x288 with 1 Axes>"
      ]
     },
     "metadata": {
      "needs_background": "light"
     },
     "output_type": "display_data"
    }
   ],
   "source": [
    "plot_comparision('BDT', mc_df, bkg_df)"
   ]
  },
  {
   "cell_type": "markdown",
   "metadata": {},
   "source": [
    "From this you can guess find a cut which removes some background while keeping almost all of the signal signal.\n",
    "\n",
    "Another tool we have the the Receiver Operating Characteristic curve, also known as the ROC curve. This shows the effiency of the classifier on signal (true positive rate, `tpr`) against the ineffieicny of removing background (false positive rate, `fpr`). Each point on this curve corropsonds to a cut value threshold.\n",
    "\n",
    "To do this we can reuse the training data:"
   ]
  },
  {
   "cell_type": "code",
   "execution_count": 18,
   "metadata": {
    "execution": {
     "iopub.execute_input": "2020-10-30T06:09:13.935768Z",
     "iopub.status.busy": "2020-10-30T06:09:13.934066Z",
     "iopub.status.idle": "2020-10-30T06:09:14.308333Z",
     "shell.execute_reply": "2020-10-30T06:09:14.307559Z"
    }
   },
   "outputs": [],
   "source": [
    "y_score = bdt.predict_proba(training_data[training_columns])[:,1]\n",
    "fpr, tpr, thresholds = roc_curve(training_data['catagory'], y_score)"
   ]
  },
  {
   "cell_type": "markdown",
   "metadata": {},
   "source": [
    "We can make the plot look nicer by:\n",
    " - Adding axis labels\n",
    " - Forcing the grid to be square\n",
    " - Adding a line which corrosponds to randomly guessing\n",
    "\n",
    "If the ROC curve goes close to or below this gray line it means the classifier is really bad!!!"
   ]
  },
  {
   "cell_type": "code",
   "execution_count": 19,
   "metadata": {
    "execution": {
     "iopub.execute_input": "2020-10-30T06:09:14.330344Z",
     "iopub.status.busy": "2020-10-30T06:09:14.325908Z",
     "iopub.status.idle": "2020-10-30T06:09:14.462188Z",
     "shell.execute_reply": "2020-10-30T06:09:14.461634Z"
    }
   },
   "outputs": [
    {
     "data": {
      "image/png": "[encoded data removed]",
      "text/plain": [
       "<Figure size 432x288 with 1 Axes>"
      ]
     },
     "metadata": {
      "needs_background": "light"
     },
     "output_type": "display_data"
    }
   ],
   "source": [
    "plt.plot([0, 1], [0, 1], color='grey', linestyle='--', label='Randomly guess')\n",
    "plt.plot(fpr, tpr, label=f'ROC curve')\n",
    "plt.xlim(0.0, 1.0)\n",
    "plt.ylim(0.0, 1.0)\n",
    "plt.xlabel('False Positive Rate')\n",
    "plt.ylabel('True Positive Rate')\n",
    "plt.legend(loc='lower right')\n",
    "# We can make the plot look nicer by forcing the grid to be square\n",
    "plt.gca().set_aspect('equal', adjustable='box')"
   ]
  },
  {
   "cell_type": "markdown",
   "metadata": {},
   "source": [
    "The closer to the top left corner this curve the better the classifier is, another way of looking at this is the area under this curve. Let's add this it to the legend."
   ]
  },
  {
   "cell_type": "code",
   "execution_count": 20,
   "metadata": {
    "execution": {
     "iopub.execute_input": "2020-10-30T06:09:14.465869Z",
     "iopub.status.busy": "2020-10-30T06:09:14.464860Z",
     "iopub.status.idle": "2020-10-30T06:09:14.468983Z",
     "shell.execute_reply": "2020-10-30T06:09:14.468611Z"
    }
   },
   "outputs": [],
   "source": [
    "area = auc(fpr, tpr)"
   ]
  },
  {
   "cell_type": "code",
   "execution_count": 21,
   "metadata": {
    "execution": {
     "iopub.execute_input": "2020-10-30T06:09:14.490898Z",
     "iopub.status.busy": "2020-10-30T06:09:14.490278Z",
     "iopub.status.idle": "2020-10-30T06:09:14.616613Z",
     "shell.execute_reply": "2020-10-30T06:09:14.615991Z"
    }
   },
   "outputs": [
    {
     "data": {
      "image/png": "[encoded data removed]",
      "text/plain": [
       "<Figure size 432x288 with 1 Axes>"
      ]
     },
     "metadata": {
      "needs_background": "light"
     },
     "output_type": "display_data"
    }
   ],
   "source": [
    "plt.plot([0, 1], [0, 1], color='grey', linestyle='--')\n",
    "plt.plot(fpr, tpr, label=f'ROC curve (area = {area:.2f})')\n",
    "plt.xlim(0.0, 1.0)\n",
    "plt.ylim(0.0, 1.0)\n",
    "plt.xlabel('False Positive Rate')\n",
    "plt.ylabel('True Positive Rate')\n",
    "plt.legend(loc='lower right')\n",
    "# We can make the plot look nicer by forcing the grid to be square\n",
    "plt.gca().set_aspect('equal', adjustable='box')"
   ]
  },
  {
   "cell_type": "markdown",
   "metadata": {},
   "source": [
    "Another thing we can consider is the significance of the signal. Multiple different metrics can be used for this but the most popular generanl purpose metric is $\\frac{S}{\\sqrt{S+B}}$, where $S$ is the number of signal events and $B$ is the number of background events. It is important to be careful when defining $S$ and $B$ so that is is only includes the number of events under the signal peak. This is often done by taking a range such within $\\pm 2 \\sigma$ of the peak.\n",
    "\n",
    "For the toy dataset used here appropriate numbers are:"
   ]
  },
  {
   "cell_type": "code",
   "execution_count": 22,
   "metadata": {
    "execution": {
     "iopub.execute_input": "2020-10-30T06:09:14.620330Z",
     "iopub.status.busy": "2020-10-30T06:09:14.619679Z",
     "iopub.status.idle": "2020-10-30T06:09:14.623264Z",
     "shell.execute_reply": "2020-10-30T06:09:14.622796Z"
    }
   },
   "outputs": [],
   "source": [
    "n_sig = 1200\n",
    "n_bkg = 23000"
   ]
  },
  {
   "cell_type": "markdown",
   "metadata": {},
   "source": [
    "We can use these numbers to plot the significance as a function of cut value. The number of signal events after the cut, $S$ is $N_\\text{sig} \\times \\text{true positive rate}$. The number of background events after the cut, $B$ is $N_\\text{bkg} \\times \\text{false positive rate}$. "
   ]
  },
  {
   "cell_type": "code",
   "execution_count": 23,
   "metadata": {
    "execution": {
     "iopub.execute_input": "2020-10-30T06:09:14.626150Z",
     "iopub.status.busy": "2020-10-30T06:09:14.625650Z",
     "iopub.status.idle": "2020-10-30T06:09:14.629365Z",
     "shell.execute_reply": "2020-10-30T06:09:14.630076Z"
    }
   },
   "outputs": [
    {
     "name": "stderr",
     "output_type": "stream",
     "text": [
      "<ipython-input-1-c866fa8b2c52>:3: RuntimeWarning: invalid value encountered in true_divide\n",
      "  metric = S/np.sqrt(S+B)\n"
     ]
    }
   ],
   "source": [
    "S = n_sig*tpr\n",
    "B = n_bkg*fpr\n",
    "metric = S/np.sqrt(S+B)"
   ]
  },
  {
   "cell_type": "markdown",
   "metadata": {},
   "source": [
    "Then plots this as a function of the cut value"
   ]
  },
  {
   "cell_type": "code",
   "execution_count": 24,
   "metadata": {
    "execution": {
     "iopub.execute_input": "2020-10-30T06:09:14.649273Z",
     "iopub.status.busy": "2020-10-30T06:09:14.648751Z",
     "iopub.status.idle": "2020-10-30T06:09:14.794090Z",
     "shell.execute_reply": "2020-10-30T06:09:14.794645Z"
    }
   },
   "outputs": [
    {
     "data": {
      "text/plain": [
       "(0.0, 1.0)"
      ]
     },
     "execution_count": 1,
     "metadata": {},
     "output_type": "execute_result"
    },
    {
     "data": {
      "image/png": "[encoded data removed]",
      "text/plain": [
       "<Figure size 432x288 with 1 Axes>"
      ]
     },
     "metadata": {
      "needs_background": "light"
     },
     "output_type": "display_data"
    }
   ],
   "source": [
    "plt.plot(thresholds, metric)\n",
    "plt.xlabel('BDT cut value')\n",
    "plt.ylabel('$\\\\frac{S}{\\\\sqrt{S+B}}$')\n",
    "plt.xlim(0, 1.0)"
   ]
  },
  {
   "cell_type": "markdown",
   "metadata": {},
   "source": [
    "**CHALLENGE:** Get the cut value corrosponding to the peak of this curve and plot the mass peak for that cut value"
   ]
  },
  {
   "cell_type": "code",
   "execution_count": 25,
   "metadata": {
    "execution": {
     "iopub.execute_input": "2020-10-30T06:09:14.798101Z",
     "iopub.status.busy": "2020-10-30T06:09:14.797545Z",
     "iopub.status.idle": "2020-10-30T06:09:14.800651Z",
     "shell.execute_reply": "2020-10-30T06:09:14.799969Z"
    }
   },
   "outputs": [
    {
     "name": "stdout",
     "output_type": "stream",
     "text": [
      "The optimal cut value is 2.00 with and S/sqrt(S+B) of nan\n"
     ]
    }
   ],
   "source": [
    "optimal_index = np.argmax(metric)\n",
    "optimal_metric = metric[optimal_index]\n",
    "optimal_cut = thresholds[optimal_index]\n",
    "print(f'The optimal cut value is {optimal_cut:.2f} with and S/sqrt(S+B) of {optimal_metric:.2f}')"
   ]
  },
  {
   "cell_type": "code",
   "execution_count": 26,
   "metadata": {
    "execution": {
     "iopub.execute_input": "2020-10-30T06:09:14.819360Z",
     "iopub.status.busy": "2020-10-30T06:09:14.818905Z",
     "iopub.status.idle": "2020-10-30T06:09:15.001369Z",
     "shell.execute_reply": "2020-10-30T06:09:15.000520Z"
    }
   },
   "outputs": [
    {
     "name": "stderr",
     "output_type": "stream",
     "text": [
      "/usr/share/miniconda/envs/example-environment/lib/python3.8/site-packages/numpy/lib/histograms.py:905: RuntimeWarning: invalid value encountered in true_divide\n",
      "  return n/db/n.sum(), bin_edges\n"
     ]
    },
    {
     "data": {
      "text/plain": [
       "<matplotlib.legend.Legend at 0x7f76eb41fc40>"
      ]
     },
     "execution_count": 1,
     "metadata": {},
     "output_type": "execute_result"
    },
    {
     "data": {
      "image/png": "[encoded data removed]",
      "text/plain": [
       "<Figure size 432x288 with 1 Axes>"
      ]
     },
     "metadata": {
      "needs_background": "light"
     },
     "output_type": "display_data"
    }
   ],
   "source": [
    "plot_mass(data_df, label='No cuts', density=1)\n",
    "\n",
    "data_with_cuts_df = data_df.query(f'BDT > {optimal_cut}')\n",
    "plot_mass(data_with_cuts_df, label='Using BDT only', density=1)\n",
    "\n",
    "plt.legend(loc='best')"
   ]
  },
  {
   "cell_type": "code",
   "execution_count": 27,
   "metadata": {
    "execution": {
     "iopub.execute_input": "2020-10-30T06:09:15.021243Z",
     "iopub.status.busy": "2020-10-30T06:09:15.015867Z",
     "iopub.status.idle": "2020-10-30T06:09:15.146437Z",
     "shell.execute_reply": "2020-10-30T06:09:15.146828Z"
    }
   },
   "outputs": [
    {
     "data": {
      "image/png": "[encoded data removed]",
      "text/plain": [
       "<Figure size 432x288 with 1 Axes>"
      ]
     },
     "metadata": {
      "needs_background": "light"
     },
     "output_type": "display_data"
    }
   ],
   "source": [
    "plot_mass(data_with_cuts_df, label='Using BDT only')"
   ]
  },
  {
   "cell_type": "markdown",
   "metadata": {},
   "source": [
    "### Collecting it all together\n",
    "\n",
    "Let's define some helpful functions that we use later based on what we did above:"
   ]
  },
  {
   "cell_type": "code",
   "execution_count": 28,
   "metadata": {
    "execution": {
     "iopub.execute_input": "2020-10-30T06:09:15.152257Z",
     "iopub.status.busy": "2020-10-30T06:09:15.151814Z",
     "iopub.status.idle": "2020-10-30T06:09:15.155752Z",
     "shell.execute_reply": "2020-10-30T06:09:15.155020Z"
    }
   },
   "outputs": [],
   "source": [
    "def plot_roc(bdt, training_data, training_columns, label=None):\n",
    "    y_score = bdt.predict_proba(training_data[training_columns])[:,1]\n",
    "    fpr, tpr, thresholds = roc_curve(training_data['catagory'], y_score)\n",
    "    area = auc(fpr, tpr)\n",
    "\n",
    "    plt.plot([0, 1], [0, 1], color='grey', linestyle='--')\n",
    "    if label:\n",
    "        plt.plot(fpr, tpr, label=f'{label} (area = {area:.2f})')\n",
    "    else:\n",
    "        plt.plot(fpr, tpr, label=f'ROC curve (area = {area:.2f})')\n",
    "    plt.xlim(0.0, 1.0)\n",
    "    plt.ylim(0.0, 1.0)\n",
    "    plt.xlabel('False Positive Rate')\n",
    "    plt.ylabel('True Positive Rate')\n",
    "    plt.legend(loc='lower right')\n",
    "    # We can make the plot look nicer by forcing the grid to be square\n",
    "    plt.gca().set_aspect('equal', adjustable='box')"
   ]
  },
  {
   "cell_type": "code",
   "execution_count": 29,
   "metadata": {
    "execution": {
     "iopub.execute_input": "2020-10-30T06:09:15.160385Z",
     "iopub.status.busy": "2020-10-30T06:09:15.159954Z",
     "iopub.status.idle": "2020-10-30T06:09:15.163359Z",
     "shell.execute_reply": "2020-10-30T06:09:15.162744Z"
    }
   },
   "outputs": [],
   "source": [
    "def plot_significance(bdt, training_data, training_columns, label=None):\n",
    "    y_score = bdt.predict_proba(training_data[training_columns])[:,1]\n",
    "    fpr, tpr, thresholds = roc_curve(training_data['catagory'], y_score)\n",
    "\n",
    "    n_sig = 1200\n",
    "    n_bkg = 23000\n",
    "    S = n_sig*tpr\n",
    "    B = n_bkg*fpr\n",
    "    metric = S/np.sqrt(S+B)\n",
    "\n",
    "    plt.plot(thresholds, metric, label=label)\n",
    "    plt.xlabel('BDT cut value')\n",
    "    plt.ylabel('$\\\\frac{S}{\\\\sqrt{S+B}}$')\n",
    "    plt.xlim(0, 1.0)\n",
    "\n",
    "    optimal_cut = thresholds[np.argmax(metric)]\n",
    "    plt.axvline(optimal_cut, color='black', linestyle='--')"
   ]
  },
  {
   "cell_type": "code",
   "execution_count": 30,
   "metadata": {
    "execution": {
     "iopub.execute_input": "2020-10-30T06:09:15.171683Z",
     "iopub.status.busy": "2020-10-30T06:09:15.171193Z",
     "iopub.status.idle": "2020-10-30T06:12:17.669519Z",
     "shell.execute_reply": "2020-10-30T06:12:17.670227Z"
    }
   },
   "outputs": [
    {
     "name": "stderr",
     "output_type": "stream",
     "text": [
      "<ipython-input-1-191374191f24>:9: RuntimeWarning: invalid value encountered in true_divide\n",
      "  metric = S/np.sqrt(S+B)\n"
     ]
    },
    {
     "data": {
      "image/png": "[encoded data removed]",
      "text/plain": [
       "<Figure size 432x288 with 1 Axes>"
      ]
     },
     "metadata": {
      "needs_background": "light"
     },
     "output_type": "display_data"
    },
    {
     "data": {
      "image/png": "[encoded data removed]",
      "text/plain": [
       "<Figure size 432x288 with 1 Axes>"
      ]
     },
     "metadata": {
      "needs_background": "light"
     },
     "output_type": "display_data"
    },
    {
     "data": {
      "image/png": "[encoded data removed]",
      "text/plain": [
       "<Figure size 432x288 with 1 Axes>"
      ]
     },
     "metadata": {
      "needs_background": "light"
     },
     "output_type": "display_data"
    }
   ],
   "source": [
    "data_df = uproot.open('https://cern.ch/starterkit/data/advanced-python-2018/real_data.root',\n",
    "                      httpsource={'chunkbytes': 1024*1024, 'limitbytes': 33554432, 'parallel': 64}\n",
    "                      )['DecayTree'].pandas.df()\n",
    "mc_df = uproot.open('https://cern.ch/starterkit/data/advanced-python-2018/simulated_data.root',\n",
    "                    httpsource={'chunkbytes': 1024*1024, 'limitbytes': 33554432, 'parallel': 64}\n",
    "                    )['DecayTree'].pandas.df()\n",
    "bkg_df = data_df.query('~(3.0 < Jpsi_M < 3.2)').copy()\n",
    "\n",
    "for df in [mc_df, data_df, bkg_df]:\n",
    "    df.eval('Jpsi_eta = arctanh(Jpsi_PZ/Jpsi_P)', inplace=True)\n",
    "    df.eval('mup_P = sqrt(mum_PX**2 + mum_PY**2 + mum_PZ**2)', inplace=True)\n",
    "    df.eval('mum_P = sqrt(mum_PX**2 + mum_PY**2 + mum_PZ**2)', inplace=True)\n",
    "\n",
    "training_columns = [\n",
    "    'Jpsi_PT',\n",
    "    'mup_PT', 'mup_eta', 'mup_ProbNNmu', 'mup_IP',\n",
    "    'mum_PT', 'mum_eta', 'mum_ProbNNmu', 'mum_IP',\n",
    "]\n",
    "\n",
    "bkg_df['catagory'] = 0  # Use 0 for background\n",
    "mc_df['catagory'] = 1  # Use 1 for signal\n",
    "training_data = pd.concat([bkg_df, mc_df], copy=True, ignore_index=True)\n",
    "\n",
    "bdt = GradientBoostingClassifier()\n",
    "bdt.fit(training_data[training_columns], training_data['catagory'])\n",
    "\n",
    "mc_df['BDT'] = bdt.predict_proba(mc_df[training_columns])[:,1]\n",
    "bkg_df['BDT'] = bdt.predict_proba(bkg_df[training_columns])[:,1]\n",
    "data_df['BDT'] = bdt.predict_proba(data_df[training_columns])[:,1]\n",
    "training_data['BDT'] = bdt.predict_proba(training_data[training_columns])[:,1]\n",
    "\n",
    "plt.figure()\n",
    "plot_comparision('BDT', mc_df, bkg_df)\n",
    "\n",
    "plt.figure()\n",
    "plot_significance(bdt, training_data, training_columns)\n",
    "\n",
    "plt.figure()\n",
    "plot_roc(bdt, training_data, training_columns)"
   ]
  },
  {
   "cell_type": "code",
   "execution_count": null,
   "metadata": {},
   "outputs": [],
   "source": []
  }
 ],
 "metadata": {
  "kernelspec": {
   "display_name": "Python 3",
   "language": "python",
   "name": "python3"
  },
  "language_info": {
   "codemirror_mode": {
    "name": "ipython",
    "version": 3
   },
   "file_extension": ".py",
   "mimetype": "text/x-python",
   "name": "python",
   "nbconvert_exporter": "python",
   "pygments_lexer": "ipython3",
   "version": "3.8.6"
  }
 },
 "nbformat": 4,
 "nbformat_minor": 4
}
