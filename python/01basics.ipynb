{
 "cells": [
  {
   "cell_type": "markdown",
   "metadata": {
    "slideshow": {
     "slide_type": "slide"
    }
   },
   "source": [
    "# 1: Basics"
   ]
  },
  {
   "cell_type": "markdown",
   "metadata": {
    "slideshow": {
     "slide_type": "subslide"
    }
   },
   "source": [
    "This Python tutorial will cover the basics of\n",
    " - Jupyter Notebooks\n",
    " - basic types in Python\n",
    " - container types\n",
    " - control flow"
   ]
  },
  {
   "cell_type": "markdown",
   "metadata": {
    "slideshow": {
     "slide_type": "slide"
    }
   },
   "source": [
    "# Jupyter\n",
    "\n",
    "A Jupyter Notebook consists of cells that can be executed. There are two fundamental different types of cells, markdown or code cells. The former renders the text as markdown while the latter runs the Python interpreter.\n",
    "\n",
    "Notebooks can be converted to Python scripts.\n",
    "\n",
    "Be aware that notebooks are stateful. E.g. executing a cell again is like adding this line two times in a script.\n",
    "\n",
    "Useful commands:\n",
    " - to run a cell and go to the next one, press Shift + Enter\n",
    " - to move from editing mode to navigation (move up and down in cells), press Esc\n",
    " - to enter editing mode from navigation, press Enter\n",
    " \n",
    "Let's start! Execute the lines below"
   ]
  },
  {
   "cell_type": "code",
   "execution_count": 1,
   "metadata": {
    "execution": {
     "iopub.execute_input": "2021-11-23T20:35:09.555849Z",
     "iopub.status.busy": "2021-11-23T20:35:09.554903Z",
     "iopub.status.idle": "2021-11-23T20:35:09.559001Z",
     "shell.execute_reply": "2021-11-23T20:35:09.559506Z"
    },
    "slideshow": {
     "slide_type": "subslide"
    }
   },
   "outputs": [],
   "source": [
    "a = 0"
   ]
  },
  {
   "cell_type": "code",
   "execution_count": 2,
   "metadata": {
    "execution": {
     "iopub.execute_input": "2021-11-23T20:35:09.567559Z",
     "iopub.status.busy": "2021-11-23T20:35:09.562047Z",
     "iopub.status.idle": "2021-11-23T20:35:09.573117Z",
     "shell.execute_reply": "2021-11-23T20:35:09.572170Z"
    },
    "slideshow": {
     "slide_type": "subslide"
    }
   },
   "outputs": [
    {
     "name": "stdout",
     "output_type": "stream",
     "text": [
      "1\n"
     ]
    }
   ],
   "source": [
    "a = a + 1\n",
    "print(a)"
   ]
  },
  {
   "cell_type": "markdown",
   "metadata": {
    "slideshow": {
     "slide_type": "subslide"
    }
   },
   "source": [
    "If we rerun the cell above, `a` will have changed again! If you want to rerun everythin, restart the kernel first."
   ]
  },
  {
   "cell_type": "markdown",
   "metadata": {
    "slideshow": {
     "slide_type": "subslide"
    }
   },
   "source": [
    "Notebooks offer convenient functionality, similar to IPython:\n",
    " - can use `!command` to execute bash\n",
    " - has tab-completion\n",
    " - prints automatically return value if it is not assigned to a variable\n",
    " - magic commands like %timeit\n",
    " \n",
    "We will use them later on more"
   ]
  },
  {
   "cell_type": "markdown",
   "metadata": {
    "slideshow": {
     "slide_type": "slide"
    }
   },
   "source": [
    "## Basic types and operations\n",
    "\n",
    "Python has several basic types\n",
    " - numerical (float, int, complex)\n",
    " - string\n",
    " - bool\n",
    " \n",
    "There are several operations defined on them, as we have already seen in examples.\n"
   ]
  },
  {
   "cell_type": "code",
   "execution_count": 3,
   "metadata": {
    "execution": {
     "iopub.execute_input": "2021-11-23T20:35:09.578771Z",
     "iopub.status.busy": "2021-11-23T20:35:09.578018Z",
     "iopub.status.idle": "2021-11-23T20:35:09.581764Z",
     "shell.execute_reply": "2021-11-23T20:35:09.581212Z"
    },
    "slideshow": {
     "slide_type": "subslide"
    }
   },
   "outputs": [],
   "source": [
    "a = 1  # creates an integer\n",
    "\n",
    "b = 3.4  # float\n",
    "\n",
    "# several ways for strings\n",
    "c = \"hello\"\n",
    "d = 'world'\n",
    "cd = \"welcome to this 'world' here\"  # we can now use '' inside (or vice versa)\n",
    "e = \"\"\"hello world\"\"\"  # which we can also wrap\n",
    "e2 = \"\"\"hello\n",
    "world\n",
    "come here!\"\"\"\n",
    "\n",
    "g = True"
   ]
  },
  {
   "cell_type": "code",
   "execution_count": 4,
   "metadata": {
    "execution": {
     "iopub.execute_input": "2021-11-23T20:35:09.593340Z",
     "iopub.status.busy": "2021-11-23T20:35:09.590283Z",
     "iopub.status.idle": "2021-11-23T20:35:09.598481Z",
     "shell.execute_reply": "2021-11-23T20:35:09.598978Z"
    },
    "slideshow": {
     "slide_type": "subslide"
    }
   },
   "outputs": [
    {
     "data": {
      "text/plain": [
       "int"
      ]
     },
     "execution_count": 4,
     "metadata": {},
     "output_type": "execute_result"
    }
   ],
   "source": [
    "type(a)"
   ]
  },
  {
   "cell_type": "markdown",
   "metadata": {
    "slideshow": {
     "slide_type": "subslide"
    }
   },
   "source": [
    "With `type(...)`, we can determine the type of an object."
   ]
  },
  {
   "cell_type": "markdown",
   "metadata": {
    "slideshow": {
     "slide_type": "slide"
    }
   },
   "source": [
    "## strong typing\n",
    "\n",
    "Python is **strongly typed** (as opposed to weakly typed). This means that the type of the variable _matters_ and some interactions between certain types are not directly possible."
   ]
  },
  {
   "cell_type": "code",
   "execution_count": 5,
   "metadata": {
    "execution": {
     "iopub.execute_input": "2021-11-23T20:35:09.603723Z",
     "iopub.status.busy": "2021-11-23T20:35:09.603108Z",
     "iopub.status.idle": "2021-11-23T20:35:09.606747Z",
     "shell.execute_reply": "2021-11-23T20:35:09.607231Z"
    },
    "slideshow": {
     "slide_type": "subslide"
    }
   },
   "outputs": [],
   "source": [
    "a = 1\n",
    "b = 2"
   ]
  },
  {
   "cell_type": "code",
   "execution_count": 6,
   "metadata": {
    "execution": {
     "iopub.execute_input": "2021-11-23T20:35:09.613461Z",
     "iopub.status.busy": "2021-11-23T20:35:09.612325Z",
     "iopub.status.idle": "2021-11-23T20:35:09.615538Z",
     "shell.execute_reply": "2021-11-23T20:35:09.616049Z"
    },
    "slideshow": {
     "slide_type": "subslide"
    }
   },
   "outputs": [
    {
     "data": {
      "text/plain": [
       "3"
      ]
     },
     "execution_count": 6,
     "metadata": {},
     "output_type": "execute_result"
    }
   ],
   "source": [
    "a + b"
   ]
  },
  {
   "cell_type": "markdown",
   "metadata": {
    "slideshow": {
     "slide_type": "subslide"
    }
   },
   "source": [
    "These are two integers. We are not surprised that this works. What about the following?"
   ]
  },
  {
   "cell_type": "code",
   "execution_count": 7,
   "metadata": {
    "execution": {
     "iopub.execute_input": "2021-11-23T20:35:09.620698Z",
     "iopub.status.busy": "2021-11-23T20:35:09.620053Z",
     "iopub.status.idle": "2021-11-23T20:35:09.693676Z",
     "shell.execute_reply": "2021-11-23T20:35:09.693118Z"
    },
    "slideshow": {
     "slide_type": "subslide"
    },
    "tags": [
     "raises-exception"
    ]
   },
   "outputs": [
    {
     "ename": "TypeError",
     "evalue": "unsupported operand type(s) for +: 'int' and 'str'",
     "output_type": "error",
     "traceback": [
      "\u001b[0;31m---------------------------------------------------------------------------\u001b[0m",
      "\u001b[0;31mTypeError\u001b[0m                                 Traceback (most recent call last)",
      "\u001b[0;32m/tmp/ipykernel_8486/3074446989.py\u001b[0m in \u001b[0;36m<module>\u001b[0;34m\u001b[0m\n\u001b[0;32m----> 1\u001b[0;31m \u001b[0mmix_str_int\u001b[0m \u001b[0;34m=\u001b[0m \u001b[0ma\u001b[0m \u001b[0;34m+\u001b[0m \u001b[0;34m\"foo\"\u001b[0m\u001b[0;34m\u001b[0m\u001b[0;34m\u001b[0m\u001b[0m\n\u001b[0m",
      "\u001b[0;31mTypeError\u001b[0m: unsupported operand type(s) for +: 'int' and 'str'"
     ]
    }
   ],
   "source": [
    "mix_str_int = a + \"foo\""
   ]
  },
  {
   "cell_type": "markdown",
   "metadata": {
    "slideshow": {
     "slide_type": "subslide"
    }
   },
   "source": [
    "Maybe the following works?"
   ]
  },
  {
   "cell_type": "code",
   "execution_count": 8,
   "metadata": {
    "execution": {
     "iopub.execute_input": "2021-11-23T20:35:09.701719Z",
     "iopub.status.busy": "2021-11-23T20:35:09.701074Z",
     "iopub.status.idle": "2021-11-23T20:35:09.704747Z",
     "shell.execute_reply": "2021-11-23T20:35:09.704200Z"
    },
    "slideshow": {
     "slide_type": "subslide"
    },
    "tags": [
     "raises-exception"
    ]
   },
   "outputs": [
    {
     "ename": "TypeError",
     "evalue": "unsupported operand type(s) for +: 'int' and 'str'",
     "output_type": "error",
     "traceback": [
      "\u001b[0;31m---------------------------------------------------------------------------\u001b[0m",
      "\u001b[0;31mTypeError\u001b[0m                                 Traceback (most recent call last)",
      "\u001b[0;32m/tmp/ipykernel_8486/144158332.py\u001b[0m in \u001b[0;36m<module>\u001b[0;34m\u001b[0m\n\u001b[0;32m----> 1\u001b[0;31m \u001b[0mmix_str_int2\u001b[0m \u001b[0;34m=\u001b[0m \u001b[0ma\u001b[0m \u001b[0;34m+\u001b[0m \u001b[0;34m\"5\"\u001b[0m\u001b[0;34m\u001b[0m\u001b[0;34m\u001b[0m\u001b[0m\n\u001b[0m",
      "\u001b[0;31mTypeError\u001b[0m: unsupported operand type(s) for +: 'int' and 'str'"
     ]
    }
   ],
   "source": [
    "mix_str_int2 = a + \"5\""
   ]
  },
  {
   "cell_type": "markdown",
   "metadata": {
    "slideshow": {
     "slide_type": "subslide"
    }
   },
   "source": [
    "Python is strict on the types, but we can sometimes convert from one type to another, explicitly:"
   ]
  },
  {
   "cell_type": "code",
   "execution_count": 9,
   "metadata": {
    "execution": {
     "iopub.execute_input": "2021-11-23T20:35:09.711921Z",
     "iopub.status.busy": "2021-11-23T20:35:09.710247Z",
     "iopub.status.idle": "2021-11-23T20:35:09.714052Z",
     "shell.execute_reply": "2021-11-23T20:35:09.713501Z"
    },
    "slideshow": {
     "slide_type": "subslide"
    }
   },
   "outputs": [
    {
     "data": {
      "text/plain": [
       "6"
      ]
     },
     "execution_count": 9,
     "metadata": {},
     "output_type": "execute_result"
    }
   ],
   "source": [
    "a + int(\"5\")"
   ]
  },
  {
   "cell_type": "markdown",
   "metadata": {
    "slideshow": {
     "slide_type": "subslide"
    }
   },
   "source": [
    "...which works because `int(\"5\") -> 5`.\n",
    "\n",
    "There are though some implicit conversions in Python, let's look at the following:"
   ]
  },
  {
   "cell_type": "code",
   "execution_count": 10,
   "metadata": {
    "execution": {
     "iopub.execute_input": "2021-11-23T20:35:09.718449Z",
     "iopub.status.busy": "2021-11-23T20:35:09.717774Z",
     "iopub.status.idle": "2021-11-23T20:35:09.720239Z",
     "shell.execute_reply": "2021-11-23T20:35:09.720785Z"
    },
    "slideshow": {
     "slide_type": "subslide"
    }
   },
   "outputs": [
    {
     "name": "stdout",
     "output_type": "stream",
     "text": [
      "<class 'float'>\n"
     ]
    }
   ],
   "source": [
    "f = 1.2\n",
    "print(type(f))"
   ]
  },
  {
   "cell_type": "code",
   "execution_count": 11,
   "metadata": {
    "execution": {
     "iopub.execute_input": "2021-11-23T20:35:09.725485Z",
     "iopub.status.busy": "2021-11-23T20:35:09.723109Z",
     "iopub.status.idle": "2021-11-23T20:35:09.727966Z",
     "shell.execute_reply": "2021-11-23T20:35:09.728499Z"
    },
    "slideshow": {
     "slide_type": "subslide"
    }
   },
   "outputs": [
    {
     "name": "stdout",
     "output_type": "stream",
     "text": [
      "<class 'float'>\n"
     ]
    }
   ],
   "source": [
    "int_plus_float = a + f\n",
    "print(type(int_plus_float))"
   ]
  },
  {
   "cell_type": "markdown",
   "metadata": {
    "slideshow": {
     "slide_type": "subslide"
    }
   },
   "source": [
    "This is one of the few examples, where Python automatically converts the integer type to a float. The above addition _actually_ reads as"
   ]
  },
  {
   "cell_type": "code",
   "execution_count": 12,
   "metadata": {
    "execution": {
     "iopub.execute_input": "2021-11-23T20:35:09.734529Z",
     "iopub.status.busy": "2021-11-23T20:35:09.732848Z",
     "iopub.status.idle": "2021-11-23T20:35:09.735218Z",
     "shell.execute_reply": "2021-11-23T20:35:09.735743Z"
    },
    "slideshow": {
     "slide_type": "subslide"
    }
   },
   "outputs": [],
   "source": [
    "int_plus_float = float(a) + f"
   ]
  },
  {
   "cell_type": "markdown",
   "metadata": {
    "slideshow": {
     "slide_type": "subslide"
    }
   },
   "source": [
    "Similar with booleans as they are in principle 1 (`True`) and 0 (`False`)"
   ]
  },
  {
   "cell_type": "code",
   "execution_count": 13,
   "metadata": {
    "execution": {
     "iopub.execute_input": "2021-11-23T20:35:09.742758Z",
     "iopub.status.busy": "2021-11-23T20:35:09.741413Z",
     "iopub.status.idle": "2021-11-23T20:35:09.745040Z",
     "shell.execute_reply": "2021-11-23T20:35:09.744478Z"
    },
    "slideshow": {
     "slide_type": "subslide"
    }
   },
   "outputs": [
    {
     "data": {
      "text/plain": [
       "6"
      ]
     },
     "execution_count": 13,
     "metadata": {},
     "output_type": "execute_result"
    }
   ],
   "source": [
    "True + 5"
   ]
  },
  {
   "cell_type": "markdown",
   "metadata": {
    "slideshow": {
     "slide_type": "subslide"
    }
   },
   "source": [
    "For readability, it is usually better to write an explicit conversion."
   ]
  },
  {
   "cell_type": "markdown",
   "metadata": {
    "slideshow": {
     "slide_type": "slide"
    }
   },
   "source": [
    "## Container types\n",
    "\n",
    "Python has several container types as also found in other languages. The most important ones are:\n",
    " - list  (~array in other languages)\n",
    " - dict  (~hash table in other languages)\n",
    " \n",
    "They can contain other objects which can then be assigned and accessed via the `[]` operator _(we will have a closer look at operators later on)_\n",
    "\n",
    "A list stores elements by indices, which are integers, while a dict stores elements by a `key`, which can be \"any basic type\" (to be precise: by their \"hash\", it can be any immutable type).\n",
    "\n",
    "Let's look at examples!"
   ]
  },
  {
   "cell_type": "code",
   "execution_count": 14,
   "metadata": {
    "execution": {
     "iopub.execute_input": "2021-11-23T20:35:09.749427Z",
     "iopub.status.busy": "2021-11-23T20:35:09.748790Z",
     "iopub.status.idle": "2021-11-23T20:35:09.751847Z",
     "shell.execute_reply": "2021-11-23T20:35:09.752378Z"
    },
    "slideshow": {
     "slide_type": "subslide"
    }
   },
   "outputs": [
    {
     "name": "stdout",
     "output_type": "stream",
     "text": [
      "[1, 2, 3]\n"
     ]
    }
   ],
   "source": [
    "# creating a list\n",
    "list1 = [1, 2, 3]\n",
    "print(list1)"
   ]
  },
  {
   "cell_type": "markdown",
   "metadata": {
    "slideshow": {
     "slide_type": "subslide"
    }
   },
   "source": [
    "We can access these element by indices, starting from 0"
   ]
  },
  {
   "cell_type": "code",
   "execution_count": 15,
   "metadata": {
    "execution": {
     "iopub.execute_input": "2021-11-23T20:35:09.758758Z",
     "iopub.status.busy": "2021-11-23T20:35:09.757525Z",
     "iopub.status.idle": "2021-11-23T20:35:09.761669Z",
     "shell.execute_reply": "2021-11-23T20:35:09.761091Z"
    },
    "slideshow": {
     "slide_type": "subslide"
    }
   },
   "outputs": [
    {
     "data": {
      "text/plain": [
       "1"
      ]
     },
     "execution_count": 15,
     "metadata": {},
     "output_type": "execute_result"
    }
   ],
   "source": [
    "list1[0]"
   ]
  },
  {
   "cell_type": "markdown",
   "metadata": {
    "slideshow": {
     "slide_type": "subslide"
    }
   },
   "source": [
    "We can also assign a value to an place in the list"
   ]
  },
  {
   "cell_type": "code",
   "execution_count": 16,
   "metadata": {
    "execution": {
     "iopub.execute_input": "2021-11-23T20:35:09.765994Z",
     "iopub.status.busy": "2021-11-23T20:35:09.765345Z",
     "iopub.status.idle": "2021-11-23T20:35:09.768778Z",
     "shell.execute_reply": "2021-11-23T20:35:09.768200Z"
    },
    "slideshow": {
     "slide_type": "subslide"
    }
   },
   "outputs": [
    {
     "name": "stdout",
     "output_type": "stream",
     "text": [
      "[1, 42, 3]\n"
     ]
    }
   ],
   "source": [
    "list1[1] = 42\n",
    "print(list1)"
   ]
  },
  {
   "cell_type": "markdown",
   "metadata": {
    "slideshow": {
     "slide_type": "subslide"
    }
   },
   "source": [
    "and it can be extended with elements"
   ]
  },
  {
   "cell_type": "code",
   "execution_count": 17,
   "metadata": {
    "execution": {
     "iopub.execute_input": "2021-11-23T20:35:09.774022Z",
     "iopub.status.busy": "2021-11-23T20:35:09.773398Z",
     "iopub.status.idle": "2021-11-23T20:35:09.775504Z",
     "shell.execute_reply": "2021-11-23T20:35:09.776513Z"
    },
    "slideshow": {
     "slide_type": "subslide"
    }
   },
   "outputs": [
    {
     "name": "stdout",
     "output_type": "stream",
     "text": [
      "[1, 42, 3, -5]\n"
     ]
    }
   ],
   "source": [
    "list1.append(-5)\n",
    "print(list1)"
   ]
  },
  {
   "cell_type": "markdown",
   "metadata": {
    "slideshow": {
     "slide_type": "subslide"
    }
   },
   "source": [
    "Choosing a value that is not contained in the list raises an error. It is verbose, read and understand it.\n",
    "\n",
    "Being able to understand and interpret errors correctly is a key to becoming better in coding."
   ]
  },
  {
   "cell_type": "code",
   "execution_count": 18,
   "metadata": {
    "execution": {
     "iopub.execute_input": "2021-11-23T20:35:09.784370Z",
     "iopub.status.busy": "2021-11-23T20:35:09.782143Z",
     "iopub.status.idle": "2021-11-23T20:35:09.786745Z",
     "shell.execute_reply": "2021-11-23T20:35:09.787304Z"
    },
    "slideshow": {
     "slide_type": "subslide"
    },
    "tags": [
     "raises-exception"
    ]
   },
   "outputs": [
    {
     "ename": "IndexError",
     "evalue": "list index out of range",
     "output_type": "error",
     "traceback": [
      "\u001b[0;31m---------------------------------------------------------------------------\u001b[0m",
      "\u001b[0;31mIndexError\u001b[0m                                Traceback (most recent call last)",
      "\u001b[0;32m/tmp/ipykernel_8486/2334941639.py\u001b[0m in \u001b[0;36m<module>\u001b[0;34m\u001b[0m\n\u001b[0;32m----> 1\u001b[0;31m \u001b[0mlist1\u001b[0m\u001b[0;34m[\u001b[0m\u001b[0;36m14\u001b[0m\u001b[0;34m]\u001b[0m\u001b[0;34m\u001b[0m\u001b[0;34m\u001b[0m\u001b[0m\n\u001b[0m",
      "\u001b[0;31mIndexError\u001b[0m: list index out of range"
     ]
    }
   ],
   "source": [
    "list1[14]"
   ]
  },
  {
   "cell_type": "markdown",
   "metadata": {
    "slideshow": {
     "slide_type": "subslide"
    }
   },
   "source": [
    "We can play a similar game with dicts"
   ]
  },
  {
   "cell_type": "code",
   "execution_count": 19,
   "metadata": {
    "execution": {
     "iopub.execute_input": "2021-11-23T20:35:09.796475Z",
     "iopub.status.busy": "2021-11-23T20:35:09.794954Z",
     "iopub.status.idle": "2021-11-23T20:35:09.798629Z",
     "shell.execute_reply": "2021-11-23T20:35:09.798025Z"
    },
    "slideshow": {
     "slide_type": "subslide"
    }
   },
   "outputs": [
    {
     "name": "stdout",
     "output_type": "stream",
     "text": [
      "{'name': 'Jonas Eschle', 'age': 42, 5: True, 11: 'hi'}\n"
     ]
    }
   ],
   "source": [
    "person = {'name': \"Jonas Eschle\", 'age': 42, 5: True, 11: \"hi\"}  # we can use strings but also other elements\n",
    "print(person)"
   ]
  },
  {
   "cell_type": "code",
   "execution_count": 20,
   "metadata": {
    "execution": {
     "iopub.execute_input": "2021-11-23T20:35:09.803598Z",
     "iopub.status.busy": "2021-11-23T20:35:09.802969Z",
     "iopub.status.idle": "2021-11-23T20:35:09.805546Z",
     "shell.execute_reply": "2021-11-23T20:35:09.806072Z"
    },
    "slideshow": {
     "slide_type": "subslide"
    }
   },
   "outputs": [
    {
     "name": "stdout",
     "output_type": "stream",
     "text": [
      "Jonas Eschle\n",
      "True\n",
      "hi\n"
     ]
    }
   ],
   "source": [
    "print(person['name'])\n",
    "print(person[5])\n",
    "print(person[11])"
   ]
  },
  {
   "cell_type": "markdown",
   "metadata": {
    "slideshow": {
     "slide_type": "subslide"
    }
   },
   "source": [
    "We can also assign a new value to a key."
   ]
  },
  {
   "cell_type": "code",
   "execution_count": 21,
   "metadata": {
    "execution": {
     "iopub.execute_input": "2021-11-23T20:35:09.810437Z",
     "iopub.status.busy": "2021-11-23T20:35:09.809773Z",
     "iopub.status.idle": "2021-11-23T20:35:09.812591Z",
     "shell.execute_reply": "2021-11-23T20:35:09.812037Z"
    },
    "slideshow": {
     "slide_type": "subslide"
    }
   },
   "outputs": [],
   "source": [
    "person['age'] = '42.00001'"
   ]
  },
  {
   "cell_type": "markdown",
   "metadata": {
    "slideshow": {
     "slide_type": "subslide"
    }
   },
   "source": [
    "... or even extend it by assigning to a key that did not yet exists in the dict"
   ]
  },
  {
   "cell_type": "code",
   "execution_count": 22,
   "metadata": {
    "execution": {
     "iopub.execute_input": "2021-11-23T20:35:09.817702Z",
     "iopub.status.busy": "2021-11-23T20:35:09.817071Z",
     "iopub.status.idle": "2021-11-23T20:35:09.819232Z",
     "shell.execute_reply": "2021-11-23T20:35:09.819773Z"
    },
    "slideshow": {
     "slide_type": "subslide"
    }
   },
   "outputs": [
    {
     "name": "stdout",
     "output_type": "stream",
     "text": [
      "{'name': 'Jonas Eschle', 'age': '42.00001', 5: True, 11: 'hi', 'alias': 'Mayou36'}\n"
     ]
    }
   ],
   "source": [
    "person['alias'] = \"Mayou36\"\n",
    "print(person)"
   ]
  },
  {
   "cell_type": "markdown",
   "metadata": {
    "slideshow": {
     "slide_type": "subslide"
    }
   },
   "source": [
    "As we see this works. Notice, that the dict has changed, same as the list before.\n",
    "\n",
    "Again, selecting a key that is not contained in the dict raises an error."
   ]
  },
  {
   "cell_type": "code",
   "execution_count": 23,
   "metadata": {
    "execution": {
     "iopub.execute_input": "2021-11-23T20:35:09.827770Z",
     "iopub.status.busy": "2021-11-23T20:35:09.825541Z",
     "iopub.status.idle": "2021-11-23T20:35:09.830139Z",
     "shell.execute_reply": "2021-11-23T20:35:09.830724Z"
    },
    "slideshow": {
     "slide_type": "subslide"
    },
    "tags": [
     "raises-exception"
    ]
   },
   "outputs": [
    {
     "ename": "KeyError",
     "evalue": "'nationality'",
     "output_type": "error",
     "traceback": [
      "\u001b[0;31m---------------------------------------------------------------------------\u001b[0m",
      "\u001b[0;31mKeyError\u001b[0m                                  Traceback (most recent call last)",
      "\u001b[0;32m/tmp/ipykernel_8486/2400138081.py\u001b[0m in \u001b[0;36m<module>\u001b[0;34m\u001b[0m\n\u001b[0;32m----> 1\u001b[0;31m \u001b[0mperson\u001b[0m\u001b[0;34m[\u001b[0m\u001b[0;34m'nationality'\u001b[0m\u001b[0;34m]\u001b[0m\u001b[0;34m\u001b[0m\u001b[0;34m\u001b[0m\u001b[0m\n\u001b[0m",
      "\u001b[0;31mKeyError\u001b[0m: 'nationality'"
     ]
    }
   ],
   "source": [
    "person['nationality']"
   ]
  },
  {
   "cell_type": "markdown",
   "metadata": {
    "slideshow": {
     "slide_type": "subslide"
    }
   },
   "source": [
    "As any object in Python, there are many useful methods on `list` and `dict` that help you accomplish things. For example, what if we want to retrieve a value from a dict _only_ if the key is there and otherwise return a default value? We can use `get`:"
   ]
  },
  {
   "cell_type": "code",
   "execution_count": 24,
   "metadata": {
    "execution": {
     "iopub.execute_input": "2021-11-23T20:35:09.835562Z",
     "iopub.status.busy": "2021-11-23T20:35:09.834939Z",
     "iopub.status.idle": "2021-11-23T20:35:09.839894Z",
     "shell.execute_reply": "2021-11-23T20:35:09.839271Z"
    },
    "slideshow": {
     "slide_type": "subslide"
    }
   },
   "outputs": [
    {
     "name": "stdout",
     "output_type": "stream",
     "text": [
      "unknown color\n"
     ]
    }
   ],
   "source": [
    "hair_color = person.get('hair_color', 'unknown color')  # the second argument gets returned if key is not in dict\n",
    "print(hair_color)"
   ]
  },
  {
   "cell_type": "markdown",
   "metadata": {
    "slideshow": {
     "slide_type": "slide"
    }
   },
   "source": [
    "## Mutability\n",
    "\n",
    "Python has a fundamental distinction between mutable and immutable types.\n",
    "\n",
    "Mutable means, an object can be changed\n",
    "Immutable means, an object can not be changed\n",
    "\n",
    "As an example, `5` can not change; in general the basic types we looked at cannot change. We can change the value that is assigned to a variable, but the object `5` remains the same. The list and dicts we have seen above on the other hand are mutable, they have changed over the course of execution.\n",
    "\n",
    "Every mutable object has an immutable counterpart (but not vice-versa):\n",
    " - list -> tuple\n",
    " - dict -> frozendict\n",
    " - set -> frozenset\n",
    " - etc."
   ]
  },
  {
   "cell_type": "code",
   "execution_count": 25,
   "metadata": {
    "execution": {
     "iopub.execute_input": "2021-11-23T20:35:09.844761Z",
     "iopub.status.busy": "2021-11-23T20:35:09.844145Z",
     "iopub.status.idle": "2021-11-23T20:35:09.847763Z",
     "shell.execute_reply": "2021-11-23T20:35:09.847196Z"
    },
    "slideshow": {
     "slide_type": "subslide"
    }
   },
   "outputs": [],
   "source": [
    "# creating a tuple\n",
    "tuple1 = (1, 3, 5)\n",
    "# or from a list\n",
    "tuple_from_list = tuple(list1)"
   ]
  },
  {
   "cell_type": "code",
   "execution_count": 26,
   "metadata": {
    "execution": {
     "iopub.execute_input": "2021-11-23T20:35:09.852739Z",
     "iopub.status.busy": "2021-11-23T20:35:09.852115Z",
     "iopub.status.idle": "2021-11-23T20:35:09.855700Z",
     "shell.execute_reply": "2021-11-23T20:35:09.856183Z"
    }
   },
   "outputs": [],
   "source": [
    "list2 = [4, 5]\n",
    "tuple2 = (3, 4)\n",
    "list3 = list(tuple2)"
   ]
  },
  {
   "cell_type": "code",
   "execution_count": null,
   "metadata": {},
   "outputs": [],
   "source": []
  },
  {
   "cell_type": "markdown",
   "metadata": {
    "slideshow": {
     "slide_type": "subslide"
    }
   },
   "source": [
    "While we can access the elements as we can for a list, we can neither _assign_ nor _append_ (or in generate _mutate_ the object:"
   ]
  },
  {
   "cell_type": "code",
   "execution_count": 27,
   "metadata": {
    "execution": {
     "iopub.execute_input": "2021-11-23T20:35:09.860680Z",
     "iopub.status.busy": "2021-11-23T20:35:09.860060Z",
     "iopub.status.idle": "2021-11-23T20:35:09.865106Z",
     "shell.execute_reply": "2021-11-23T20:35:09.864574Z"
    },
    "slideshow": {
     "slide_type": "subslide"
    }
   },
   "outputs": [
    {
     "name": "stdout",
     "output_type": "stream",
     "text": [
      "3\n"
     ]
    }
   ],
   "source": [
    "print(tuple1[1])  # access works!"
   ]
  },
  {
   "cell_type": "code",
   "execution_count": 28,
   "metadata": {
    "execution": {
     "iopub.execute_input": "2021-11-23T20:35:09.872435Z",
     "iopub.status.busy": "2021-11-23T20:35:09.871787Z",
     "iopub.status.idle": "2021-11-23T20:35:09.877389Z",
     "shell.execute_reply": "2021-11-23T20:35:09.876813Z"
    },
    "slideshow": {
     "slide_type": "subslide"
    },
    "tags": [
     "raises-exception"
    ]
   },
   "outputs": [
    {
     "ename": "TypeError",
     "evalue": "'tuple' object does not support item assignment",
     "output_type": "error",
     "traceback": [
      "\u001b[0;31m---------------------------------------------------------------------------\u001b[0m",
      "\u001b[0;31mTypeError\u001b[0m                                 Traceback (most recent call last)",
      "\u001b[0;32m/tmp/ipykernel_8486/3757693279.py\u001b[0m in \u001b[0;36m<module>\u001b[0;34m\u001b[0m\n\u001b[0;32m----> 1\u001b[0;31m \u001b[0mtuple1\u001b[0m\u001b[0;34m[\u001b[0m\u001b[0;36m0\u001b[0m\u001b[0;34m]\u001b[0m \u001b[0;34m=\u001b[0m \u001b[0;36m5\u001b[0m\u001b[0;34m\u001b[0m\u001b[0;34m\u001b[0m\u001b[0m\n\u001b[0m",
      "\u001b[0;31mTypeError\u001b[0m: 'tuple' object does not support item assignment"
     ]
    }
   ],
   "source": [
    "tuple1[0] = 5"
   ]
  },
  {
   "cell_type": "markdown",
   "metadata": {
    "slideshow": {
     "slide_type": "subslide"
    }
   },
   "source": [
    "We will soon see the effects and needs for this..."
   ]
  },
  {
   "cell_type": "markdown",
   "metadata": {
    "slideshow": {
     "slide_type": "slide"
    }
   },
   "source": [
    "## dynamic typing\n",
    "\n",
    "Python is dynamically typed (as opposed to statically typed). This means that a variable, which once was an int, such as `a`, can be assigned a value of another type."
   ]
  },
  {
   "cell_type": "code",
   "execution_count": 29,
   "metadata": {
    "execution": {
     "iopub.execute_input": "2021-11-23T20:35:09.881841Z",
     "iopub.status.busy": "2021-11-23T20:35:09.881117Z",
     "iopub.status.idle": "2021-11-23T20:35:09.885256Z",
     "shell.execute_reply": "2021-11-23T20:35:09.884701Z"
    },
    "slideshow": {
     "slide_type": "subslide"
    }
   },
   "outputs": [],
   "source": [
    "a = 1"
   ]
  },
  {
   "cell_type": "code",
   "execution_count": 30,
   "metadata": {
    "execution": {
     "iopub.execute_input": "2021-11-23T20:35:09.890410Z",
     "iopub.status.busy": "2021-11-23T20:35:09.888948Z",
     "iopub.status.idle": "2021-11-23T20:35:09.891101Z",
     "shell.execute_reply": "2021-11-23T20:35:09.891631Z"
    },
    "slideshow": {
     "slide_type": "subslide"
    }
   },
   "outputs": [],
   "source": [
    "a = \"one\""
   ]
  },
  {
   "cell_type": "code",
   "execution_count": 31,
   "metadata": {
    "execution": {
     "iopub.execute_input": "2021-11-23T20:35:09.899134Z",
     "iopub.status.busy": "2021-11-23T20:35:09.897558Z",
     "iopub.status.idle": "2021-11-23T20:35:09.899824Z",
     "shell.execute_reply": "2021-11-23T20:35:09.900353Z"
    },
    "slideshow": {
     "slide_type": "subslide"
    }
   },
   "outputs": [],
   "source": [
    "a = list1"
   ]
  },
  {
   "cell_type": "markdown",
   "metadata": {
    "slideshow": {
     "slide_type": "subslide"
    }
   },
   "source": [
    "... and so on"
   ]
  },
  {
   "cell_type": "markdown",
   "metadata": {
    "slideshow": {
     "slide_type": "slide"
    }
   },
   "source": [
    "# Assignement and variables\n",
    "\n",
    "We've seen a few things up to now but have not really looked at the assignement and variables itself. Understanding Pythons variable is crucial to understand e.g. the following:"
   ]
  },
  {
   "cell_type": "code",
   "execution_count": 32,
   "metadata": {
    "execution": {
     "iopub.execute_input": "2021-11-23T20:35:09.906248Z",
     "iopub.status.busy": "2021-11-23T20:35:09.905598Z",
     "iopub.status.idle": "2021-11-23T20:35:09.907786Z",
     "shell.execute_reply": "2021-11-23T20:35:09.908311Z"
    },
    "slideshow": {
     "slide_type": "subslide"
    }
   },
   "outputs": [
    {
     "name": "stdout",
     "output_type": "stream",
     "text": [
      "5 5\n"
     ]
    }
   ],
   "source": [
    "a = 5\n",
    "b = a\n",
    "print(a, b)"
   ]
  },
  {
   "cell_type": "code",
   "execution_count": 33,
   "metadata": {
    "execution": {
     "iopub.execute_input": "2021-11-23T20:35:09.911593Z",
     "iopub.status.busy": "2021-11-23T20:35:09.910976Z",
     "iopub.status.idle": "2021-11-23T20:35:09.918024Z",
     "shell.execute_reply": "2021-11-23T20:35:09.917432Z"
    },
    "slideshow": {
     "slide_type": "subslide"
    }
   },
   "outputs": [
    {
     "name": "stdout",
     "output_type": "stream",
     "text": [
      "3 5\n"
     ]
    }
   ],
   "source": [
    "a = 3\n",
    "print(a, b)"
   ]
  },
  {
   "cell_type": "markdown",
   "metadata": {
    "slideshow": {
     "slide_type": "subslide"
    }
   },
   "source": [
    "So far so good, no surprize here."
   ]
  },
  {
   "cell_type": "code",
   "execution_count": 34,
   "metadata": {
    "execution": {
     "iopub.execute_input": "2021-11-23T20:35:09.922722Z",
     "iopub.status.busy": "2021-11-23T20:35:09.921906Z",
     "iopub.status.idle": "2021-11-23T20:35:09.924356Z",
     "shell.execute_reply": "2021-11-23T20:35:09.924884Z"
    },
    "slideshow": {
     "slide_type": "subslide"
    }
   },
   "outputs": [
    {
     "name": "stdout",
     "output_type": "stream",
     "text": [
      "[1, 3] [1, 3]\n"
     ]
    }
   ],
   "source": [
    "list1 = [1, 3]\n",
    "list2 = list1\n",
    "print(list1, list2)"
   ]
  },
  {
   "cell_type": "code",
   "execution_count": 35,
   "metadata": {
    "execution": {
     "iopub.execute_input": "2021-11-23T20:35:09.930023Z",
     "iopub.status.busy": "2021-11-23T20:35:09.929410Z",
     "iopub.status.idle": "2021-11-23T20:35:09.931485Z",
     "shell.execute_reply": "2021-11-23T20:35:09.932006Z"
    },
    "slideshow": {
     "slide_type": "subslide"
    }
   },
   "outputs": [
    {
     "name": "stdout",
     "output_type": "stream",
     "text": [
      "[99, 3] [99, 3]\n"
     ]
    }
   ],
   "source": [
    "list2[0] = 99\n",
    "print(list1, list2)"
   ]
  },
  {
   "cell_type": "markdown",
   "metadata": {
    "slideshow": {
     "slide_type": "subslide"
    }
   },
   "source": [
    "...but that was probably unexpected! Let's have a look at Pythons variable assignement."
   ]
  },
  {
   "cell_type": "markdown",
   "metadata": {
    "slideshow": {
     "slide_type": "slide"
    }
   },
   "source": [
    "## Python variable assignement\n",
    "\n",
    "Assigning something to a variable in Python makes a name point to an actual object, so the name is only a reference. For example creating the variable `a` and assigning it the object `5` looks like this:\n",
    "![assignements1](figs/python_references1.jpg)"
   ]
  },
  {
   "cell_type": "code",
   "execution_count": 36,
   "metadata": {
    "execution": {
     "iopub.execute_input": "2021-11-23T20:35:09.936254Z",
     "iopub.status.busy": "2021-11-23T20:35:09.934879Z",
     "iopub.status.idle": "2021-11-23T20:35:09.938985Z",
     "shell.execute_reply": "2021-11-23T20:35:09.938421Z"
    },
    "slideshow": {
     "slide_type": "subslide"
    }
   },
   "outputs": [],
   "source": [
    "a = 3\n",
    "list_a = [1, 2]"
   ]
  },
  {
   "cell_type": "markdown",
   "metadata": {
    "slideshow": {
     "slide_type": "subslide"
    }
   },
   "source": [
    "![reference2](figs/python_references2.jpg)"
   ]
  },
  {
   "cell_type": "code",
   "execution_count": 37,
   "metadata": {
    "execution": {
     "iopub.execute_input": "2021-11-23T20:35:09.943554Z",
     "iopub.status.busy": "2021-11-23T20:35:09.942914Z",
     "iopub.status.idle": "2021-11-23T20:35:09.945412Z",
     "shell.execute_reply": "2021-11-23T20:35:09.944854Z"
    },
    "slideshow": {
     "slide_type": "subslide"
    }
   },
   "outputs": [],
   "source": [
    "b = a  # this assigns the reference of a to b\n",
    "list_b = list_a"
   ]
  },
  {
   "cell_type": "markdown",
   "metadata": {
    "slideshow": {
     "slide_type": "subslide"
    }
   },
   "source": [
    "Both objects, `b` and `list_b` point now to the same objects in memory as `a` and `list_a` respectively. Re-assigning a variable let's it point to a different object\n",
    "![reference3](figs/python_references3.jpg)"
   ]
  },
  {
   "cell_type": "code",
   "execution_count": 38,
   "metadata": {
    "execution": {
     "iopub.execute_input": "2021-11-23T20:35:09.951375Z",
     "iopub.status.busy": "2021-11-23T20:35:09.950758Z",
     "iopub.status.idle": "2021-11-23T20:35:09.957372Z",
     "shell.execute_reply": "2021-11-23T20:35:09.956862Z"
    },
    "slideshow": {
     "slide_type": "subslide"
    }
   },
   "outputs": [
    {
     "name": "stdout",
     "output_type": "stream",
     "text": [
      "spam 3"
     ]
    },
    {
     "name": "stdout",
     "output_type": "stream",
     "text": [
      "\n",
      "[1, 5, 2, 'world', 1] [1, 2]\n"
     ]
    }
   ],
   "source": [
    "a = 'spam'\n",
    "list_a = [1, 5, 2, 'world', 1]\n",
    "print(a, b)\n",
    "print(list_a, list_b)"
   ]
  },
  {
   "cell_type": "markdown",
   "metadata": {
    "slideshow": {
     "slide_type": "subslide"
    }
   },
   "source": [
    "Let's make them point to the same object again:"
   ]
  },
  {
   "cell_type": "code",
   "execution_count": 39,
   "metadata": {
    "execution": {
     "iopub.execute_input": "2021-11-23T20:35:09.961987Z",
     "iopub.status.busy": "2021-11-23T20:35:09.961365Z",
     "iopub.status.idle": "2021-11-23T20:35:09.964652Z",
     "shell.execute_reply": "2021-11-23T20:35:09.964134Z"
    },
    "slideshow": {
     "slide_type": "subslide"
    }
   },
   "outputs": [
    {
     "name": "stdout",
     "output_type": "stream",
     "text": [
      "spam spam\n",
      "[1, 5, 2, 'world', 1] [1, 5, 2, 'world', 1]\n"
     ]
    }
   ],
   "source": [
    "b = a\n",
    "list_b = list_a\n",
    "print(a, b)\n",
    "print(list_a, list_b)"
   ]
  },
  {
   "cell_type": "code",
   "execution_count": 40,
   "metadata": {
    "execution": {
     "iopub.execute_input": "2021-11-23T20:35:09.969149Z",
     "iopub.status.busy": "2021-11-23T20:35:09.968535Z",
     "iopub.status.idle": "2021-11-23T20:35:09.970757Z",
     "shell.execute_reply": "2021-11-23T20:35:09.971374Z"
    },
    "slideshow": {
     "slide_type": "subslide"
    }
   },
   "outputs": [
    {
     "name": "stdout",
     "output_type": "stream",
     "text": [
      "[1, 'hello', 2, 'world', 1] [1, 'hello', 2, 'world', 1]\n"
     ]
    }
   ],
   "source": [
    "list_a[1] = 'hello'\n",
    "print(list_a, list_b)"
   ]
  },
  {
   "cell_type": "markdown",
   "metadata": {
    "slideshow": {
     "slide_type": "subslide"
    }
   },
   "source": [
    "Now we understand what happend: the object that both variables are pointing to simply changed. This is impossible with immutable objects (such as `3`), since they are immutable.\n",
    "\n",
    "Mutable objects usually offer the ability to create a copy."
   ]
  },
  {
   "cell_type": "code",
   "execution_count": 41,
   "metadata": {
    "execution": {
     "iopub.execute_input": "2021-11-23T20:35:09.975966Z",
     "iopub.status.busy": "2021-11-23T20:35:09.975353Z",
     "iopub.status.idle": "2021-11-23T20:35:09.978455Z",
     "shell.execute_reply": "2021-11-23T20:35:09.977587Z"
    },
    "slideshow": {
     "slide_type": "subslide"
    }
   },
   "outputs": [],
   "source": [
    "list_c = list_a.copy()  # now there are two identical lists in the memory"
   ]
  },
  {
   "cell_type": "code",
   "execution_count": 42,
   "metadata": {
    "execution": {
     "iopub.execute_input": "2021-11-23T20:35:09.983203Z",
     "iopub.status.busy": "2021-11-23T20:35:09.982507Z",
     "iopub.status.idle": "2021-11-23T20:35:09.984951Z",
     "shell.execute_reply": "2021-11-23T20:35:09.985500Z"
    },
    "slideshow": {
     "slide_type": "subslide"
    }
   },
   "outputs": [
    {
     "name": "stdout",
     "output_type": "stream",
     "text": [
      "[1, 'hello', 'my', 'world', 1]\n",
      "[1, 'hello', 'my', 'world', 1]\n",
      "[1, 'hello', 2, 'world', 1]\n"
     ]
    }
   ],
   "source": [
    "list_a[2] = 'my'\n",
    "print(list_a)\n",
    "print(list_b)\n",
    "print(list_c)"
   ]
  },
  {
   "cell_type": "markdown",
   "metadata": {
    "slideshow": {
     "slide_type": "subslide"
    }
   },
   "source": [
    "`list_a` and `list_b`, pointing to the same object that was mutated, have changed, while `list_c`, pointing to a different object, remained the same.\n",
    "\n",
    "Let's have a look at two operators: the \"trivial\" `==` and the `is`:\n",
    "we know `==` pretty well, it tells whether the left and the right side are the same. More specific, it tells whether both sides have/represent the same _value_, not whether they are in fact the same object!\n",
    "The operator `is` tells us, whether two objects _are_ the same object (compare our assignement model above!)."
   ]
  },
  {
   "cell_type": "code",
   "execution_count": 43,
   "metadata": {
    "execution": {
     "iopub.execute_input": "2021-11-23T20:35:09.990055Z",
     "iopub.status.busy": "2021-11-23T20:35:09.989438Z",
     "iopub.status.idle": "2021-11-23T20:35:09.991820Z",
     "shell.execute_reply": "2021-11-23T20:35:09.992339Z"
    },
    "slideshow": {
     "slide_type": "subslide"
    }
   },
   "outputs": [
    {
     "name": "stdout",
     "output_type": "stream",
     "text": [
      "False\n",
      "True\n"
     ]
    }
   ],
   "source": [
    "print(list_a == list_c)  # not the same\n",
    "print(list_a == list_b)  # the same"
   ]
  },
  {
   "cell_type": "code",
   "execution_count": 44,
   "metadata": {
    "execution": {
     "iopub.execute_input": "2021-11-23T20:35:09.998260Z",
     "iopub.status.busy": "2021-11-23T20:35:09.997610Z",
     "iopub.status.idle": "2021-11-23T20:35:09.999947Z",
     "shell.execute_reply": "2021-11-23T20:35:10.000463Z"
    },
    "slideshow": {
     "slide_type": "subslide"
    }
   },
   "outputs": [
    {
     "name": "stdout",
     "output_type": "stream",
     "text": [
      "True\n"
     ]
    }
   ],
   "source": [
    "list_c[2] = 'my'  # make it the same as the other lists\n",
    "print(list_a == list_c)"
   ]
  },
  {
   "cell_type": "markdown",
   "metadata": {
    "slideshow": {
     "slide_type": "subslide"
    }
   },
   "source": [
    "But, as we learned before, they are _not the same objects_!"
   ]
  },
  {
   "cell_type": "code",
   "execution_count": 45,
   "metadata": {
    "execution": {
     "iopub.execute_input": "2021-11-23T20:35:10.005440Z",
     "iopub.status.busy": "2021-11-23T20:35:10.004813Z",
     "iopub.status.idle": "2021-11-23T20:35:10.006896Z",
     "shell.execute_reply": "2021-11-23T20:35:10.007446Z"
    },
    "slideshow": {
     "slide_type": "subslide"
    }
   },
   "outputs": [
    {
     "name": "stdout",
     "output_type": "stream",
     "text": [
      "False\n",
      "True\n"
     ]
    }
   ],
   "source": [
    "print(list_a is list_c)  # nope!\n",
    "print(list_a is list_b)  # yes!"
   ]
  },
  {
   "cell_type": "markdown",
   "metadata": {
    "slideshow": {
     "slide_type": "subslide"
    }
   },
   "source": [
    "Normally, we are only interested to compare the values, using `==`."
   ]
  },
  {
   "cell_type": "markdown",
   "metadata": {
    "slideshow": {
     "slide_type": "slide"
    }
   },
   "source": [
    "## Sugar: comprehensions\n",
    "\n",
    "(taken from advanced Python lecture)"
   ]
  },
  {
   "cell_type": "markdown",
   "metadata": {
    "slideshow": {
     "slide_type": "subslide"
    }
   },
   "source": [
    "**List comprehensions**"
   ]
  },
  {
   "cell_type": "code",
   "execution_count": 46,
   "metadata": {
    "execution": {
     "iopub.execute_input": "2021-11-23T20:35:10.014107Z",
     "iopub.status.busy": "2021-11-23T20:35:10.013062Z",
     "iopub.status.idle": "2021-11-23T20:35:10.015663Z",
     "shell.execute_reply": "2021-11-23T20:35:10.016193Z"
    },
    "slideshow": {
     "slide_type": "subslide"
    }
   },
   "outputs": [
    {
     "name": "stdout",
     "output_type": "stream",
     "text": [
      "Sum of squares for 10 is 285\n"
     ]
    }
   ],
   "source": [
    "N = 10\n",
    "\n",
    "list_of_squares = [i**2 for i in range(N)]\n",
    "sum_of_squares = sum(list_of_squares)\n",
    "\n",
    "print('Sum of squares for', N, 'is', sum_of_squares)"
   ]
  },
  {
   "cell_type": "code",
   "execution_count": 47,
   "metadata": {
    "execution": {
     "iopub.execute_input": "2021-11-23T20:35:10.022098Z",
     "iopub.status.busy": "2021-11-23T20:35:10.021476Z",
     "iopub.status.idle": "2021-11-23T20:35:10.026561Z",
     "shell.execute_reply": "2021-11-23T20:35:10.029688Z"
    }
   },
   "outputs": [
    {
     "data": {
      "text/plain": [
       "[1, 3, 5, 7, 9]"
      ]
     },
     "execution_count": 47,
     "metadata": {},
     "output_type": "execute_result"
    }
   ],
   "source": [
    "# [obj_to_return if ... else ... for i in ... for j in ... if ...]\n",
    "[i for i in range(10) if i % 2]"
   ]
  },
  {
   "cell_type": "code",
   "execution_count": 48,
   "metadata": {
    "execution": {
     "iopub.execute_input": "2021-11-23T20:35:10.034870Z",
     "iopub.status.busy": "2021-11-23T20:35:10.034092Z",
     "iopub.status.idle": "2021-11-23T20:35:10.038626Z",
     "shell.execute_reply": "2021-11-23T20:35:10.037219Z"
    }
   },
   "outputs": [
    {
     "data": {
      "text/plain": [
       "'spam'"
      ]
     },
     "execution_count": 48,
     "metadata": {},
     "output_type": "execute_result"
    }
   ],
   "source": [
    "a"
   ]
  },
  {
   "cell_type": "markdown",
   "metadata": {
    "slideshow": {
     "slide_type": "subslide"
    }
   },
   "source": [
    "**Dictionary comprehensions**"
   ]
  },
  {
   "cell_type": "code",
   "execution_count": 49,
   "metadata": {
    "execution": {
     "iopub.execute_input": "2021-11-23T20:35:10.043350Z",
     "iopub.status.busy": "2021-11-23T20:35:10.042646Z",
     "iopub.status.idle": "2021-11-23T20:35:10.046389Z",
     "shell.execute_reply": "2021-11-23T20:35:10.045790Z"
    },
    "slideshow": {
     "slide_type": "subslide"
    }
   },
   "outputs": [
    {
     "name": "stdout",
     "output_type": "stream",
     "text": [
      "{0: 0, 1: 1, 2: 4, 3: 9, 4: 16, 5: 25, 6: 36, 7: 49, 8: 64, 9: 81}\n"
     ]
    }
   ],
   "source": [
    "squares = {i: i**2 for i in range(10)}\n",
    "print(squares)"
   ]
  },
  {
   "cell_type": "code",
   "execution_count": 50,
   "metadata": {
    "execution": {
     "iopub.execute_input": "2021-11-23T20:35:10.051189Z",
     "iopub.status.busy": "2021-11-23T20:35:10.050554Z",
     "iopub.status.idle": "2021-11-23T20:35:10.054832Z",
     "shell.execute_reply": "2021-11-23T20:35:10.054279Z"
    },
    "slideshow": {
     "slide_type": "subslide"
    }
   },
   "outputs": [
    {
     "name": "stdout",
     "output_type": "stream",
     "text": [
      "The square of 5 is 25\n"
     ]
    }
   ],
   "source": [
    "N = 5\n",
    "print('The square of', N, 'is', squares[N])"
   ]
  },
  {
   "cell_type": "markdown",
   "metadata": {
    "slideshow": {
     "slide_type": "slide"
    }
   },
   "source": [
    "## Sugar: using Markdown"
   ]
  },
  {
   "cell_type": "markdown",
   "metadata": {
    "slideshow": {
     "slide_type": "subslide"
    }
   },
   "source": [
    "Write comments inline about your code:\n",
    "\n",
    "Use LaTeX:\n",
    "\n",
    "$A = \\frac{1}{B+C}$\n",
    "\n",
    "Show lists:\n",
    "\n",
    "* A wonderful\n",
    "* List\n",
    "* This is\n",
    "\n",
    "Show code with syntax highlighting:\n",
    "\n",
    "**Python:** (but in a sad grey world)\n",
    "\n",
    "```\n",
    "print('Hello world')\n",
    "```\n",
    "\n",
    "**Python:**\n",
    "\n",
    "```python\n",
    "print('Hello world')\n",
    "```\n",
    "\n",
    "**C++:**\n",
    "\n",
    "```cpp\n",
    "#include <iostream>\n",
    "\n",
    "std::cout << \"Hello world\" << std::endl;\n",
    "```\n",
    "\n",
    "**Bash:**\n",
    "\n",
    "```bash\n",
    "echo \"Hello world\"\n",
    "```"
   ]
  },
  {
   "cell_type": "markdown",
   "metadata": {
    "slideshow": {
     "slide_type": "subslide"
    }
   },
   "source": [
    "**f-strings**"
   ]
  },
  {
   "cell_type": "code",
   "execution_count": 51,
   "metadata": {
    "execution": {
     "iopub.execute_input": "2021-11-23T20:35:10.059933Z",
     "iopub.status.busy": "2021-11-23T20:35:10.059300Z",
     "iopub.status.idle": "2021-11-23T20:35:10.062092Z",
     "shell.execute_reply": "2021-11-23T20:35:10.062789Z"
    },
    "slideshow": {
     "slide_type": "subslide"
    }
   },
   "outputs": [
    {
     "name": "stdout",
     "output_type": "stream",
     "text": [
      "(PT > 1789.23) & (2 < ETA < 5)\n"
     ]
    }
   ],
   "source": [
    "pt_cut = 1789.234567890987654\n",
    "eta_low = 2\n",
    "eta_high = 5\n",
    "\n",
    "cut_string = f'(PT > {pt_cut:.2f}) & ({eta_low} < ETA < {eta_high})'\n",
    "print(cut_string)"
   ]
  }
 ],
 "metadata": {
  "celltoolbar": "Tags",
  "kernelspec": {
   "display_name": "Python 3",
   "language": "python",
   "name": "python3"
  },
  "language_info": {
   "codemirror_mode": {
    "name": "ipython",
    "version": 3
   },
   "file_extension": ".py",
   "mimetype": "text/x-python",
   "name": "python",
   "nbconvert_exporter": "python",
   "pygments_lexer": "ipython3",
   "version": "3.8.12"
  },
  "nbsphinx": {
   "execute": "auto"
  }
 },
 "nbformat": 4,
 "nbformat_minor": 4
}
