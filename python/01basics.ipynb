{
 "cells": [
  {
   "cell_type": "markdown",
   "metadata": {
    "slideshow": {
     "slide_type": "slide"
    }
   },
   "source": [
    "# 1: Basics"
   ]
  },
  {
   "cell_type": "markdown",
   "metadata": {
    "slideshow": {
     "slide_type": "subslide"
    }
   },
   "source": [
    "This Python tutorial will cover the basics of\n",
    " - Jupyter Notebooks\n",
    " - basic types in Python\n",
    " - container types\n",
    " - control flow"
   ]
  },
  {
   "cell_type": "markdown",
   "metadata": {
    "slideshow": {
     "slide_type": "slide"
    }
   },
   "source": [
    "# Jupyter\n",
    "\n",
    "A Jupyter Notebook consists of cells that can be executed. There are two fundamental different types of cells, markdown or code cells. The former renders the text as markdown while the latter runs the Python interpreter.\n",
    "\n",
    "Notebooks can be converted to Python scripts.\n",
    "\n",
    "Be aware that notebooks are stateful. E.g. executing a cell again is like adding this line two times in a script.\n",
    "\n",
    "Useful commands:\n",
    " - to run a cell and go to the next one, press Shift + Enter\n",
    " - to move from editing mode to navigation (move up and down in cells), press Esc\n",
    " - to enter editing mode from navigation, press Enter\n",
    " \n",
    "Let's start! Execute the lines below"
   ]
  },
  {
   "cell_type": "code",
   "execution_count": 1,
   "metadata": {
    "execution": {
     "iopub.execute_input": "2021-06-03T13:40:32.417811Z",
     "iopub.status.busy": "2021-06-03T13:40:32.417340Z",
     "iopub.status.idle": "2021-06-03T13:40:32.424239Z",
     "shell.execute_reply": "2021-06-03T13:40:32.424641Z"
    },
    "slideshow": {
     "slide_type": "subslide"
    }
   },
   "outputs": [],
   "source": [
    "a = 0"
   ]
  },
  {
   "cell_type": "code",
   "execution_count": 2,
   "metadata": {
    "execution": {
     "iopub.execute_input": "2021-06-03T13:40:32.429830Z",
     "iopub.status.busy": "2021-06-03T13:40:32.428625Z",
     "iopub.status.idle": "2021-06-03T13:40:32.431638Z",
     "shell.execute_reply": "2021-06-03T13:40:32.431172Z"
    },
    "slideshow": {
     "slide_type": "subslide"
    }
   },
   "outputs": [
    {
     "name": "stdout",
     "output_type": "stream",
     "text": [
      "1\n"
     ]
    }
   ],
   "source": [
    "a = a + 1\n",
    "print(a)"
   ]
  },
  {
   "cell_type": "markdown",
   "metadata": {
    "slideshow": {
     "slide_type": "subslide"
    }
   },
   "source": [
    "If we rerun the cell above, `a` will have changed again! If you want to rerun everythin, restart the kernel first."
   ]
  },
  {
   "cell_type": "markdown",
   "metadata": {
    "slideshow": {
     "slide_type": "subslide"
    }
   },
   "source": [
    "Notebooks offer convenient functionality, similar to IPython:\n",
    " - can use `!command` to execute bash\n",
    " - has tab-completion\n",
    " - prints automatically return value if it is not assigned to a variable\n",
    " - magic commands like %timeit\n",
    " \n",
    "We will use them later on more"
   ]
  },
  {
   "cell_type": "markdown",
   "metadata": {
    "slideshow": {
     "slide_type": "slide"
    }
   },
   "source": [
    "## Basic types and operations\n",
    "\n",
    "Python has several basic types\n",
    " - numerical (float, int, complex)\n",
    " - string\n",
    " - bool\n",
    " \n",
    "There are several operations defined on them, as we have already seen in examples.\n"
   ]
  },
  {
   "cell_type": "code",
   "execution_count": 3,
   "metadata": {
    "execution": {
     "iopub.execute_input": "2021-06-03T13:40:32.436442Z",
     "iopub.status.busy": "2021-06-03T13:40:32.435949Z",
     "iopub.status.idle": "2021-06-03T13:40:32.438167Z",
     "shell.execute_reply": "2021-06-03T13:40:32.438537Z"
    },
    "slideshow": {
     "slide_type": "subslide"
    }
   },
   "outputs": [],
   "source": [
    "a = 1  # creates an integer\n",
    "\n",
    "b = 3.4  # float\n",
    "\n",
    "# several ways for strings\n",
    "c = \"hello\"\n",
    "d = 'world'\n",
    "cd = \"welcome to this 'world' here\"  # we can now use '' inside (or vice versa)\n",
    "e = \"\"\"hello world\"\"\"  # which we can also wrap\n",
    "e2 = \"\"\"hello\n",
    "world\n",
    "come here!\"\"\"\n",
    "\n",
    "g = True"
   ]
  },
  {
   "cell_type": "code",
   "execution_count": 4,
   "metadata": {
    "execution": {
     "iopub.execute_input": "2021-06-03T13:40:32.447772Z",
     "iopub.status.busy": "2021-06-03T13:40:32.447233Z",
     "iopub.status.idle": "2021-06-03T13:40:32.449797Z",
     "shell.execute_reply": "2021-06-03T13:40:32.450172Z"
    },
    "slideshow": {
     "slide_type": "subslide"
    }
   },
   "outputs": [
    {
     "data": {
      "text/plain": [
       "int"
      ]
     },
     "execution_count": 1,
     "metadata": {},
     "output_type": "execute_result"
    }
   ],
   "source": [
    "type(a)"
   ]
  },
  {
   "cell_type": "markdown",
   "metadata": {
    "slideshow": {
     "slide_type": "subslide"
    }
   },
   "source": [
    "With `type(...)`, we can determine the type of an object."
   ]
  },
  {
   "cell_type": "markdown",
   "metadata": {
    "slideshow": {
     "slide_type": "slide"
    }
   },
   "source": [
    "## strong typing\n",
    "\n",
    "Python is **strongly typed** (as opposed to weakly typed). This means that the type of the variable _matters_ and some interactions between certain types are not directly possible."
   ]
  },
  {
   "cell_type": "code",
   "execution_count": 5,
   "metadata": {
    "execution": {
     "iopub.execute_input": "2021-06-03T13:40:32.454184Z",
     "iopub.status.busy": "2021-06-03T13:40:32.453113Z",
     "iopub.status.idle": "2021-06-03T13:40:32.454749Z",
     "shell.execute_reply": "2021-06-03T13:40:32.455142Z"
    },
    "slideshow": {
     "slide_type": "subslide"
    }
   },
   "outputs": [],
   "source": [
    "a = 1\n",
    "b = 2"
   ]
  },
  {
   "cell_type": "code",
   "execution_count": 6,
   "metadata": {
    "execution": {
     "iopub.execute_input": "2021-06-03T13:40:32.459359Z",
     "iopub.status.busy": "2021-06-03T13:40:32.458874Z",
     "iopub.status.idle": "2021-06-03T13:40:32.461428Z",
     "shell.execute_reply": "2021-06-03T13:40:32.461798Z"
    },
    "slideshow": {
     "slide_type": "subslide"
    }
   },
   "outputs": [
    {
     "data": {
      "text/plain": [
       "3"
      ]
     },
     "execution_count": 1,
     "metadata": {},
     "output_type": "execute_result"
    }
   ],
   "source": [
    "a + b"
   ]
  },
  {
   "cell_type": "markdown",
   "metadata": {
    "slideshow": {
     "slide_type": "subslide"
    }
   },
   "source": [
    "These are two integers. We are not surprised that this works. What about the following?"
   ]
  },
  {
   "cell_type": "code",
   "execution_count": 7,
   "metadata": {
    "execution": {
     "iopub.execute_input": "2021-06-03T13:40:32.465052Z",
     "iopub.status.busy": "2021-06-03T13:40:32.464608Z",
     "iopub.status.idle": "2021-06-03T13:40:32.511408Z",
     "shell.execute_reply": "2021-06-03T13:40:32.512162Z"
    },
    "slideshow": {
     "slide_type": "subslide"
    },
    "tags": [
     "raises-exception"
    ]
   },
   "outputs": [
    {
     "ename": "TypeError",
     "evalue": "unsupported operand type(s) for +: 'int' and 'str'",
     "output_type": "error",
     "traceback": [
      "\u001b[0;31m---------------------------------------------------------------------------\u001b[0m",
      "\u001b[0;31mTypeError\u001b[0m                                 Traceback (most recent call last)",
      "\u001b[0;32m<ipython-input-1-8180c0e22205>\u001b[0m in \u001b[0;36m<module>\u001b[0;34m\u001b[0m\n\u001b[0;32m----> 1\u001b[0;31m \u001b[0mmix_str_int\u001b[0m \u001b[0;34m=\u001b[0m \u001b[0ma\u001b[0m \u001b[0;34m+\u001b[0m \u001b[0;34m\"foo\"\u001b[0m\u001b[0;34m\u001b[0m\u001b[0;34m\u001b[0m\u001b[0m\n\u001b[0m",
      "\u001b[0;31mTypeError\u001b[0m: unsupported operand type(s) for +: 'int' and 'str'"
     ]
    }
   ],
   "source": [
    "mix_str_int = a + \"foo\""
   ]
  },
  {
   "cell_type": "markdown",
   "metadata": {
    "slideshow": {
     "slide_type": "subslide"
    }
   },
   "source": [
    "Maybe the following works?"
   ]
  },
  {
   "cell_type": "code",
   "execution_count": 8,
   "metadata": {
    "execution": {
     "iopub.execute_input": "2021-06-03T13:40:32.518609Z",
     "iopub.status.busy": "2021-06-03T13:40:32.515566Z",
     "iopub.status.idle": "2021-06-03T13:40:32.521043Z",
     "shell.execute_reply": "2021-06-03T13:40:32.520619Z"
    },
    "slideshow": {
     "slide_type": "subslide"
    },
    "tags": [
     "raises-exception"
    ]
   },
   "outputs": [
    {
     "ename": "TypeError",
     "evalue": "unsupported operand type(s) for +: 'int' and 'str'",
     "output_type": "error",
     "traceback": [
      "\u001b[0;31m---------------------------------------------------------------------------\u001b[0m",
      "\u001b[0;31mTypeError\u001b[0m                                 Traceback (most recent call last)",
      "\u001b[0;32m<ipython-input-1-7f3f97b2a179>\u001b[0m in \u001b[0;36m<module>\u001b[0;34m\u001b[0m\n\u001b[0;32m----> 1\u001b[0;31m \u001b[0mmix_str_int2\u001b[0m \u001b[0;34m=\u001b[0m \u001b[0ma\u001b[0m \u001b[0;34m+\u001b[0m \u001b[0;34m\"5\"\u001b[0m\u001b[0;34m\u001b[0m\u001b[0;34m\u001b[0m\u001b[0m\n\u001b[0m",
      "\u001b[0;31mTypeError\u001b[0m: unsupported operand type(s) for +: 'int' and 'str'"
     ]
    }
   ],
   "source": [
    "mix_str_int2 = a + \"5\""
   ]
  },
  {
   "cell_type": "markdown",
   "metadata": {
    "slideshow": {
     "slide_type": "subslide"
    }
   },
   "source": [
    "Python is strict on the types, but we can sometimes convert from one type to another, explicitly:"
   ]
  },
  {
   "cell_type": "code",
   "execution_count": 9,
   "metadata": {
    "execution": {
     "iopub.execute_input": "2021-06-03T13:40:32.525521Z",
     "iopub.status.busy": "2021-06-03T13:40:32.525003Z",
     "iopub.status.idle": "2021-06-03T13:40:32.527580Z",
     "shell.execute_reply": "2021-06-03T13:40:32.527992Z"
    },
    "slideshow": {
     "slide_type": "subslide"
    }
   },
   "outputs": [
    {
     "data": {
      "text/plain": [
       "6"
      ]
     },
     "execution_count": 1,
     "metadata": {},
     "output_type": "execute_result"
    }
   ],
   "source": [
    "a + int(\"5\")"
   ]
  },
  {
   "cell_type": "markdown",
   "metadata": {
    "slideshow": {
     "slide_type": "subslide"
    }
   },
   "source": [
    "...which works because `int(\"5\") -> 5`.\n",
    "\n",
    "There are though some implicit conversions in Python, let's look at the following:"
   ]
  },
  {
   "cell_type": "code",
   "execution_count": 10,
   "metadata": {
    "execution": {
     "iopub.execute_input": "2021-06-03T13:40:32.532565Z",
     "iopub.status.busy": "2021-06-03T13:40:32.531604Z",
     "iopub.status.idle": "2021-06-03T13:40:32.534468Z",
     "shell.execute_reply": "2021-06-03T13:40:32.534040Z"
    },
    "slideshow": {
     "slide_type": "subslide"
    }
   },
   "outputs": [
    {
     "name": "stdout",
     "output_type": "stream",
     "text": [
      "<class 'float'>\n"
     ]
    }
   ],
   "source": [
    "f = 1.2\n",
    "print(type(f))"
   ]
  },
  {
   "cell_type": "code",
   "execution_count": 11,
   "metadata": {
    "execution": {
     "iopub.execute_input": "2021-06-03T13:40:32.539234Z",
     "iopub.status.busy": "2021-06-03T13:40:32.538048Z",
     "iopub.status.idle": "2021-06-03T13:40:32.540833Z",
     "shell.execute_reply": "2021-06-03T13:40:32.540421Z"
    },
    "slideshow": {
     "slide_type": "subslide"
    }
   },
   "outputs": [
    {
     "name": "stdout",
     "output_type": "stream",
     "text": [
      "<class 'float'>\n"
     ]
    }
   ],
   "source": [
    "int_plus_float = a + f\n",
    "print(type(int_plus_float))"
   ]
  },
  {
   "cell_type": "markdown",
   "metadata": {
    "slideshow": {
     "slide_type": "subslide"
    }
   },
   "source": [
    "This is one of the few examples, where Python automatically converts the integer type to a float. The above addition _actually_ reads as"
   ]
  },
  {
   "cell_type": "code",
   "execution_count": 12,
   "metadata": {
    "execution": {
     "iopub.execute_input": "2021-06-03T13:40:32.544853Z",
     "iopub.status.busy": "2021-06-03T13:40:32.543878Z",
     "iopub.status.idle": "2021-06-03T13:40:32.545583Z",
     "shell.execute_reply": "2021-06-03T13:40:32.545982Z"
    },
    "slideshow": {
     "slide_type": "subslide"
    }
   },
   "outputs": [],
   "source": [
    "int_plus_float = float(a) + f"
   ]
  },
  {
   "cell_type": "markdown",
   "metadata": {
    "slideshow": {
     "slide_type": "subslide"
    }
   },
   "source": [
    "Similar with booleans as they are in principle 1 (`True`) and 0 (`False`)"
   ]
  },
  {
   "cell_type": "code",
   "execution_count": 13,
   "metadata": {
    "execution": {
     "iopub.execute_input": "2021-06-03T13:40:32.550145Z",
     "iopub.status.busy": "2021-06-03T13:40:32.549667Z",
     "iopub.status.idle": "2021-06-03T13:40:32.552051Z",
     "shell.execute_reply": "2021-06-03T13:40:32.552463Z"
    },
    "slideshow": {
     "slide_type": "subslide"
    }
   },
   "outputs": [
    {
     "data": {
      "text/plain": [
       "6"
      ]
     },
     "execution_count": 1,
     "metadata": {},
     "output_type": "execute_result"
    }
   ],
   "source": [
    "True + 5"
   ]
  },
  {
   "cell_type": "markdown",
   "metadata": {
    "slideshow": {
     "slide_type": "subslide"
    }
   },
   "source": [
    "For readability, it is usually better to write an explicit conversion."
   ]
  },
  {
   "cell_type": "markdown",
   "metadata": {
    "slideshow": {
     "slide_type": "slide"
    }
   },
   "source": [
    "## Container types\n",
    "\n",
    "Python has several container types as also found in other languages. The most important ones are:\n",
    " - list  (~array in other languages)\n",
    " - dict  (~hash table in other languages)\n",
    " \n",
    "They can contain other objects which can then be assigned and accessed via the `[]` operator _(we will have a closer look at operators later on)_\n",
    "\n",
    "A list stores elements by indices, which are integers, while a dict stores elements by a `key`, which can be \"any basic type\" (to be precise: by their \"hash\", it can be any immutable type).\n",
    "\n",
    "Let's look at examples!"
   ]
  },
  {
   "cell_type": "code",
   "execution_count": 14,
   "metadata": {
    "execution": {
     "iopub.execute_input": "2021-06-03T13:40:32.557057Z",
     "iopub.status.busy": "2021-06-03T13:40:32.555949Z",
     "iopub.status.idle": "2021-06-03T13:40:32.558655Z",
     "shell.execute_reply": "2021-06-03T13:40:32.558253Z"
    },
    "slideshow": {
     "slide_type": "subslide"
    }
   },
   "outputs": [
    {
     "name": "stdout",
     "output_type": "stream",
     "text": [
      "[1, 2, 3]\n"
     ]
    }
   ],
   "source": [
    "# creating a list\n",
    "list1 = [1, 2, 3]\n",
    "print(list1)"
   ]
  },
  {
   "cell_type": "markdown",
   "metadata": {
    "slideshow": {
     "slide_type": "subslide"
    }
   },
   "source": [
    "We can access these element by indices, starting from 0"
   ]
  },
  {
   "cell_type": "code",
   "execution_count": 15,
   "metadata": {
    "execution": {
     "iopub.execute_input": "2021-06-03T13:40:32.562591Z",
     "iopub.status.busy": "2021-06-03T13:40:32.562123Z",
     "iopub.status.idle": "2021-06-03T13:40:32.564464Z",
     "shell.execute_reply": "2021-06-03T13:40:32.564867Z"
    },
    "slideshow": {
     "slide_type": "subslide"
    }
   },
   "outputs": [
    {
     "data": {
      "text/plain": [
       "1"
      ]
     },
     "execution_count": 1,
     "metadata": {},
     "output_type": "execute_result"
    }
   ],
   "source": [
    "list1[0]"
   ]
  },
  {
   "cell_type": "markdown",
   "metadata": {
    "slideshow": {
     "slide_type": "subslide"
    }
   },
   "source": [
    "We can also assign a value to an place in the list"
   ]
  },
  {
   "cell_type": "code",
   "execution_count": 16,
   "metadata": {
    "execution": {
     "iopub.execute_input": "2021-06-03T13:40:32.568835Z",
     "iopub.status.busy": "2021-06-03T13:40:32.568026Z",
     "iopub.status.idle": "2021-06-03T13:40:32.570553Z",
     "shell.execute_reply": "2021-06-03T13:40:32.570174Z"
    },
    "slideshow": {
     "slide_type": "subslide"
    }
   },
   "outputs": [
    {
     "name": "stdout",
     "output_type": "stream",
     "text": [
      "[1, 42, 3]\n"
     ]
    }
   ],
   "source": [
    "list1[1] = 42\n",
    "print(list1)"
   ]
  },
  {
   "cell_type": "markdown",
   "metadata": {
    "slideshow": {
     "slide_type": "subslide"
    }
   },
   "source": [
    "and it can be extended with elements"
   ]
  },
  {
   "cell_type": "code",
   "execution_count": 17,
   "metadata": {
    "execution": {
     "iopub.execute_input": "2021-06-03T13:40:32.574361Z",
     "iopub.status.busy": "2021-06-03T13:40:32.573657Z",
     "iopub.status.idle": "2021-06-03T13:40:32.575566Z",
     "shell.execute_reply": "2021-06-03T13:40:32.575980Z"
    },
    "slideshow": {
     "slide_type": "subslide"
    }
   },
   "outputs": [
    {
     "name": "stdout",
     "output_type": "stream",
     "text": [
      "[1, 42, 3, -5]\n"
     ]
    }
   ],
   "source": [
    "list1.append(-5)\n",
    "print(list1)"
   ]
  },
  {
   "cell_type": "markdown",
   "metadata": {
    "slideshow": {
     "slide_type": "subslide"
    }
   },
   "source": [
    "Choosing a value that is not contained in the list raises an error. It is verbose, read and understand it.\n",
    "\n",
    "Being able to understand and interpret errors correctly is a key to becoming better in coding."
   ]
  },
  {
   "cell_type": "code",
   "execution_count": 18,
   "metadata": {
    "execution": {
     "iopub.execute_input": "2021-06-03T13:40:32.579102Z",
     "iopub.status.busy": "2021-06-03T13:40:32.578662Z",
     "iopub.status.idle": "2021-06-03T13:40:32.584086Z",
     "shell.execute_reply": "2021-06-03T13:40:32.583665Z"
    },
    "slideshow": {
     "slide_type": "subslide"
    },
    "tags": [
     "raises-exception"
    ]
   },
   "outputs": [
    {
     "ename": "IndexError",
     "evalue": "list index out of range",
     "output_type": "error",
     "traceback": [
      "\u001b[0;31m---------------------------------------------------------------------------\u001b[0m",
      "\u001b[0;31mIndexError\u001b[0m                                Traceback (most recent call last)",
      "\u001b[0;32m<ipython-input-1-516682614210>\u001b[0m in \u001b[0;36m<module>\u001b[0;34m\u001b[0m\n\u001b[0;32m----> 1\u001b[0;31m \u001b[0mlist1\u001b[0m\u001b[0;34m[\u001b[0m\u001b[0;36m14\u001b[0m\u001b[0;34m]\u001b[0m\u001b[0;34m\u001b[0m\u001b[0;34m\u001b[0m\u001b[0m\n\u001b[0m",
      "\u001b[0;31mIndexError\u001b[0m: list index out of range"
     ]
    }
   ],
   "source": [
    "list1[14]"
   ]
  },
  {
   "cell_type": "markdown",
   "metadata": {
    "slideshow": {
     "slide_type": "subslide"
    }
   },
   "source": [
    "We can play a similar game with dicts"
   ]
  },
  {
   "cell_type": "code",
   "execution_count": 19,
   "metadata": {
    "execution": {
     "iopub.execute_input": "2021-06-03T13:40:32.588344Z",
     "iopub.status.busy": "2021-06-03T13:40:32.587540Z",
     "iopub.status.idle": "2021-06-03T13:40:32.589694Z",
     "shell.execute_reply": "2021-06-03T13:40:32.590031Z"
    },
    "slideshow": {
     "slide_type": "subslide"
    }
   },
   "outputs": [
    {
     "name": "stdout",
     "output_type": "stream",
     "text": [
      "{'name': 'Jonas Eschle', 'age': 42, 5: True, 11: 'hi'}\n"
     ]
    }
   ],
   "source": [
    "person = {'name': \"Jonas Eschle\", 'age': 42, 5: True, 11: \"hi\"}  # we can use strings but also other elements\n",
    "print(person)"
   ]
  },
  {
   "cell_type": "code",
   "execution_count": 20,
   "metadata": {
    "execution": {
     "iopub.execute_input": "2021-06-03T13:40:32.594450Z",
     "iopub.status.busy": "2021-06-03T13:40:32.593388Z",
     "iopub.status.idle": "2021-06-03T13:40:32.596337Z",
     "shell.execute_reply": "2021-06-03T13:40:32.595920Z"
    },
    "slideshow": {
     "slide_type": "subslide"
    }
   },
   "outputs": [
    {
     "name": "stdout",
     "output_type": "stream",
     "text": [
      "Jonas Eschle\n",
      "True\n",
      "hi\n"
     ]
    }
   ],
   "source": [
    "print(person['name'])\n",
    "print(person[5])\n",
    "print(person[11])"
   ]
  },
  {
   "cell_type": "markdown",
   "metadata": {
    "slideshow": {
     "slide_type": "subslide"
    }
   },
   "source": [
    "We can also assign a new value to a key."
   ]
  },
  {
   "cell_type": "code",
   "execution_count": 21,
   "metadata": {
    "execution": {
     "iopub.execute_input": "2021-06-03T13:40:32.599760Z",
     "iopub.status.busy": "2021-06-03T13:40:32.598941Z",
     "iopub.status.idle": "2021-06-03T13:40:32.600677Z",
     "shell.execute_reply": "2021-06-03T13:40:32.601053Z"
    },
    "slideshow": {
     "slide_type": "subslide"
    }
   },
   "outputs": [],
   "source": [
    "person['age'] = '42.00001'"
   ]
  },
  {
   "cell_type": "markdown",
   "metadata": {
    "slideshow": {
     "slide_type": "subslide"
    }
   },
   "source": [
    "... or even extend it by assigning to a key that did not yet exists in the dict"
   ]
  },
  {
   "cell_type": "code",
   "execution_count": 22,
   "metadata": {
    "execution": {
     "iopub.execute_input": "2021-06-03T13:40:32.605212Z",
     "iopub.status.busy": "2021-06-03T13:40:32.604366Z",
     "iopub.status.idle": "2021-06-03T13:40:32.606651Z",
     "shell.execute_reply": "2021-06-03T13:40:32.607049Z"
    },
    "slideshow": {
     "slide_type": "subslide"
    }
   },
   "outputs": [
    {
     "name": "stdout",
     "output_type": "stream",
     "text": [
      "{'name': 'Jonas Eschle', 'age': '42.00001', 5: True, 11: 'hi', 'alias': 'Mayou36'}\n"
     ]
    }
   ],
   "source": [
    "person['alias'] = \"Mayou36\"\n",
    "print(person)"
   ]
  },
  {
   "cell_type": "markdown",
   "metadata": {
    "slideshow": {
     "slide_type": "subslide"
    }
   },
   "source": [
    "As we see this works. Notice, that the dict has changed, same as the list before.\n",
    "\n",
    "Again, selecting a key that is not contained in the dict raises an error."
   ]
  },
  {
   "cell_type": "code",
   "execution_count": 23,
   "metadata": {
    "execution": {
     "iopub.execute_input": "2021-06-03T13:40:32.610069Z",
     "iopub.status.busy": "2021-06-03T13:40:32.609623Z",
     "iopub.status.idle": "2021-06-03T13:40:32.615098Z",
     "shell.execute_reply": "2021-06-03T13:40:32.614661Z"
    },
    "slideshow": {
     "slide_type": "subslide"
    },
    "tags": [
     "raises-exception"
    ]
   },
   "outputs": [
    {
     "ename": "KeyError",
     "evalue": "'nationality'",
     "output_type": "error",
     "traceback": [
      "\u001b[0;31m---------------------------------------------------------------------------\u001b[0m",
      "\u001b[0;31mKeyError\u001b[0m                                  Traceback (most recent call last)",
      "\u001b[0;32m<ipython-input-1-8ccd2afb59b7>\u001b[0m in \u001b[0;36m<module>\u001b[0;34m\u001b[0m\n\u001b[0;32m----> 1\u001b[0;31m \u001b[0mperson\u001b[0m\u001b[0;34m[\u001b[0m\u001b[0;34m'nationality'\u001b[0m\u001b[0;34m]\u001b[0m\u001b[0;34m\u001b[0m\u001b[0;34m\u001b[0m\u001b[0m\n\u001b[0m",
      "\u001b[0;31mKeyError\u001b[0m: 'nationality'"
     ]
    }
   ],
   "source": [
    "person['nationality']"
   ]
  },
  {
   "cell_type": "markdown",
   "metadata": {
    "slideshow": {
     "slide_type": "subslide"
    }
   },
   "source": [
    "As any object in Python, there are many useful methods on `list` and `dict` that help you accomplish things. For example, what if we want to retrieve a value from a dict _only_ if the key is there and otherwise return a default value? We can use `get`:"
   ]
  },
  {
   "cell_type": "code",
   "execution_count": 24,
   "metadata": {
    "execution": {
     "iopub.execute_input": "2021-06-03T13:40:32.619207Z",
     "iopub.status.busy": "2021-06-03T13:40:32.618401Z",
     "iopub.status.idle": "2021-06-03T13:40:32.620545Z",
     "shell.execute_reply": "2021-06-03T13:40:32.620915Z"
    },
    "slideshow": {
     "slide_type": "subslide"
    }
   },
   "outputs": [
    {
     "name": "stdout",
     "output_type": "stream",
     "text": [
      "unknown color\n"
     ]
    }
   ],
   "source": [
    "hair_color = person.get('hair_color', 'unknown color')  # the second argument gets returned if key is not in dict\n",
    "print(hair_color)"
   ]
  },
  {
   "cell_type": "markdown",
   "metadata": {
    "slideshow": {
     "slide_type": "slide"
    }
   },
   "source": [
    "## Mutability\n",
    "\n",
    "Python has a fundamental distinction between mutable and immutable types.\n",
    "\n",
    "Mutable means, an object can be changed\n",
    "Immutable means, an object can not be changed\n",
    "\n",
    "As an example, `5` can not change; in general the basic types we looked at cannot change. We can change the value that is assigned to a variable, but the object `5` remains the same. The list and dicts we have seen above on the other hand are mutable, they have changed over the course of execution.\n",
    "\n",
    "Every mutable object has an immutable counterpart (but not vice-versa):\n",
    " - list -> tuple\n",
    " - dict -> frozendict\n",
    " - set -> frozenset\n",
    " - etc."
   ]
  },
  {
   "cell_type": "code",
   "execution_count": 25,
   "metadata": {
    "execution": {
     "iopub.execute_input": "2021-06-03T13:40:32.624818Z",
     "iopub.status.busy": "2021-06-03T13:40:32.623749Z",
     "iopub.status.idle": "2021-06-03T13:40:32.625382Z",
     "shell.execute_reply": "2021-06-03T13:40:32.625787Z"
    },
    "slideshow": {
     "slide_type": "subslide"
    }
   },
   "outputs": [],
   "source": [
    "# creating a tuple\n",
    "tuple1 = (1, 3, 5)\n",
    "# or from a list\n",
    "tuple_from_list = tuple(list1)"
   ]
  },
  {
   "cell_type": "code",
   "execution_count": 26,
   "metadata": {
    "execution": {
     "iopub.execute_input": "2021-06-03T13:40:32.629799Z",
     "iopub.status.busy": "2021-06-03T13:40:32.628795Z",
     "iopub.status.idle": "2021-06-03T13:40:32.630400Z",
     "shell.execute_reply": "2021-06-03T13:40:32.630808Z"
    }
   },
   "outputs": [],
   "source": [
    "list2 = [4, 5]\n",
    "tuple2 = (3, 4)\n",
    "list3 = list(tuple2)"
   ]
  },
  {
   "cell_type": "code",
   "execution_count": null,
   "metadata": {},
   "outputs": [],
   "source": []
  },
  {
   "cell_type": "markdown",
   "metadata": {
    "slideshow": {
     "slide_type": "subslide"
    }
   },
   "source": [
    "While we can access the elements as we can for a list, we can neither _assign_ nor _append_ (or in generate _mutate_ the object:"
   ]
  },
  {
   "cell_type": "code",
   "execution_count": 27,
   "metadata": {
    "execution": {
     "iopub.execute_input": "2021-06-03T13:40:32.634820Z",
     "iopub.status.busy": "2021-06-03T13:40:32.633988Z",
     "iopub.status.idle": "2021-06-03T13:40:32.636292Z",
     "shell.execute_reply": "2021-06-03T13:40:32.636676Z"
    },
    "slideshow": {
     "slide_type": "subslide"
    }
   },
   "outputs": [
    {
     "name": "stdout",
     "output_type": "stream",
     "text": [
      "3\n"
     ]
    }
   ],
   "source": [
    "print(tuple1[1])  # access works!"
   ]
  },
  {
   "cell_type": "code",
   "execution_count": 28,
   "metadata": {
    "execution": {
     "iopub.execute_input": "2021-06-03T13:40:32.639757Z",
     "iopub.status.busy": "2021-06-03T13:40:32.639275Z",
     "iopub.status.idle": "2021-06-03T13:40:32.644764Z",
     "shell.execute_reply": "2021-06-03T13:40:32.644350Z"
    },
    "slideshow": {
     "slide_type": "subslide"
    },
    "tags": [
     "raises-exception"
    ]
   },
   "outputs": [
    {
     "ename": "TypeError",
     "evalue": "'tuple' object does not support item assignment",
     "output_type": "error",
     "traceback": [
      "\u001b[0;31m---------------------------------------------------------------------------\u001b[0m",
      "\u001b[0;31mTypeError\u001b[0m                                 Traceback (most recent call last)",
      "\u001b[0;32m<ipython-input-1-680883f3794d>\u001b[0m in \u001b[0;36m<module>\u001b[0;34m\u001b[0m\n\u001b[0;32m----> 1\u001b[0;31m \u001b[0mtuple1\u001b[0m\u001b[0;34m[\u001b[0m\u001b[0;36m0\u001b[0m\u001b[0;34m]\u001b[0m \u001b[0;34m=\u001b[0m \u001b[0;36m5\u001b[0m\u001b[0;34m\u001b[0m\u001b[0;34m\u001b[0m\u001b[0m\n\u001b[0m",
      "\u001b[0;31mTypeError\u001b[0m: 'tuple' object does not support item assignment"
     ]
    }
   ],
   "source": [
    "tuple1[0] = 5"
   ]
  },
  {
   "cell_type": "markdown",
   "metadata": {
    "slideshow": {
     "slide_type": "subslide"
    }
   },
   "source": [
    "We will soon see the effects and needs for this..."
   ]
  },
  {
   "cell_type": "markdown",
   "metadata": {
    "slideshow": {
     "slide_type": "slide"
    }
   },
   "source": [
    "## dynamic typing\n",
    "\n",
    "Python is dynamically typed (as opposed to statically typed). This means that a variable, which once was an int, such as `a`, can be assigned a value of another type."
   ]
  },
  {
   "cell_type": "code",
   "execution_count": 29,
   "metadata": {
    "execution": {
     "iopub.execute_input": "2021-06-03T13:40:32.648705Z",
     "iopub.status.busy": "2021-06-03T13:40:32.647634Z",
     "iopub.status.idle": "2021-06-03T13:40:32.649269Z",
     "shell.execute_reply": "2021-06-03T13:40:32.649664Z"
    },
    "slideshow": {
     "slide_type": "subslide"
    }
   },
   "outputs": [],
   "source": [
    "a = 1"
   ]
  },
  {
   "cell_type": "code",
   "execution_count": 30,
   "metadata": {
    "execution": {
     "iopub.execute_input": "2021-06-03T13:40:32.653389Z",
     "iopub.status.busy": "2021-06-03T13:40:32.652378Z",
     "iopub.status.idle": "2021-06-03T13:40:32.654058Z",
     "shell.execute_reply": "2021-06-03T13:40:32.654462Z"
    },
    "slideshow": {
     "slide_type": "subslide"
    }
   },
   "outputs": [],
   "source": [
    "a = \"one\""
   ]
  },
  {
   "cell_type": "code",
   "execution_count": 31,
   "metadata": {
    "execution": {
     "iopub.execute_input": "2021-06-03T13:40:32.658279Z",
     "iopub.status.busy": "2021-06-03T13:40:32.657189Z",
     "iopub.status.idle": "2021-06-03T13:40:32.658853Z",
     "shell.execute_reply": "2021-06-03T13:40:32.659247Z"
    },
    "slideshow": {
     "slide_type": "subslide"
    }
   },
   "outputs": [],
   "source": [
    "a = list1"
   ]
  },
  {
   "cell_type": "markdown",
   "metadata": {
    "slideshow": {
     "slide_type": "subslide"
    }
   },
   "source": [
    "... and so on"
   ]
  },
  {
   "cell_type": "markdown",
   "metadata": {
    "slideshow": {
     "slide_type": "slide"
    }
   },
   "source": [
    "# Assignement and variables\n",
    "\n",
    "We've seen a few things up to now but have not really looked at the assignement and variables itself. Understanding Pythons variable is crucial to understand e.g. the following:"
   ]
  },
  {
   "cell_type": "code",
   "execution_count": 32,
   "metadata": {
    "execution": {
     "iopub.execute_input": "2021-06-03T13:40:32.663745Z",
     "iopub.status.busy": "2021-06-03T13:40:32.662666Z",
     "iopub.status.idle": "2021-06-03T13:40:32.665350Z",
     "shell.execute_reply": "2021-06-03T13:40:32.665748Z"
    },
    "slideshow": {
     "slide_type": "subslide"
    }
   },
   "outputs": [
    {
     "name": "stdout",
     "output_type": "stream",
     "text": [
      "5 5\n"
     ]
    }
   ],
   "source": [
    "a = 5\n",
    "b = a\n",
    "print(a, b)"
   ]
  },
  {
   "cell_type": "code",
   "execution_count": 33,
   "metadata": {
    "execution": {
     "iopub.execute_input": "2021-06-03T13:40:32.669480Z",
     "iopub.status.busy": "2021-06-03T13:40:32.669017Z",
     "iopub.status.idle": "2021-06-03T13:40:32.671314Z",
     "shell.execute_reply": "2021-06-03T13:40:32.671767Z"
    },
    "slideshow": {
     "slide_type": "subslide"
    }
   },
   "outputs": [
    {
     "name": "stdout",
     "output_type": "stream",
     "text": [
      "3 5\n"
     ]
    }
   ],
   "source": [
    "a = 3\n",
    "print(a, b)"
   ]
  },
  {
   "cell_type": "markdown",
   "metadata": {
    "slideshow": {
     "slide_type": "subslide"
    }
   },
   "source": [
    "So far so good, no surprize here."
   ]
  },
  {
   "cell_type": "code",
   "execution_count": 34,
   "metadata": {
    "execution": {
     "iopub.execute_input": "2021-06-03T13:40:32.676326Z",
     "iopub.status.busy": "2021-06-03T13:40:32.675174Z",
     "iopub.status.idle": "2021-06-03T13:40:32.677930Z",
     "shell.execute_reply": "2021-06-03T13:40:32.677496Z"
    },
    "slideshow": {
     "slide_type": "subslide"
    }
   },
   "outputs": [
    {
     "name": "stdout",
     "output_type": "stream",
     "text": [
      "[1, 3] [1, 3]\n"
     ]
    }
   ],
   "source": [
    "list1 = [1, 3]\n",
    "list2 = list1\n",
    "print(list1, list2)"
   ]
  },
  {
   "cell_type": "code",
   "execution_count": 35,
   "metadata": {
    "execution": {
     "iopub.execute_input": "2021-06-03T13:40:32.681565Z",
     "iopub.status.busy": "2021-06-03T13:40:32.681109Z",
     "iopub.status.idle": "2021-06-03T13:40:32.683200Z",
     "shell.execute_reply": "2021-06-03T13:40:32.683601Z"
    },
    "slideshow": {
     "slide_type": "subslide"
    }
   },
   "outputs": [
    {
     "name": "stdout",
     "output_type": "stream",
     "text": [
      "[99, 3] [99, 3]\n"
     ]
    }
   ],
   "source": [
    "list2[0] = 99\n",
    "print(list1, list2)"
   ]
  },
  {
   "cell_type": "markdown",
   "metadata": {
    "slideshow": {
     "slide_type": "subslide"
    }
   },
   "source": [
    "...but that was probably unexpected! Let's have a look at Pythons variable assignement."
   ]
  },
  {
   "cell_type": "markdown",
   "metadata": {
    "slideshow": {
     "slide_type": "slide"
    }
   },
   "source": [
    "## Python variable assignement\n",
    "\n",
    "Assigning something to a variable in Python makes a name point to an actual object, so the name is only a reference. For example creating the variable `a` and assigning it the object `5` looks like this:\n",
    "![assignements1](figs/python_references1.jpg)"
   ]
  },
  {
   "cell_type": "code",
   "execution_count": 36,
   "metadata": {
    "execution": {
     "iopub.execute_input": "2021-06-03T13:40:32.687330Z",
     "iopub.status.busy": "2021-06-03T13:40:32.686378Z",
     "iopub.status.idle": "2021-06-03T13:40:32.687953Z",
     "shell.execute_reply": "2021-06-03T13:40:32.688325Z"
    },
    "slideshow": {
     "slide_type": "subslide"
    }
   },
   "outputs": [],
   "source": [
    "a = 3\n",
    "list_a = [1, 2]"
   ]
  },
  {
   "cell_type": "markdown",
   "metadata": {
    "slideshow": {
     "slide_type": "subslide"
    }
   },
   "source": [
    "![reference2](figs/python_references2.jpg)"
   ]
  },
  {
   "cell_type": "code",
   "execution_count": 37,
   "metadata": {
    "execution": {
     "iopub.execute_input": "2021-06-03T13:40:32.691867Z",
     "iopub.status.busy": "2021-06-03T13:40:32.691023Z",
     "iopub.status.idle": "2021-06-03T13:40:32.692650Z",
     "shell.execute_reply": "2021-06-03T13:40:32.693022Z"
    },
    "slideshow": {
     "slide_type": "subslide"
    }
   },
   "outputs": [],
   "source": [
    "b = a  # this assigns the reference of a to b\n",
    "list_b = list_a"
   ]
  },
  {
   "cell_type": "markdown",
   "metadata": {
    "slideshow": {
     "slide_type": "subslide"
    }
   },
   "source": [
    "Both objects, `b` and `list_b` point now to the same objects in memory as `a` and `list_a` respectively. Re-assigning a variable let's it point to a different object\n",
    "![reference3](figs/python_references3.jpg)"
   ]
  },
  {
   "cell_type": "code",
   "execution_count": 38,
   "metadata": {
    "execution": {
     "iopub.execute_input": "2021-06-03T13:40:32.697281Z",
     "iopub.status.busy": "2021-06-03T13:40:32.696810Z",
     "iopub.status.idle": "2021-06-03T13:40:32.698981Z",
     "shell.execute_reply": "2021-06-03T13:40:32.699351Z"
    },
    "slideshow": {
     "slide_type": "subslide"
    }
   },
   "outputs": [
    {
     "name": "stdout",
     "output_type": "stream",
     "text": [
      "spam 3\n",
      "[1, 5, 2, 'world', 1] [1, 2]\n"
     ]
    }
   ],
   "source": [
    "a = 'spam'\n",
    "list_a = [1, 5, 2, 'world', 1]\n",
    "print(a, b)\n",
    "print(list_a, list_b)"
   ]
  },
  {
   "cell_type": "markdown",
   "metadata": {
    "slideshow": {
     "slide_type": "subslide"
    }
   },
   "source": [
    "Let's make them point to the same object again:"
   ]
  },
  {
   "cell_type": "code",
   "execution_count": 39,
   "metadata": {
    "execution": {
     "iopub.execute_input": "2021-06-03T13:40:32.706038Z",
     "iopub.status.busy": "2021-06-03T13:40:32.702842Z",
     "iopub.status.idle": "2021-06-03T13:40:32.707580Z",
     "shell.execute_reply": "2021-06-03T13:40:32.706494Z"
    },
    "slideshow": {
     "slide_type": "subslide"
    }
   },
   "outputs": [
    {
     "name": "stdout",
     "output_type": "stream",
     "text": [
      "spam spam\n",
      "[1, 5, 2, 'world', 1] [1, 5, 2, 'world', 1]\n"
     ]
    }
   ],
   "source": [
    "b = a\n",
    "list_b = list_a\n",
    "print(a, b)\n",
    "print(list_a, list_b)"
   ]
  },
  {
   "cell_type": "code",
   "execution_count": 40,
   "metadata": {
    "execution": {
     "iopub.execute_input": "2021-06-03T13:40:32.718795Z",
     "iopub.status.busy": "2021-06-03T13:40:32.718288Z",
     "iopub.status.idle": "2021-06-03T13:40:32.722065Z",
     "shell.execute_reply": "2021-06-03T13:40:32.721652Z"
    },
    "slideshow": {
     "slide_type": "subslide"
    }
   },
   "outputs": [
    {
     "name": "stdout",
     "output_type": "stream",
     "text": [
      "[1, 'hello', 2, 'world', 1] [1, 'hello', 2, 'world', 1]\n"
     ]
    }
   ],
   "source": [
    "list_a[1] = 'hello'\n",
    "print(list_a, list_b)"
   ]
  },
  {
   "cell_type": "markdown",
   "metadata": {
    "slideshow": {
     "slide_type": "subslide"
    }
   },
   "source": [
    "Now we understand what happend: the object that both variables are pointing to simply changed. This is impossible with immutable objects (such as `3`), since they are immutable.\n",
    "\n",
    "Mutable objects usually offer the ability to create a copy."
   ]
  },
  {
   "cell_type": "code",
   "execution_count": 41,
   "metadata": {
    "execution": {
     "iopub.execute_input": "2021-06-03T13:40:32.729739Z",
     "iopub.status.busy": "2021-06-03T13:40:32.729247Z",
     "iopub.status.idle": "2021-06-03T13:40:32.732460Z",
     "shell.execute_reply": "2021-06-03T13:40:32.732023Z"
    },
    "slideshow": {
     "slide_type": "subslide"
    }
   },
   "outputs": [],
   "source": [
    "list_c = list_a.copy()  # now there are two identical lists in the memory"
   ]
  },
  {
   "cell_type": "code",
   "execution_count": 42,
   "metadata": {
    "execution": {
     "iopub.execute_input": "2021-06-03T13:40:32.737074Z",
     "iopub.status.busy": "2021-06-03T13:40:32.736192Z",
     "iopub.status.idle": "2021-06-03T13:40:32.738580Z",
     "shell.execute_reply": "2021-06-03T13:40:32.738980Z"
    },
    "slideshow": {
     "slide_type": "subslide"
    }
   },
   "outputs": [
    {
     "name": "stdout",
     "output_type": "stream",
     "text": [
      "[1, 'hello', 'my', 'world', 1]\n",
      "[1, 'hello', 'my', 'world', 1]\n",
      "[1, 'hello', 2, 'world', 1]\n"
     ]
    }
   ],
   "source": [
    "list_a[2] = 'my'\n",
    "print(list_a)\n",
    "print(list_b)\n",
    "print(list_c)"
   ]
  },
  {
   "cell_type": "markdown",
   "metadata": {
    "slideshow": {
     "slide_type": "subslide"
    }
   },
   "source": [
    "`list_a` and `list_b`, pointing to the same object that was mutated, have changed, while `list_c`, pointing to a different object, remained the same.\n",
    "\n",
    "Let's have a look at two operators: the \"trivial\" `==` and the `is`:\n",
    "we know `==` pretty well, it tells whether the left and the right side are the same. More specific, it tells whether both sides have/represent the same _value_, not whether they are in fact the same object!\n",
    "The operator `is` tells us, whether two objects _are_ the same object (compare our assignement model above!)."
   ]
  },
  {
   "cell_type": "code",
   "execution_count": 43,
   "metadata": {
    "execution": {
     "iopub.execute_input": "2021-06-03T13:40:32.743716Z",
     "iopub.status.busy": "2021-06-03T13:40:32.742700Z",
     "iopub.status.idle": "2021-06-03T13:40:32.745333Z",
     "shell.execute_reply": "2021-06-03T13:40:32.744930Z"
    },
    "slideshow": {
     "slide_type": "subslide"
    }
   },
   "outputs": [
    {
     "name": "stdout",
     "output_type": "stream",
     "text": [
      "False\n",
      "True\n"
     ]
    }
   ],
   "source": [
    "print(list_a == list_c)  # not the same\n",
    "print(list_a == list_b)  # the same"
   ]
  },
  {
   "cell_type": "code",
   "execution_count": 44,
   "metadata": {
    "execution": {
     "iopub.execute_input": "2021-06-03T13:40:32.749672Z",
     "iopub.status.busy": "2021-06-03T13:40:32.748620Z",
     "iopub.status.idle": "2021-06-03T13:40:32.751330Z",
     "shell.execute_reply": "2021-06-03T13:40:32.750903Z"
    },
    "slideshow": {
     "slide_type": "subslide"
    }
   },
   "outputs": [
    {
     "name": "stdout",
     "output_type": "stream",
     "text": [
      "True\n"
     ]
    }
   ],
   "source": [
    "list_c[2] = 'my'  # make it the same as the other lists\n",
    "print(list_a == list_c)"
   ]
  },
  {
   "cell_type": "markdown",
   "metadata": {
    "slideshow": {
     "slide_type": "subslide"
    }
   },
   "source": [
    "But, as we learned before, they are _not the same objects_!"
   ]
  },
  {
   "cell_type": "code",
   "execution_count": 45,
   "metadata": {
    "execution": {
     "iopub.execute_input": "2021-06-03T13:40:32.755667Z",
     "iopub.status.busy": "2021-06-03T13:40:32.754774Z",
     "iopub.status.idle": "2021-06-03T13:40:32.757596Z",
     "shell.execute_reply": "2021-06-03T13:40:32.757212Z"
    },
    "slideshow": {
     "slide_type": "subslide"
    }
   },
   "outputs": [
    {
     "name": "stdout",
     "output_type": "stream",
     "text": [
      "False\n",
      "True\n"
     ]
    }
   ],
   "source": [
    "print(list_a is list_c)  # nope!\n",
    "print(list_a is list_b)  # yes!"
   ]
  },
  {
   "cell_type": "markdown",
   "metadata": {
    "slideshow": {
     "slide_type": "subslide"
    }
   },
   "source": [
    "Normally, we are only interested to compare the values, using `==`."
   ]
  },
  {
   "cell_type": "markdown",
   "metadata": {
    "slideshow": {
     "slide_type": "slide"
    }
   },
   "source": [
    "## Sugar: comprehensions\n",
    "\n",
    "(taken from advanced Python lecture)"
   ]
  },
  {
   "cell_type": "markdown",
   "metadata": {
    "slideshow": {
     "slide_type": "subslide"
    }
   },
   "source": [
    "**List comprehensions**"
   ]
  },
  {
   "cell_type": "code",
   "execution_count": 46,
   "metadata": {
    "execution": {
     "iopub.execute_input": "2021-06-03T13:40:32.762677Z",
     "iopub.status.busy": "2021-06-03T13:40:32.761609Z",
     "iopub.status.idle": "2021-06-03T13:40:32.764351Z",
     "shell.execute_reply": "2021-06-03T13:40:32.763920Z"
    },
    "slideshow": {
     "slide_type": "subslide"
    }
   },
   "outputs": [
    {
     "name": "stdout",
     "output_type": "stream",
     "text": [
      "Sum of squares for 10 is 285\n"
     ]
    }
   ],
   "source": [
    "N = 10\n",
    "\n",
    "list_of_squares = [i**2 for i in range(N)]\n",
    "sum_of_squares = sum(list_of_squares)\n",
    "\n",
    "print('Sum of squares for', N, 'is', sum_of_squares)"
   ]
  },
  {
   "cell_type": "code",
   "execution_count": 47,
   "metadata": {
    "execution": {
     "iopub.execute_input": "2021-06-03T13:40:32.768676Z",
     "iopub.status.busy": "2021-06-03T13:40:32.768170Z",
     "iopub.status.idle": "2021-06-03T13:40:32.770576Z",
     "shell.execute_reply": "2021-06-03T13:40:32.770976Z"
    }
   },
   "outputs": [
    {
     "data": {
      "text/plain": [
       "[1, 3, 5, 7, 9]"
      ]
     },
     "execution_count": 1,
     "metadata": {},
     "output_type": "execute_result"
    }
   ],
   "source": [
    "# [obj_to_return if ... else ... for i in ... for j in ... if ...]\n",
    "[i for i in range(10) if i % 2]"
   ]
  },
  {
   "cell_type": "code",
   "execution_count": 48,
   "metadata": {
    "execution": {
     "iopub.execute_input": "2021-06-03T13:40:32.774959Z",
     "iopub.status.busy": "2021-06-03T13:40:32.774455Z",
     "iopub.status.idle": "2021-06-03T13:40:32.776857Z",
     "shell.execute_reply": "2021-06-03T13:40:32.777264Z"
    }
   },
   "outputs": [
    {
     "data": {
      "text/plain": [
       "'spam'"
      ]
     },
     "execution_count": 1,
     "metadata": {},
     "output_type": "execute_result"
    }
   ],
   "source": [
    "a"
   ]
  },
  {
   "cell_type": "markdown",
   "metadata": {
    "slideshow": {
     "slide_type": "subslide"
    }
   },
   "source": [
    "**Dictionary comprehensions**"
   ]
  },
  {
   "cell_type": "code",
   "execution_count": 49,
   "metadata": {
    "execution": {
     "iopub.execute_input": "2021-06-03T13:40:32.781806Z",
     "iopub.status.busy": "2021-06-03T13:40:32.780758Z",
     "iopub.status.idle": "2021-06-03T13:40:32.783526Z",
     "shell.execute_reply": "2021-06-03T13:40:32.783069Z"
    },
    "slideshow": {
     "slide_type": "subslide"
    }
   },
   "outputs": [
    {
     "name": "stdout",
     "output_type": "stream",
     "text": [
      "{0: 0, 1: 1, 2: 4, 3: 9, 4: 16, 5: 25, 6: 36, 7: 49, 8: 64, 9: 81}\n"
     ]
    }
   ],
   "source": [
    "squares = {i: i**2 for i in range(10)}\n",
    "print(squares)"
   ]
  },
  {
   "cell_type": "code",
   "execution_count": 50,
   "metadata": {
    "execution": {
     "iopub.execute_input": "2021-06-03T13:40:32.788076Z",
     "iopub.status.busy": "2021-06-03T13:40:32.787025Z",
     "iopub.status.idle": "2021-06-03T13:40:32.789793Z",
     "shell.execute_reply": "2021-06-03T13:40:32.789368Z"
    },
    "slideshow": {
     "slide_type": "subslide"
    }
   },
   "outputs": [
    {
     "name": "stdout",
     "output_type": "stream",
     "text": [
      "The square of 5 is 25\n"
     ]
    }
   ],
   "source": [
    "N = 5\n",
    "print('The square of', N, 'is', squares[N])"
   ]
  },
  {
   "cell_type": "markdown",
   "metadata": {
    "slideshow": {
     "slide_type": "slide"
    }
   },
   "source": [
    "## Sugar: using Markdown"
   ]
  },
  {
   "cell_type": "markdown",
   "metadata": {
    "slideshow": {
     "slide_type": "subslide"
    }
   },
   "source": [
    "Write comments inline about your code:\n",
    "\n",
    "Use LaTeX:\n",
    "\n",
    "$A = \\frac{1}{B+C}$\n",
    "\n",
    "Show lists:\n",
    "\n",
    "* A wonderful\n",
    "* List\n",
    "* This is\n",
    "\n",
    "Show code with syntax highlighting:\n",
    "\n",
    "**Python:** (but in a sad grey world)\n",
    "\n",
    "```\n",
    "print('Hello world')\n",
    "```\n",
    "\n",
    "**Python:**\n",
    "\n",
    "```python\n",
    "print('Hello world')\n",
    "```\n",
    "\n",
    "**C++:**\n",
    "\n",
    "```cpp\n",
    "#include <iostream>\n",
    "\n",
    "std::cout << \"Hello world\" << std::endl;\n",
    "```\n",
    "\n",
    "**Bash:**\n",
    "\n",
    "```bash\n",
    "echo \"Hello world\"\n",
    "```"
   ]
  },
  {
   "cell_type": "markdown",
   "metadata": {
    "slideshow": {
     "slide_type": "subslide"
    }
   },
   "source": [
    "**f-strings**"
   ]
  },
  {
   "cell_type": "code",
   "execution_count": 51,
   "metadata": {
    "execution": {
     "iopub.execute_input": "2021-06-03T13:40:32.794383Z",
     "iopub.status.busy": "2021-06-03T13:40:32.793535Z",
     "iopub.status.idle": "2021-06-03T13:40:32.796250Z",
     "shell.execute_reply": "2021-06-03T13:40:32.795839Z"
    },
    "slideshow": {
     "slide_type": "subslide"
    }
   },
   "outputs": [
    {
     "name": "stdout",
     "output_type": "stream",
     "text": [
      "(PT > 1789.23) & (2 < ETA < 5)\n"
     ]
    }
   ],
   "source": [
    "pt_cut = 1789.234567890987654\n",
    "eta_low = 2\n",
    "eta_high = 5\n",
    "\n",
    "cut_string = f'(PT > {pt_cut:.2f}) & ({eta_low} < ETA < {eta_high})'\n",
    "print(cut_string)"
   ]
  }
 ],
 "metadata": {
  "celltoolbar": "Tags",
  "kernelspec": {
   "display_name": "Python 3",
   "language": "python",
   "name": "python3"
  },
  "language_info": {
   "codemirror_mode": {
    "name": "ipython",
    "version": 3
   },
   "file_extension": ".py",
   "mimetype": "text/x-python",
   "name": "python",
   "nbconvert_exporter": "python",
   "pygments_lexer": "ipython3",
   "version": "3.8.10"
  },
  "nbsphinx": {
   "execute": "auto"
  }
 },
 "nbformat": 4,
 "nbformat_minor": 4
}
